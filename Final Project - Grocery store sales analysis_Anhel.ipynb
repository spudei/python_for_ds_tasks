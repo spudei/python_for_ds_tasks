{
 "cells": [
  {
   "cell_type": "markdown",
   "id": "5370f21d",
   "metadata": {
    "ExecuteTime": {
     "end_time": "2022-12-18T08:04:15.713512Z",
     "start_time": "2022-12-18T08:04:15.663451Z"
    }
   },
   "source": [
    "# Вітаю на фінальному проєкті!\n",
    "Протягом курсу ми навчились завантажувати дані в Python, трансформувати їх, чистити, агрегувати, знаходити з допомогою даних відповіді на наші питання. \n",
    "Задача фінального проєкту - продемонструвати той рівень роботи з даними, на якому ви є зараз. \n",
    "\n",
    "Цей ноутбук буде присвячений аналізу даних з файла `Grocery DataBase.xlsx`, який є в папці `Дані` на Диску. Так, це Excel файл, але ми можемо дуже просто завантажувати дані з нього у Python. Покажу пару команд для роботи з Excel файлом."
   ]
  },
  {
   "cell_type": "markdown",
   "id": "ab4e745e",
   "metadata": {},
   "source": [
    "Для початку встановимо бібліотеку, яка потрібна для роботи з Excel файлами з pandas. Можна встановити тут, або в терміналі, але якщо Ви встановлюєте в терміналі, то після того треба перезапустити ядро (Kernel) ноутбуку, аби бібліотека точно підтягнулась. Іноді підтягується і без того, але це на випадок, що робити, якщо компілятор каже, що її не бачить."
   ]
  },
  {
   "cell_type": "code",
   "execution_count": null,
   "id": "8260300e",
   "metadata": {
    "ExecuteTime": {
     "end_time": "2022-12-29T21:18:06.732550Z",
     "start_time": "2022-12-29T21:18:03.269564Z"
    }
   },
   "outputs": [],
   "source": [
    "!pip install openpyxl"
   ]
  },
  {
   "cell_type": "code",
   "execution_count": 1,
   "id": "9f8741e0",
   "metadata": {
    "ExecuteTime": {
     "end_time": "2023-03-26T18:11:56.536548Z",
     "start_time": "2023-03-26T18:11:55.799895Z"
    }
   },
   "outputs": [],
   "source": [
    "import pandas as pd\n",
    "import matplotlib.pyplot as plt"
   ]
  },
  {
   "cell_type": "markdown",
   "id": "ee6256e0",
   "metadata": {},
   "source": [
    "Ось так можемо переглянути, які є листки в Excel файлі:"
   ]
  },
  {
   "cell_type": "code",
   "execution_count": 2,
   "id": "2b13dd59",
   "metadata": {
    "ExecuteTime": {
     "end_time": "2023-03-26T18:12:03.680168Z",
     "start_time": "2023-03-26T18:12:03.677620Z"
    }
   },
   "outputs": [],
   "source": [
    "# замініть на шлях до файлу на своєму комп`ютері\n",
    "path_to_file = 'Grocery Database.xlsx'"
   ]
  },
  {
   "cell_type": "code",
   "execution_count": 3,
   "id": "54c01751",
   "metadata": {
    "ExecuteTime": {
     "end_time": "2023-03-26T18:12:52.710942Z",
     "start_time": "2023-03-26T18:12:44.489284Z"
    },
    "scrolled": true
   },
   "outputs": [
    {
     "data": {
      "text/plain": [
       "['Grosto DB', 'Sheet2', 'Fact Summary']"
      ]
     },
     "execution_count": 3,
     "metadata": {},
     "output_type": "execute_result"
    }
   ],
   "source": [
    "xl = pd.ExcelFile(path_to_file)\n",
    "xl.sheet_names"
   ]
  },
  {
   "cell_type": "markdown",
   "id": "1ea6884d",
   "metadata": {},
   "source": [
    "А так можемо зчитати конкретний листок:"
   ]
  },
  {
   "cell_type": "code",
   "execution_count": 4,
   "id": "1341eb0b",
   "metadata": {
    "ExecuteTime": {
     "end_time": "2023-03-26T18:12:52.732634Z",
     "start_time": "2023-03-26T18:12:52.713195Z"
    },
    "scrolled": true
   },
   "outputs": [
    {
     "data": {
      "text/html": [
       "<div>\n",
       "<style scoped>\n",
       "    .dataframe tbody tr th:only-of-type {\n",
       "        vertical-align: middle;\n",
       "    }\n",
       "\n",
       "    .dataframe tbody tr th {\n",
       "        vertical-align: top;\n",
       "    }\n",
       "\n",
       "    .dataframe thead th {\n",
       "        text-align: right;\n",
       "    }\n",
       "</style>\n",
       "<table border=\"1\" class=\"dataframe\">\n",
       "  <thead>\n",
       "    <tr style=\"text-align: right;\">\n",
       "      <th></th>\n",
       "      <th>S.No.</th>\n",
       "      <th>Column Name</th>\n",
       "      <th>Description of the Column names</th>\n",
       "    </tr>\n",
       "  </thead>\n",
       "  <tbody>\n",
       "    <tr>\n",
       "      <th>0</th>\n",
       "      <td>1</td>\n",
       "      <td>Receipt Number</td>\n",
       "      <td>Transaction Number</td>\n",
       "    </tr>\n",
       "    <tr>\n",
       "      <th>1</th>\n",
       "      <td>2</td>\n",
       "      <td>Date</td>\n",
       "      <td>Date of Transaction</td>\n",
       "    </tr>\n",
       "    <tr>\n",
       "      <th>2</th>\n",
       "      <td>3</td>\n",
       "      <td>Year</td>\n",
       "      <td>Year of Transaction</td>\n",
       "    </tr>\n",
       "    <tr>\n",
       "      <th>3</th>\n",
       "      <td>4</td>\n",
       "      <td>Month</td>\n",
       "      <td>Month of Transaction</td>\n",
       "    </tr>\n",
       "    <tr>\n",
       "      <th>4</th>\n",
       "      <td>5</td>\n",
       "      <td>Time</td>\n",
       "      <td>Time of the transaction</td>\n",
       "    </tr>\n",
       "    <tr>\n",
       "      <th>5</th>\n",
       "      <td>6</td>\n",
       "      <td>Mobile Number</td>\n",
       "      <td>Monbile number of the customer</td>\n",
       "    </tr>\n",
       "    <tr>\n",
       "      <th>6</th>\n",
       "      <td>7</td>\n",
       "      <td>Membership ID</td>\n",
       "      <td>Unique Membership ID of the Customer</td>\n",
       "    </tr>\n",
       "    <tr>\n",
       "      <th>7</th>\n",
       "      <td>8</td>\n",
       "      <td>Loyalty Card Points</td>\n",
       "      <td>Loyalty Points earned by customer (10 Points/1...</td>\n",
       "    </tr>\n",
       "    <tr>\n",
       "      <th>8</th>\n",
       "      <td>9</td>\n",
       "      <td>Age</td>\n",
       "      <td>Age of the Customer in the Company Database</td>\n",
       "    </tr>\n",
       "    <tr>\n",
       "      <th>9</th>\n",
       "      <td>10</td>\n",
       "      <td>Gender</td>\n",
       "      <td>Gender of the customer</td>\n",
       "    </tr>\n",
       "    <tr>\n",
       "      <th>10</th>\n",
       "      <td>11</td>\n",
       "      <td>City</td>\n",
       "      <td>City Name of store</td>\n",
       "    </tr>\n",
       "    <tr>\n",
       "      <th>11</th>\n",
       "      <td>12</td>\n",
       "      <td>Country</td>\n",
       "      <td>Country Name of store</td>\n",
       "    </tr>\n",
       "    <tr>\n",
       "      <th>12</th>\n",
       "      <td>13</td>\n",
       "      <td>Category</td>\n",
       "      <td>Category of Item bought by customer</td>\n",
       "    </tr>\n",
       "    <tr>\n",
       "      <th>13</th>\n",
       "      <td>14</td>\n",
       "      <td>Sub_Category</td>\n",
       "      <td>Sub-Category of Item bought by customer</td>\n",
       "    </tr>\n",
       "    <tr>\n",
       "      <th>14</th>\n",
       "      <td>15</td>\n",
       "      <td>Items</td>\n",
       "      <td>Name if the item  bought by customer</td>\n",
       "    </tr>\n",
       "    <tr>\n",
       "      <th>15</th>\n",
       "      <td>16</td>\n",
       "      <td>Brand</td>\n",
       "      <td>Brand of the Item bought</td>\n",
       "    </tr>\n",
       "    <tr>\n",
       "      <th>16</th>\n",
       "      <td>17</td>\n",
       "      <td>Description</td>\n",
       "      <td>Description of the Item (weight/volume/pack si...</td>\n",
       "    </tr>\n",
       "    <tr>\n",
       "      <th>17</th>\n",
       "      <td>18</td>\n",
       "      <td>Price</td>\n",
       "      <td>Price per unit of the Item</td>\n",
       "    </tr>\n",
       "    <tr>\n",
       "      <th>18</th>\n",
       "      <td>19</td>\n",
       "      <td>QTY</td>\n",
       "      <td>Quantity bought by the cistomer</td>\n",
       "    </tr>\n",
       "    <tr>\n",
       "      <th>19</th>\n",
       "      <td>20</td>\n",
       "      <td>DISC</td>\n",
       "      <td>Discount offered by store</td>\n",
       "    </tr>\n",
       "    <tr>\n",
       "      <th>20</th>\n",
       "      <td>21</td>\n",
       "      <td>Net Bill Amount</td>\n",
       "      <td>Amount exclusive of tax payable to customer</td>\n",
       "    </tr>\n",
       "    <tr>\n",
       "      <th>21</th>\n",
       "      <td>22</td>\n",
       "      <td>GST</td>\n",
       "      <td>Tax Payable</td>\n",
       "    </tr>\n",
       "    <tr>\n",
       "      <th>22</th>\n",
       "      <td>23</td>\n",
       "      <td>Gross Bill Amount</td>\n",
       "      <td>Gross Bill to be paid by customer inclusive of...</td>\n",
       "    </tr>\n",
       "    <tr>\n",
       "      <th>23</th>\n",
       "      <td>24</td>\n",
       "      <td>Payment Mode</td>\n",
       "      <td>Mode of payment opted by customer</td>\n",
       "    </tr>\n",
       "    <tr>\n",
       "      <th>24</th>\n",
       "      <td>25</td>\n",
       "      <td>Bank Name</td>\n",
       "      <td>Name of the Bank</td>\n",
       "    </tr>\n",
       "    <tr>\n",
       "      <th>25</th>\n",
       "      <td>26</td>\n",
       "      <td>% Profit Margin</td>\n",
       "      <td>Percentage profit margin of store</td>\n",
       "    </tr>\n",
       "    <tr>\n",
       "      <th>26</th>\n",
       "      <td>27</td>\n",
       "      <td>% Operating Cost</td>\n",
       "      <td>Percentage operating cost of store</td>\n",
       "    </tr>\n",
       "    <tr>\n",
       "      <th>27</th>\n",
       "      <td>28</td>\n",
       "      <td>% Product Cost</td>\n",
       "      <td>Percentage product cost to store</td>\n",
       "    </tr>\n",
       "    <tr>\n",
       "      <th>28</th>\n",
       "      <td>29</td>\n",
       "      <td>Profit Margin</td>\n",
       "      <td>Profit Margin earned by store</td>\n",
       "    </tr>\n",
       "    <tr>\n",
       "      <th>29</th>\n",
       "      <td>30</td>\n",
       "      <td>Operating Cost</td>\n",
       "      <td>Operating cost beared by the store</td>\n",
       "    </tr>\n",
       "    <tr>\n",
       "      <th>30</th>\n",
       "      <td>31</td>\n",
       "      <td>Product Cost</td>\n",
       "      <td>Product Cost for the store</td>\n",
       "    </tr>\n",
       "  </tbody>\n",
       "</table>\n",
       "</div>"
      ],
      "text/plain": [
       "    S.No.          Column Name  \\\n",
       "0       1       Receipt Number   \n",
       "1       2                 Date   \n",
       "2       3                 Year   \n",
       "3       4                Month   \n",
       "4       5                 Time   \n",
       "5       6        Mobile Number   \n",
       "6       7        Membership ID   \n",
       "7       8  Loyalty Card Points   \n",
       "8       9                  Age   \n",
       "9      10               Gender   \n",
       "10     11                 City   \n",
       "11     12              Country   \n",
       "12     13             Category   \n",
       "13     14         Sub_Category   \n",
       "14     15                Items   \n",
       "15     16               Brand    \n",
       "16     17         Description    \n",
       "17     18                Price   \n",
       "18     19                  QTY   \n",
       "19     20                 DISC   \n",
       "20     21      Net Bill Amount   \n",
       "21     22                  GST   \n",
       "22     23    Gross Bill Amount   \n",
       "23     24         Payment Mode   \n",
       "24     25            Bank Name   \n",
       "25     26      % Profit Margin   \n",
       "26     27     % Operating Cost   \n",
       "27     28       % Product Cost   \n",
       "28     29        Profit Margin   \n",
       "29     30       Operating Cost   \n",
       "30     31         Product Cost   \n",
       "\n",
       "                      Description of the Column names  \n",
       "0                                  Transaction Number  \n",
       "1                                 Date of Transaction  \n",
       "2                                 Year of Transaction  \n",
       "3                                Month of Transaction  \n",
       "4                             Time of the transaction  \n",
       "5                      Monbile number of the customer  \n",
       "6                Unique Membership ID of the Customer  \n",
       "7   Loyalty Points earned by customer (10 Points/1...  \n",
       "8         Age of the Customer in the Company Database  \n",
       "9                              Gender of the customer  \n",
       "10                                 City Name of store  \n",
       "11                              Country Name of store  \n",
       "12                Category of Item bought by customer  \n",
       "13            Sub-Category of Item bought by customer  \n",
       "14               Name if the item  bought by customer  \n",
       "15                           Brand of the Item bought  \n",
       "16  Description of the Item (weight/volume/pack si...  \n",
       "17                         Price per unit of the Item  \n",
       "18                    Quantity bought by the cistomer  \n",
       "19                          Discount offered by store  \n",
       "20        Amount exclusive of tax payable to customer  \n",
       "21                                        Tax Payable  \n",
       "22  Gross Bill to be paid by customer inclusive of...  \n",
       "23                  Mode of payment opted by customer  \n",
       "24                                   Name of the Bank  \n",
       "25                  Percentage profit margin of store  \n",
       "26                 Percentage operating cost of store  \n",
       "27                   Percentage product cost to store  \n",
       "28                      Profit Margin earned by store  \n",
       "29                 Operating cost beared by the store  \n",
       "30                         Product Cost for the store  "
      ]
     },
     "execution_count": 4,
     "metadata": {},
     "output_type": "execute_result"
    }
   ],
   "source": [
    "xl.parse('Fact Summary') #.head(3)"
   ]
  },
  {
   "cell_type": "code",
   "execution_count": 5,
   "id": "c70354f0",
   "metadata": {
    "scrolled": false
   },
   "outputs": [
    {
     "data": {
      "text/html": [
       "<div>\n",
       "<style scoped>\n",
       "    .dataframe tbody tr th:only-of-type {\n",
       "        vertical-align: middle;\n",
       "    }\n",
       "\n",
       "    .dataframe tbody tr th {\n",
       "        vertical-align: top;\n",
       "    }\n",
       "\n",
       "    .dataframe thead th {\n",
       "        text-align: right;\n",
       "    }\n",
       "</style>\n",
       "<table border=\"1\" class=\"dataframe\">\n",
       "  <thead>\n",
       "    <tr style=\"text-align: right;\">\n",
       "      <th></th>\n",
       "      <th>13.1769</th>\n",
       "      <th>Unnamed: 1</th>\n",
       "      <th>Unnamed: 2</th>\n",
       "    </tr>\n",
       "  </thead>\n",
       "  <tbody>\n",
       "    <tr>\n",
       "      <th>0</th>\n",
       "      <td>3.4848</td>\n",
       "      <td>NaN</td>\n",
       "      <td>NaN</td>\n",
       "    </tr>\n",
       "    <tr>\n",
       "      <th>1</th>\n",
       "      <td>4.3659</td>\n",
       "      <td>NaN</td>\n",
       "      <td>NaN</td>\n",
       "    </tr>\n",
       "    <tr>\n",
       "      <th>2</th>\n",
       "      <td>2.7819</td>\n",
       "      <td>NaN</td>\n",
       "      <td>NaN</td>\n",
       "    </tr>\n",
       "    <tr>\n",
       "      <th>3</th>\n",
       "      <td>3.2472</td>\n",
       "      <td>NaN</td>\n",
       "      <td>NaN</td>\n",
       "    </tr>\n",
       "    <tr>\n",
       "      <th>4</th>\n",
       "      <td>3.7125</td>\n",
       "      <td>NaN</td>\n",
       "      <td>NaN</td>\n",
       "    </tr>\n",
       "    <tr>\n",
       "      <th>5</th>\n",
       "      <td>NaN</td>\n",
       "      <td>NaN</td>\n",
       "      <td>NaN</td>\n",
       "    </tr>\n",
       "    <tr>\n",
       "      <th>6</th>\n",
       "      <td>30.7692</td>\n",
       "      <td>NaN</td>\n",
       "      <td>NaN</td>\n",
       "    </tr>\n",
       "    <tr>\n",
       "      <th>7</th>\n",
       "      <td>38.3526</td>\n",
       "      <td>0.802272</td>\n",
       "      <td>NaN</td>\n",
       "    </tr>\n",
       "    <tr>\n",
       "      <th>8</th>\n",
       "      <td>NaN</td>\n",
       "      <td>NaN</td>\n",
       "      <td>NaN</td>\n",
       "    </tr>\n",
       "    <tr>\n",
       "      <th>9</th>\n",
       "      <td>NaN</td>\n",
       "      <td>NaN</td>\n",
       "      <td>NaN</td>\n",
       "    </tr>\n",
       "    <tr>\n",
       "      <th>10</th>\n",
       "      <td>38.3526</td>\n",
       "      <td>0.100000</td>\n",
       "      <td>42.18786</td>\n",
       "    </tr>\n",
       "    <tr>\n",
       "      <th>11</th>\n",
       "      <td>NaN</td>\n",
       "      <td>42.187860</td>\n",
       "      <td>NaN</td>\n",
       "    </tr>\n",
       "  </tbody>\n",
       "</table>\n",
       "</div>"
      ],
      "text/plain": [
       "    13.1769  Unnamed: 1  Unnamed: 2\n",
       "0    3.4848         NaN         NaN\n",
       "1    4.3659         NaN         NaN\n",
       "2    2.7819         NaN         NaN\n",
       "3    3.2472         NaN         NaN\n",
       "4    3.7125         NaN         NaN\n",
       "5       NaN         NaN         NaN\n",
       "6   30.7692         NaN         NaN\n",
       "7   38.3526    0.802272         NaN\n",
       "8       NaN         NaN         NaN\n",
       "9       NaN         NaN         NaN\n",
       "10  38.3526    0.100000    42.18786\n",
       "11      NaN   42.187860         NaN"
      ]
     },
     "execution_count": 5,
     "metadata": {},
     "output_type": "execute_result"
    }
   ],
   "source": [
    "xl.parse('Sheet2')"
   ]
  },
  {
   "cell_type": "code",
   "execution_count": 4,
   "id": "7030e01b",
   "metadata": {},
   "outputs": [],
   "source": [
    "df_grocery = xl.parse('Grosto DB')"
   ]
  },
  {
   "cell_type": "code",
   "execution_count": 7,
   "id": "36796335",
   "metadata": {
    "scrolled": true
   },
   "outputs": [
    {
     "data": {
      "text/html": [
       "<div>\n",
       "<style scoped>\n",
       "    .dataframe tbody tr th:only-of-type {\n",
       "        vertical-align: middle;\n",
       "    }\n",
       "\n",
       "    .dataframe tbody tr th {\n",
       "        vertical-align: top;\n",
       "    }\n",
       "\n",
       "    .dataframe thead th {\n",
       "        text-align: right;\n",
       "    }\n",
       "</style>\n",
       "<table border=\"1\" class=\"dataframe\">\n",
       "  <thead>\n",
       "    <tr style=\"text-align: right;\">\n",
       "      <th></th>\n",
       "      <th>Receipt Number</th>\n",
       "      <th>Date</th>\n",
       "      <th>Year</th>\n",
       "      <th>Month</th>\n",
       "      <th>Time</th>\n",
       "      <th>Mobile Number</th>\n",
       "      <th>Membership ID</th>\n",
       "      <th>Loyalty Card Points</th>\n",
       "      <th>Age</th>\n",
       "      <th>Gender</th>\n",
       "      <th>...</th>\n",
       "      <th>GST</th>\n",
       "      <th>Gross Bill Amount</th>\n",
       "      <th>Payment Mode</th>\n",
       "      <th>Bank Name</th>\n",
       "      <th>% Profit Margin</th>\n",
       "      <th>% Operating Cost</th>\n",
       "      <th>% Product Cost</th>\n",
       "      <th>Profit Margin</th>\n",
       "      <th>Operating Cost</th>\n",
       "      <th>Product Cost</th>\n",
       "    </tr>\n",
       "  </thead>\n",
       "  <tbody>\n",
       "    <tr>\n",
       "      <th>0</th>\n",
       "      <td>GIJ00001</td>\n",
       "      <td>2016-01-02</td>\n",
       "      <td>2016</td>\n",
       "      <td>1</td>\n",
       "      <td>10:08:03.260000</td>\n",
       "      <td>9793548581</td>\n",
       "      <td>MIDID0001</td>\n",
       "      <td>1</td>\n",
       "      <td>36</td>\n",
       "      <td>Male</td>\n",
       "      <td>...</td>\n",
       "      <td>0.1</td>\n",
       "      <td>13.32408</td>\n",
       "      <td>Card</td>\n",
       "      <td>Enterprise Bank</td>\n",
       "      <td>0.150</td>\n",
       "      <td>0.15</td>\n",
       "      <td>0.700</td>\n",
       "      <td>1.85400</td>\n",
       "      <td>1.8540</td>\n",
       "      <td>8.65200</td>\n",
       "    </tr>\n",
       "    <tr>\n",
       "      <th>1</th>\n",
       "      <td>GIJ00002</td>\n",
       "      <td>2016-01-02</td>\n",
       "      <td>2016</td>\n",
       "      <td>1</td>\n",
       "      <td>15:46:50.832000</td>\n",
       "      <td>9938441276</td>\n",
       "      <td>MIDID0002</td>\n",
       "      <td>2</td>\n",
       "      <td>54</td>\n",
       "      <td>Male</td>\n",
       "      <td>...</td>\n",
       "      <td>0.1</td>\n",
       "      <td>25.26480</td>\n",
       "      <td>Card</td>\n",
       "      <td>Philippine Veterans Bank</td>\n",
       "      <td>0.118</td>\n",
       "      <td>0.15</td>\n",
       "      <td>0.732</td>\n",
       "      <td>2.73760</td>\n",
       "      <td>3.4800</td>\n",
       "      <td>16.98240</td>\n",
       "    </tr>\n",
       "    <tr>\n",
       "      <th>2</th>\n",
       "      <td>GIJ00003</td>\n",
       "      <td>2016-01-02</td>\n",
       "      <td>2016</td>\n",
       "      <td>1</td>\n",
       "      <td>11:28:52.166000</td>\n",
       "      <td>9976742552</td>\n",
       "      <td>MIDID0003</td>\n",
       "      <td>1</td>\n",
       "      <td>16</td>\n",
       "      <td>Female</td>\n",
       "      <td>...</td>\n",
       "      <td>0.1</td>\n",
       "      <td>42.18786</td>\n",
       "      <td>Cash</td>\n",
       "      <td>BDO Unibank</td>\n",
       "      <td>0.147</td>\n",
       "      <td>0.15</td>\n",
       "      <td>0.703</td>\n",
       "      <td>1.95657</td>\n",
       "      <td>1.9965</td>\n",
       "      <td>9.35693</td>\n",
       "    </tr>\n",
       "  </tbody>\n",
       "</table>\n",
       "<p>3 rows × 32 columns</p>\n",
       "</div>"
      ],
      "text/plain": [
       "  Receipt Number       Date  Year  Month             Time  Mobile Number  \\\n",
       "0       GIJ00001 2016-01-02  2016      1  10:08:03.260000     9793548581   \n",
       "1       GIJ00002 2016-01-02  2016      1  15:46:50.832000     9938441276   \n",
       "2       GIJ00003 2016-01-02  2016      1  11:28:52.166000     9976742552   \n",
       "\n",
       "  Membership ID  Loyalty Card Points  Age  Gender  ...  GST Gross Bill Amount  \\\n",
       "0     MIDID0001                    1   36    Male  ...  0.1          13.32408   \n",
       "1     MIDID0002                    2   54    Male  ...  0.1          25.26480   \n",
       "2     MIDID0003                    1   16  Female  ...  0.1          42.18786   \n",
       "\n",
       "  Payment Mode                 Bank Name % Profit Margin % Operating Cost  \\\n",
       "0         Card           Enterprise Bank           0.150             0.15   \n",
       "1         Card  Philippine Veterans Bank           0.118             0.15   \n",
       "2         Cash               BDO Unibank           0.147             0.15   \n",
       "\n",
       "  % Product Cost  Profit Margin  Operating Cost  Product Cost  \n",
       "0          0.700        1.85400          1.8540       8.65200  \n",
       "1          0.732        2.73760          3.4800      16.98240  \n",
       "2          0.703        1.95657          1.9965       9.35693  \n",
       "\n",
       "[3 rows x 32 columns]"
      ]
     },
     "execution_count": 7,
     "metadata": {},
     "output_type": "execute_result"
    }
   ],
   "source": [
    "df_grocery.head(3)"
   ]
  },
  {
   "cell_type": "markdown",
   "id": "44fe8a1e",
   "metadata": {},
   "source": [
    "Читати дані можна і з Pandas, але тут немає можливості переглянути наявні листки, а також довше відбувається читання даних."
   ]
  },
  {
   "cell_type": "code",
   "execution_count": 8,
   "id": "2fb8f4ad",
   "metadata": {
    "ExecuteTime": {
     "end_time": "2023-03-26T18:13:23.761169Z",
     "start_time": "2023-03-26T18:12:59.415713Z"
    }
   },
   "outputs": [],
   "source": [
    "df = pd.read_excel(path_to_file) # Тестово спробував також завантажити з допомогою Pandas."
   ]
  },
  {
   "cell_type": "code",
   "execution_count": 9,
   "id": "850a936f",
   "metadata": {
    "scrolled": false
   },
   "outputs": [
    {
     "data": {
      "text/html": [
       "<div>\n",
       "<style scoped>\n",
       "    .dataframe tbody tr th:only-of-type {\n",
       "        vertical-align: middle;\n",
       "    }\n",
       "\n",
       "    .dataframe tbody tr th {\n",
       "        vertical-align: top;\n",
       "    }\n",
       "\n",
       "    .dataframe thead th {\n",
       "        text-align: right;\n",
       "    }\n",
       "</style>\n",
       "<table border=\"1\" class=\"dataframe\">\n",
       "  <thead>\n",
       "    <tr style=\"text-align: right;\">\n",
       "      <th></th>\n",
       "      <th>Receipt Number</th>\n",
       "      <th>Date</th>\n",
       "      <th>Year</th>\n",
       "      <th>Month</th>\n",
       "      <th>Time</th>\n",
       "      <th>Mobile Number</th>\n",
       "      <th>Membership ID</th>\n",
       "      <th>Loyalty Card Points</th>\n",
       "      <th>Age</th>\n",
       "      <th>Gender</th>\n",
       "      <th>...</th>\n",
       "      <th>GST</th>\n",
       "      <th>Gross Bill Amount</th>\n",
       "      <th>Payment Mode</th>\n",
       "      <th>Bank Name</th>\n",
       "      <th>% Profit Margin</th>\n",
       "      <th>% Operating Cost</th>\n",
       "      <th>% Product Cost</th>\n",
       "      <th>Profit Margin</th>\n",
       "      <th>Operating Cost</th>\n",
       "      <th>Product Cost</th>\n",
       "    </tr>\n",
       "  </thead>\n",
       "  <tbody>\n",
       "    <tr>\n",
       "      <th>0</th>\n",
       "      <td>GIJ00001</td>\n",
       "      <td>2016-01-02</td>\n",
       "      <td>2016</td>\n",
       "      <td>1</td>\n",
       "      <td>10:08:03.260000</td>\n",
       "      <td>9793548581</td>\n",
       "      <td>MIDID0001</td>\n",
       "      <td>1</td>\n",
       "      <td>36</td>\n",
       "      <td>Male</td>\n",
       "      <td>...</td>\n",
       "      <td>0.1</td>\n",
       "      <td>13.32408</td>\n",
       "      <td>Card</td>\n",
       "      <td>Enterprise Bank</td>\n",
       "      <td>0.15</td>\n",
       "      <td>0.15</td>\n",
       "      <td>0.7</td>\n",
       "      <td>1.854</td>\n",
       "      <td>1.854</td>\n",
       "      <td>8.652</td>\n",
       "    </tr>\n",
       "  </tbody>\n",
       "</table>\n",
       "<p>1 rows × 32 columns</p>\n",
       "</div>"
      ],
      "text/plain": [
       "  Receipt Number       Date  Year  Month             Time  Mobile Number  \\\n",
       "0       GIJ00001 2016-01-02  2016      1  10:08:03.260000     9793548581   \n",
       "\n",
       "  Membership ID  Loyalty Card Points  Age Gender  ...  GST Gross Bill Amount  \\\n",
       "0     MIDID0001                    1   36   Male  ...  0.1          13.32408   \n",
       "\n",
       "  Payment Mode        Bank Name % Profit Margin % Operating Cost  \\\n",
       "0         Card  Enterprise Bank            0.15             0.15   \n",
       "\n",
       "  % Product Cost  Profit Margin  Operating Cost  Product Cost  \n",
       "0            0.7          1.854           1.854         8.652  \n",
       "\n",
       "[1 rows x 32 columns]"
      ]
     },
     "execution_count": 9,
     "metadata": {},
     "output_type": "execute_result"
    }
   ],
   "source": [
    "df.head(1)"
   ]
  },
  {
   "cell_type": "markdown",
   "id": "019e296b",
   "metadata": {},
   "source": [
    "### ПОПЕРЕДНІЙ АНАЛІЗ ДАНИХ\n",
    "\n",
    "##### Аналіз з допомогою бібліотеки Sweetviz\n",
    "\n",
    "Насамперед подивився на дані з допомогою бібліотеки Sweetviz."
   ]
  },
  {
   "cell_type": "code",
   "execution_count": 11,
   "id": "0166da39",
   "metadata": {},
   "outputs": [],
   "source": [
    "import warnings"
   ]
  },
  {
   "cell_type": "code",
   "execution_count": 12,
   "id": "52b1ee98",
   "metadata": {
    "scrolled": true
   },
   "outputs": [
    {
     "name": "stderr",
     "output_type": "stream",
     "text": [
      "C:\\Users\\yevhe\\anaconda3\\envs\\py3109\\lib\\site-packages\\tqdm\\auto.py:21: TqdmWarning: IProgress not found. Please update jupyter and ipywidgets. See https://ipywidgets.readthedocs.io/en/stable/user_install.html\n",
      "  from .autonotebook import tqdm as notebook_tqdm\n",
      "C:\\Users\\yevhe\\anaconda3\\envs\\py3109\\lib\\site-packages\\sweetviz\\dataframe_report.py:74: FutureWarning: iteritems is deprecated and will be removed in a future version. Use .items instead.\n",
      "  all_source_names = [cur_name for cur_name, cur_series in source_df.iteritems()]\n",
      "C:\\Users\\yevhe\\anaconda3\\envs\\py3109\\lib\\site-packages\\sweetviz\\dataframe_report.py:109: FutureWarning: iteritems is deprecated and will be removed in a future version. Use .items instead.\n",
      "  filtered_series_names_in_source = [cur_name for cur_name, cur_series in source_df.iteritems()\n",
      "Feature: Receipt Number                      |███▉                                                                                                                              | [  3%]   00:00 -> (00:03 left)C:\\Users\\yevhe\\anaconda3\\envs\\py3109\\lib\\site-packages\\sweetviz\\series_analyzer_text.py:19: FutureWarning: iteritems is deprecated and will be removed in a future version. Use .items instead.\n",
      "  for item in to_process.source_counts[\"value_counts_without_nan\"].iteritems():\n",
      "Feature: Date                                |███████▉                                                                                                                          | [  6%]   00:00 -> (00:04 left)C:\\Users\\yevhe\\anaconda3\\envs\\py3109\\lib\\site-packages\\sweetviz\\series_analyzer_text.py:19: FutureWarning: iteritems is deprecated and will be removed in a future version. Use .items instead.\n",
      "  for item in to_process.source_counts[\"value_counts_without_nan\"].iteritems():\n",
      "Feature: Year                                |███████████▊                                                                                                                      | [  9%]   00:00 -> (00:04 left)C:\\Users\\yevhe\\anaconda3\\envs\\py3109\\lib\\site-packages\\sweetviz\\series_analyzer_cat.py:28: FutureWarning: iteritems is deprecated and will be removed in a future version. Use .items instead.\n",
      "  for item in category_counts.iteritems():\n",
      "Feature: Month                               |███████████████▊                                                                                                                  | [ 12%]   00:00 -> (00:02 left)C:\\Users\\yevhe\\anaconda3\\envs\\py3109\\lib\\site-packages\\sweetviz\\series_analyzer_numeric.py:25: FutureWarning: The 'mad' method is deprecated and will be removed in a future version. To compute the same result, you may do `(df - df.mean()).abs().mean()`.\n",
      "  stats[\"mad\"] = series.mad()\n",
      "Feature: Time                                |███████████████████▋                                                                                                              | [ 15%]   00:00 -> (00:05 left)C:\\Users\\yevhe\\anaconda3\\envs\\py3109\\lib\\site-packages\\sweetviz\\series_analyzer_text.py:19: FutureWarning: iteritems is deprecated and will be removed in a future version. Use .items instead.\n",
      "  for item in to_process.source_counts[\"value_counts_without_nan\"].iteritems():\n",
      "Feature: Mobile Number                       |███████████████████████▋                                                                                                          | [ 18%]   00:00 -> (00:04 left)C:\\Users\\yevhe\\anaconda3\\envs\\py3109\\lib\\site-packages\\sweetviz\\series_analyzer_numeric.py:25: FutureWarning: The 'mad' method is deprecated and will be removed in a future version. To compute the same result, you may do `(df - df.mean()).abs().mean()`.\n",
      "  stats[\"mad\"] = series.mad()\n",
      "Feature: Membership ID                       |███████████████████████████▌                                                                                                      | [ 21%]   00:01 -> (00:05 left)C:\\Users\\yevhe\\anaconda3\\envs\\py3109\\lib\\site-packages\\sweetviz\\series_analyzer_text.py:19: FutureWarning: iteritems is deprecated and will be removed in a future version. Use .items instead.\n",
      "  for item in to_process.source_counts[\"value_counts_without_nan\"].iteritems():\n",
      "Feature: Loyalty Card Points                 |███████████████████████████████▌                                                                                                  | [ 24%]   00:01 -> (00:05 left)C:\\Users\\yevhe\\anaconda3\\envs\\py3109\\lib\\site-packages\\sweetviz\\series_analyzer_numeric.py:25: FutureWarning: The 'mad' method is deprecated and will be removed in a future version. To compute the same result, you may do `(df - df.mean()).abs().mean()`.\n",
      "  stats[\"mad\"] = series.mad()\n",
      "Feature: Age                                 |███████████████████████████████████▍                                                                                              | [ 27%]   00:01 -> (00:04 left)C:\\Users\\yevhe\\anaconda3\\envs\\py3109\\lib\\site-packages\\sweetviz\\series_analyzer_numeric.py:25: FutureWarning: The 'mad' method is deprecated and will be removed in a future version. To compute the same result, you may do `(df - df.mean()).abs().mean()`.\n",
      "  stats[\"mad\"] = series.mad()\n",
      "Feature: Gender                              |███████████████████████████████████████▍                                                                                          | [ 30%]   00:01 -> (00:05 left)C:\\Users\\yevhe\\anaconda3\\envs\\py3109\\lib\\site-packages\\sweetviz\\series_analyzer_cat.py:28: FutureWarning: iteritems is deprecated and will be removed in a future version. Use .items instead.\n",
      "  for item in category_counts.iteritems():\n",
      "Feature: City                                |███████████████████████████████████████████▎                                                                                      | [ 33%]   00:02 -> (00:04 left)C:\\Users\\yevhe\\anaconda3\\envs\\py3109\\lib\\site-packages\\sweetviz\\series_analyzer_cat.py:28: FutureWarning: iteritems is deprecated and will be removed in a future version. Use .items instead.\n",
      "  for item in category_counts.iteritems():\n",
      "Feature: Country                             |███████████████████████████████████████████████▎                                                                                  | [ 36%]   00:02 -> (00:04 left)C:\\Users\\yevhe\\anaconda3\\envs\\py3109\\lib\\site-packages\\sweetviz\\series_analyzer_cat.py:28: FutureWarning: iteritems is deprecated and will be removed in a future version. Use .items instead.\n",
      "  for item in category_counts.iteritems():\n",
      "Feature: Category                            |███████████████████████████████████████████████████▏                                                                              | [ 39%]   00:02 -> (00:03 left)C:\\Users\\yevhe\\anaconda3\\envs\\py3109\\lib\\site-packages\\sweetviz\\series_analyzer_cat.py:28: FutureWarning: iteritems is deprecated and will be removed in a future version. Use .items instead.\n",
      "  for item in category_counts.iteritems():\n",
      "Feature: Sub_Category                        |███████████████████████████████████████████████████████▏                                                                          | [ 42%]   00:02 -> (00:03 left)C:\\Users\\yevhe\\anaconda3\\envs\\py3109\\lib\\site-packages\\sweetviz\\series_analyzer_cat.py:28: FutureWarning: iteritems is deprecated and will be removed in a future version. Use .items instead.\n",
      "  for item in category_counts.iteritems():\n",
      "Feature: Items                               |███████████████████████████████████████████████████████████                                                                       | [ 45%]   00:02 -> (00:03 left)C:\\Users\\yevhe\\anaconda3\\envs\\py3109\\lib\\site-packages\\sweetviz\\series_analyzer_text.py:19: FutureWarning: iteritems is deprecated and will be removed in a future version. Use .items instead.\n",
      "  for item in to_process.source_counts[\"value_counts_without_nan\"].iteritems():\n",
      "Feature: Brand                               |███████████████████████████████████████████████████████████████                                                                   | [ 48%]   00:02 -> (00:03 left)C:\\Users\\yevhe\\anaconda3\\envs\\py3109\\lib\\site-packages\\sweetviz\\series_analyzer_text.py:19: FutureWarning: iteritems is deprecated and will be removed in a future version. Use .items instead.\n",
      "  for item in to_process.source_counts[\"value_counts_without_nan\"].iteritems():\n",
      "Feature: Description                         |██████████████████████████████████████████████████████████████████▉                                                               | [ 52%]   00:02 -> (00:02 left)C:\\Users\\yevhe\\anaconda3\\envs\\py3109\\lib\\site-packages\\sweetviz\\series_analyzer_text.py:19: FutureWarning: iteritems is deprecated and will be removed in a future version. Use .items instead.\n",
      "  for item in to_process.source_counts[\"value_counts_without_nan\"].iteritems():\n",
      "Feature: Price                               |██████████████████████████████████████████████████████████████████████▉                                                           | [ 55%]   00:02 -> (00:02 left)C:\\Users\\yevhe\\anaconda3\\envs\\py3109\\lib\\site-packages\\sweetviz\\series_analyzer_numeric.py:25: FutureWarning: The 'mad' method is deprecated and will be removed in a future version. To compute the same result, you may do `(df - df.mean()).abs().mean()`.\n",
      "  stats[\"mad\"] = series.mad()\n",
      "Feature: QTY                                 |██████████████████████████████████████████████████████████████████████████▊                                                       | [ 58%]   00:03 -> (00:01 left)C:\\Users\\yevhe\\anaconda3\\envs\\py3109\\lib\\site-packages\\sweetviz\\series_analyzer_cat.py:28: FutureWarning: iteritems is deprecated and will be removed in a future version. Use .items instead.\n",
      "  for item in category_counts.iteritems():\n",
      "Feature: DISC                                |██████████████████████████████████████████████████████████████████████████████▊                                                   | [ 61%]   00:03 -> (00:01 left)C:\\Users\\yevhe\\anaconda3\\envs\\py3109\\lib\\site-packages\\sweetviz\\series_analyzer_cat.py:28: FutureWarning: iteritems is deprecated and will be removed in a future version. Use .items instead.\n",
      "  for item in category_counts.iteritems():\n",
      "Feature: Amount                              |██████████████████████████████████████████████████████████████████████████████████▋                                               | [ 64%]   00:03 -> (00:01 left)C:\\Users\\yevhe\\anaconda3\\envs\\py3109\\lib\\site-packages\\sweetviz\\series_analyzer_numeric.py:25: FutureWarning: The 'mad' method is deprecated and will be removed in a future version. To compute the same result, you may do `(df - df.mean()).abs().mean()`.\n",
      "  stats[\"mad\"] = series.mad()\n",
      "Feature: Net Bill Amount                     |██████████████████████████████████████████████████████████████████████████████████████▋                                           | [ 67%]   00:03 -> (00:02 left)C:\\Users\\yevhe\\anaconda3\\envs\\py3109\\lib\\site-packages\\sweetviz\\series_analyzer_numeric.py:25: FutureWarning: The 'mad' method is deprecated and will be removed in a future version. To compute the same result, you may do `(df - df.mean()).abs().mean()`.\n",
      "  stats[\"mad\"] = series.mad()\n",
      "Feature: GST                                 |██████████████████████████████████████████████████████████████████████████████████████████▌                                       | [ 70%]   00:04 -> (00:02 left)C:\\Users\\yevhe\\anaconda3\\envs\\py3109\\lib\\site-packages\\sweetviz\\series_analyzer_cat.py:28: FutureWarning: iteritems is deprecated and will be removed in a future version. Use .items instead.\n",
      "  for item in category_counts.iteritems():\n",
      "Feature: Gross Bill Amount                   |██████████████████████████████████████████████████████████████████████████████████████████████▌                                   | [ 73%]   00:04 -> (00:02 left)C:\\Users\\yevhe\\anaconda3\\envs\\py3109\\lib\\site-packages\\sweetviz\\series_analyzer_numeric.py:25: FutureWarning: The 'mad' method is deprecated and will be removed in a future version. To compute the same result, you may do `(df - df.mean()).abs().mean()`.\n",
      "  stats[\"mad\"] = series.mad()\n",
      "Feature: Payment Mode                        |██████████████████████████████████████████████████████████████████████████████████████████████████▍                               | [ 76%]   00:04 -> (00:02 left)C:\\Users\\yevhe\\anaconda3\\envs\\py3109\\lib\\site-packages\\sweetviz\\series_analyzer_cat.py:28: FutureWarning: iteritems is deprecated and will be removed in a future version. Use .items instead.\n",
      "  for item in category_counts.iteritems():\n",
      "Feature: Bank Name                           |██████████████████████████████████████████████████████████████████████████████████████████████████████▍                           | [ 79%]   00:04 -> (00:01 left)C:\\Users\\yevhe\\anaconda3\\envs\\py3109\\lib\\site-packages\\sweetviz\\series_analyzer_cat.py:28: FutureWarning: iteritems is deprecated and will be removed in a future version. Use .items instead.\n",
      "  for item in category_counts.iteritems():\n",
      "Feature: % Profit Margin                     |██████████████████████████████████████████████████████████████████████████████████████████████████████████▎                       | [ 82%]   00:05 -> (00:01 left)C:\\Users\\yevhe\\anaconda3\\envs\\py3109\\lib\\site-packages\\sweetviz\\series_analyzer_numeric.py:25: FutureWarning: The 'mad' method is deprecated and will be removed in a future version. To compute the same result, you may do `(df - df.mean()).abs().mean()`.\n",
      "  stats[\"mad\"] = series.mad()\n",
      "Feature: % Operating Cost                    |██████████████████████████████████████████████████████████████████████████████████████████████████████████████▎                   | [ 85%]   00:05 -> (00:01 left)C:\\Users\\yevhe\\anaconda3\\envs\\py3109\\lib\\site-packages\\sweetviz\\series_analyzer_cat.py:28: FutureWarning: iteritems is deprecated and will be removed in a future version. Use .items instead.\n",
      "  for item in category_counts.iteritems():\n",
      "Feature: % Product Cost                      |██████████████████████████████████████████████████████████████████████████████████████████████████████████████████▏               | [ 88%]   00:05 -> (00:00 left)C:\\Users\\yevhe\\anaconda3\\envs\\py3109\\lib\\site-packages\\sweetviz\\series_analyzer_numeric.py:25: FutureWarning: The 'mad' method is deprecated and will be removed in a future version. To compute the same result, you may do `(df - df.mean()).abs().mean()`.\n",
      "  stats[\"mad\"] = series.mad()\n",
      "Feature: Profit Margin                       |██████████████████████████████████████████████████████████████████████████████████████████████████████████████████████▏           | [ 91%]   00:05 -> (00:00 left)C:\\Users\\yevhe\\anaconda3\\envs\\py3109\\lib\\site-packages\\sweetviz\\series_analyzer_numeric.py:25: FutureWarning: The 'mad' method is deprecated and will be removed in a future version. To compute the same result, you may do `(df - df.mean()).abs().mean()`.\n",
      "  stats[\"mad\"] = series.mad()\n",
      "Feature: Operating Cost                      |██████████████████████████████████████████████████████████████████████████████████████████████████████████████████████████        | [ 94%]   00:06 -> (00:00 left)C:\\Users\\yevhe\\anaconda3\\envs\\py3109\\lib\\site-packages\\sweetviz\\series_analyzer_numeric.py:25: FutureWarning: The 'mad' method is deprecated and will be removed in a future version. To compute the same result, you may do `(df - df.mean()).abs().mean()`.\n",
      "  stats[\"mad\"] = series.mad()\n",
      "Feature: Product Cost                        |██████████████████████████████████████████████████████████████████████████████████████████████████████████████████████████████    | [ 97%]   00:06 -> (00:00 left)C:\\Users\\yevhe\\anaconda3\\envs\\py3109\\lib\\site-packages\\sweetviz\\series_analyzer_numeric.py:25: FutureWarning: The 'mad' method is deprecated and will be removed in a future version. To compute the same result, you may do `(df - df.mean()).abs().mean()`.\n",
      "  stats[\"mad\"] = series.mad()\n",
      "Done! Use 'show' commands to display/save.   |██████████████████████████████████████████████████████████████████████████████████████████████████████████████████████████████████| [100%]   00:01 -> (00:00 left)\n"
     ]
    },
    {
     "name": "stdout",
     "output_type": "stream",
     "text": [
      "Report Grocery store sales.html was generated! NOTEBOOK/COLAB USERS: the web browser MAY not pop up, regardless, the report IS saved in your notebook/colab files.\n"
     ]
    }
   ],
   "source": [
    "import sweetviz as sv\n",
    "report = sv.analyze(df_grocery)\n",
    "report.show_html('Grocery store sales.html')"
   ]
  },
  {
   "cell_type": "markdown",
   "id": "b44b8d94",
   "metadata": {},
   "source": [
    "Головні важливі спостереження, які в загальному представляють дані.\n",
    "- В базі 50447 рядків даних, в яких представлено результати за 32 показниками (включаючи номер чеку).\n",
    "- В базі відсутні місінги\n",
    "- У базі 13048 чеків покупок, тобто в середньому більш як 3 товари на один чек\n",
    "- При цьому у нас унікальних клієнтів 2061 (це видно по унікальних номерах телефонів та унікальних membership id).\n",
    "- Ми маємо дані за 4 роки - 2016-2019 роки.\n",
    "- Більшість товарів купили жінки - (більше 80% проданих товарів).\n",
    "- Середній вік покупців і медіана віку - 35 років\n",
    "- Дані представляють продажі в 5 містах в 4 країнах.\n",
    "- Продавалися товари 16 категорій (якщо враховувати категорію Other), які включать переважно продукти харчування, але також інші товари домашнього вжитку та алкоголь. Всього було продано 597 різних товарів, які належать до 75 під-категорій та \n",
    "- Оплата йде трьома різними видами платіжними засобами (Card, Wallet, Cash). При цьому карточки 13 банків."
   ]
  },
  {
   "cell_type": "markdown",
   "id": "f20c4343",
   "metadata": {},
   "source": [
    "##### Початковий аналіз до помогою інструментів pandas\n",
    "\n",
    "Початковий аналіз даних: їх розмір, структура, наявність пропущених значень та що з ними зробити, зміна типів даних там, де це доречно зробити (наприклад, якщо колонка завантажилась як тип string, а з опису видно, що там має бути float) - ця частина не входить у бізнес-питання, але є необхідною при аналізі даних. "
   ]
  },
  {
   "cell_type": "markdown",
   "id": "484e77b5",
   "metadata": {},
   "source": [
    "**Початковий аналіз 1** Вивести базу (виріши вивести перші і останні 5 рядків)"
   ]
  },
  {
   "cell_type": "code",
   "execution_count": 20,
   "id": "80c8d2c3",
   "metadata": {
    "scrolled": false
   },
   "outputs": [
    {
     "data": {
      "text/html": [
       "<div>\n",
       "<style scoped>\n",
       "    .dataframe tbody tr th:only-of-type {\n",
       "        vertical-align: middle;\n",
       "    }\n",
       "\n",
       "    .dataframe tbody tr th {\n",
       "        vertical-align: top;\n",
       "    }\n",
       "\n",
       "    .dataframe thead th {\n",
       "        text-align: right;\n",
       "    }\n",
       "</style>\n",
       "<table border=\"1\" class=\"dataframe\">\n",
       "  <thead>\n",
       "    <tr style=\"text-align: right;\">\n",
       "      <th></th>\n",
       "      <th>Receipt Number</th>\n",
       "      <th>Date</th>\n",
       "      <th>Year</th>\n",
       "      <th>Month</th>\n",
       "      <th>Time</th>\n",
       "      <th>Mobile Number</th>\n",
       "      <th>Membership ID</th>\n",
       "      <th>Loyalty Card Points</th>\n",
       "      <th>Age</th>\n",
       "      <th>Gender</th>\n",
       "      <th>...</th>\n",
       "      <th>GST</th>\n",
       "      <th>Gross Bill Amount</th>\n",
       "      <th>Payment Mode</th>\n",
       "      <th>Bank Name</th>\n",
       "      <th>% Profit Margin</th>\n",
       "      <th>% Operating Cost</th>\n",
       "      <th>% Product Cost</th>\n",
       "      <th>Profit Margin</th>\n",
       "      <th>Operating Cost</th>\n",
       "      <th>Product Cost</th>\n",
       "    </tr>\n",
       "  </thead>\n",
       "  <tbody>\n",
       "    <tr>\n",
       "      <th>0</th>\n",
       "      <td>GIJ00001</td>\n",
       "      <td>2016-01-02</td>\n",
       "      <td>2016</td>\n",
       "      <td>1</td>\n",
       "      <td>10:08:03.260000</td>\n",
       "      <td>9793548581</td>\n",
       "      <td>MIDID0001</td>\n",
       "      <td>1</td>\n",
       "      <td>36</td>\n",
       "      <td>Male</td>\n",
       "      <td>...</td>\n",
       "      <td>0.1</td>\n",
       "      <td>13.32408</td>\n",
       "      <td>Card</td>\n",
       "      <td>Enterprise Bank</td>\n",
       "      <td>0.150</td>\n",
       "      <td>0.15</td>\n",
       "      <td>0.700</td>\n",
       "      <td>1.85400</td>\n",
       "      <td>1.8540</td>\n",
       "      <td>8.65200</td>\n",
       "    </tr>\n",
       "    <tr>\n",
       "      <th>1</th>\n",
       "      <td>GIJ00002</td>\n",
       "      <td>2016-01-02</td>\n",
       "      <td>2016</td>\n",
       "      <td>1</td>\n",
       "      <td>15:46:50.832000</td>\n",
       "      <td>9938441276</td>\n",
       "      <td>MIDID0002</td>\n",
       "      <td>2</td>\n",
       "      <td>54</td>\n",
       "      <td>Male</td>\n",
       "      <td>...</td>\n",
       "      <td>0.1</td>\n",
       "      <td>25.26480</td>\n",
       "      <td>Card</td>\n",
       "      <td>Philippine Veterans Bank</td>\n",
       "      <td>0.118</td>\n",
       "      <td>0.15</td>\n",
       "      <td>0.732</td>\n",
       "      <td>2.73760</td>\n",
       "      <td>3.4800</td>\n",
       "      <td>16.98240</td>\n",
       "    </tr>\n",
       "    <tr>\n",
       "      <th>2</th>\n",
       "      <td>GIJ00003</td>\n",
       "      <td>2016-01-02</td>\n",
       "      <td>2016</td>\n",
       "      <td>1</td>\n",
       "      <td>11:28:52.166000</td>\n",
       "      <td>9976742552</td>\n",
       "      <td>MIDID0003</td>\n",
       "      <td>1</td>\n",
       "      <td>16</td>\n",
       "      <td>Female</td>\n",
       "      <td>...</td>\n",
       "      <td>0.1</td>\n",
       "      <td>42.18786</td>\n",
       "      <td>Cash</td>\n",
       "      <td>BDO Unibank</td>\n",
       "      <td>0.147</td>\n",
       "      <td>0.15</td>\n",
       "      <td>0.703</td>\n",
       "      <td>1.95657</td>\n",
       "      <td>1.9965</td>\n",
       "      <td>9.35693</td>\n",
       "    </tr>\n",
       "    <tr>\n",
       "      <th>3</th>\n",
       "      <td>GIJ00003</td>\n",
       "      <td>2016-01-02</td>\n",
       "      <td>2016</td>\n",
       "      <td>1</td>\n",
       "      <td>11:28:52.166000</td>\n",
       "      <td>9976742552</td>\n",
       "      <td>MIDID0003</td>\n",
       "      <td>1</td>\n",
       "      <td>16</td>\n",
       "      <td>Female</td>\n",
       "      <td>...</td>\n",
       "      <td>0.1</td>\n",
       "      <td>42.18786</td>\n",
       "      <td>Cash</td>\n",
       "      <td>BDO Unibank</td>\n",
       "      <td>0.095</td>\n",
       "      <td>0.15</td>\n",
       "      <td>0.755</td>\n",
       "      <td>0.33440</td>\n",
       "      <td>0.5280</td>\n",
       "      <td>2.65760</td>\n",
       "    </tr>\n",
       "    <tr>\n",
       "      <th>4</th>\n",
       "      <td>GIJ00003</td>\n",
       "      <td>2016-01-02</td>\n",
       "      <td>2016</td>\n",
       "      <td>1</td>\n",
       "      <td>11:28:52.166000</td>\n",
       "      <td>9976742552</td>\n",
       "      <td>MIDID0003</td>\n",
       "      <td>2</td>\n",
       "      <td>16</td>\n",
       "      <td>Female</td>\n",
       "      <td>...</td>\n",
       "      <td>0.1</td>\n",
       "      <td>42.18786</td>\n",
       "      <td>Cash</td>\n",
       "      <td>BDO Unibank</td>\n",
       "      <td>0.120</td>\n",
       "      <td>0.15</td>\n",
       "      <td>0.730</td>\n",
       "      <td>0.52920</td>\n",
       "      <td>0.6615</td>\n",
       "      <td>3.21930</td>\n",
       "    </tr>\n",
       "  </tbody>\n",
       "</table>\n",
       "<p>5 rows × 32 columns</p>\n",
       "</div>"
      ],
      "text/plain": [
       "  Receipt Number       Date  Year  Month             Time  Mobile Number  \\\n",
       "0       GIJ00001 2016-01-02  2016      1  10:08:03.260000     9793548581   \n",
       "1       GIJ00002 2016-01-02  2016      1  15:46:50.832000     9938441276   \n",
       "2       GIJ00003 2016-01-02  2016      1  11:28:52.166000     9976742552   \n",
       "3       GIJ00003 2016-01-02  2016      1  11:28:52.166000     9976742552   \n",
       "4       GIJ00003 2016-01-02  2016      1  11:28:52.166000     9976742552   \n",
       "\n",
       "  Membership ID  Loyalty Card Points  Age  Gender  ...  GST Gross Bill Amount  \\\n",
       "0     MIDID0001                    1   36    Male  ...  0.1          13.32408   \n",
       "1     MIDID0002                    2   54    Male  ...  0.1          25.26480   \n",
       "2     MIDID0003                    1   16  Female  ...  0.1          42.18786   \n",
       "3     MIDID0003                    1   16  Female  ...  0.1          42.18786   \n",
       "4     MIDID0003                    2   16  Female  ...  0.1          42.18786   \n",
       "\n",
       "  Payment Mode                 Bank Name % Profit Margin % Operating Cost  \\\n",
       "0         Card           Enterprise Bank           0.150             0.15   \n",
       "1         Card  Philippine Veterans Bank           0.118             0.15   \n",
       "2         Cash               BDO Unibank           0.147             0.15   \n",
       "3         Cash               BDO Unibank           0.095             0.15   \n",
       "4         Cash               BDO Unibank           0.120             0.15   \n",
       "\n",
       "  % Product Cost  Profit Margin  Operating Cost  Product Cost  \n",
       "0          0.700        1.85400          1.8540       8.65200  \n",
       "1          0.732        2.73760          3.4800      16.98240  \n",
       "2          0.703        1.95657          1.9965       9.35693  \n",
       "3          0.755        0.33440          0.5280       2.65760  \n",
       "4          0.730        0.52920          0.6615       3.21930  \n",
       "\n",
       "[5 rows x 32 columns]"
      ]
     },
     "execution_count": 20,
     "metadata": {},
     "output_type": "execute_result"
    }
   ],
   "source": [
    "df_grocery.head()"
   ]
  },
  {
   "cell_type": "code",
   "execution_count": 21,
   "id": "c65c7b2c",
   "metadata": {},
   "outputs": [
    {
     "data": {
      "text/html": [
       "<div>\n",
       "<style scoped>\n",
       "    .dataframe tbody tr th:only-of-type {\n",
       "        vertical-align: middle;\n",
       "    }\n",
       "\n",
       "    .dataframe tbody tr th {\n",
       "        vertical-align: top;\n",
       "    }\n",
       "\n",
       "    .dataframe thead th {\n",
       "        text-align: right;\n",
       "    }\n",
       "</style>\n",
       "<table border=\"1\" class=\"dataframe\">\n",
       "  <thead>\n",
       "    <tr style=\"text-align: right;\">\n",
       "      <th></th>\n",
       "      <th>Receipt Number</th>\n",
       "      <th>Date</th>\n",
       "      <th>Year</th>\n",
       "      <th>Month</th>\n",
       "      <th>Time</th>\n",
       "      <th>Mobile Number</th>\n",
       "      <th>Membership ID</th>\n",
       "      <th>Loyalty Card Points</th>\n",
       "      <th>Age</th>\n",
       "      <th>Gender</th>\n",
       "      <th>...</th>\n",
       "      <th>GST</th>\n",
       "      <th>Gross Bill Amount</th>\n",
       "      <th>Payment Mode</th>\n",
       "      <th>Bank Name</th>\n",
       "      <th>% Profit Margin</th>\n",
       "      <th>% Operating Cost</th>\n",
       "      <th>% Product Cost</th>\n",
       "      <th>Profit Margin</th>\n",
       "      <th>Operating Cost</th>\n",
       "      <th>Product Cost</th>\n",
       "    </tr>\n",
       "  </thead>\n",
       "  <tbody>\n",
       "    <tr>\n",
       "      <th>50442</th>\n",
       "      <td>GSW01533</td>\n",
       "      <td>2019-12-28</td>\n",
       "      <td>2019</td>\n",
       "      <td>12</td>\n",
       "      <td>20:59:27.302000</td>\n",
       "      <td>9893317658</td>\n",
       "      <td>MIDSG0630</td>\n",
       "      <td>21</td>\n",
       "      <td>28</td>\n",
       "      <td>Female</td>\n",
       "      <td>...</td>\n",
       "      <td>0.07</td>\n",
       "      <td>79.358048</td>\n",
       "      <td>Card</td>\n",
       "      <td>Philippine National bank</td>\n",
       "      <td>0.141</td>\n",
       "      <td>0.15</td>\n",
       "      <td>0.709</td>\n",
       "      <td>0.87420</td>\n",
       "      <td>0.9300</td>\n",
       "      <td>4.39580</td>\n",
       "    </tr>\n",
       "    <tr>\n",
       "      <th>50443</th>\n",
       "      <td>GSW01534</td>\n",
       "      <td>2019-12-29</td>\n",
       "      <td>2019</td>\n",
       "      <td>12</td>\n",
       "      <td>13:14:45.030000</td>\n",
       "      <td>9809301701</td>\n",
       "      <td>MIDSG0293</td>\n",
       "      <td>41</td>\n",
       "      <td>28</td>\n",
       "      <td>Female</td>\n",
       "      <td>...</td>\n",
       "      <td>0.07</td>\n",
       "      <td>11.292352</td>\n",
       "      <td>Wallet</td>\n",
       "      <td>Philippine National bank</td>\n",
       "      <td>0.068</td>\n",
       "      <td>0.15</td>\n",
       "      <td>0.782</td>\n",
       "      <td>0.73984</td>\n",
       "      <td>1.6320</td>\n",
       "      <td>8.50816</td>\n",
       "    </tr>\n",
       "    <tr>\n",
       "      <th>50444</th>\n",
       "      <td>GSW01535</td>\n",
       "      <td>2019-12-30</td>\n",
       "      <td>2019</td>\n",
       "      <td>12</td>\n",
       "      <td>10:01:32.657000</td>\n",
       "      <td>9840124138</td>\n",
       "      <td>MIDSG0150</td>\n",
       "      <td>41</td>\n",
       "      <td>62</td>\n",
       "      <td>Female</td>\n",
       "      <td>...</td>\n",
       "      <td>0.07</td>\n",
       "      <td>14.999688</td>\n",
       "      <td>Card</td>\n",
       "      <td>BDO Unibank</td>\n",
       "      <td>0.109</td>\n",
       "      <td>0.15</td>\n",
       "      <td>0.741</td>\n",
       "      <td>0.43273</td>\n",
       "      <td>0.5955</td>\n",
       "      <td>2.94177</td>\n",
       "    </tr>\n",
       "    <tr>\n",
       "      <th>50445</th>\n",
       "      <td>GSW01535</td>\n",
       "      <td>2019-12-30</td>\n",
       "      <td>2019</td>\n",
       "      <td>12</td>\n",
       "      <td>10:01:32.657000</td>\n",
       "      <td>9840124138</td>\n",
       "      <td>MIDSG0150</td>\n",
       "      <td>41</td>\n",
       "      <td>62</td>\n",
       "      <td>Female</td>\n",
       "      <td>...</td>\n",
       "      <td>0.07</td>\n",
       "      <td>14.999688</td>\n",
       "      <td>Card</td>\n",
       "      <td>BDO Unibank</td>\n",
       "      <td>0.148</td>\n",
       "      <td>0.15</td>\n",
       "      <td>0.702</td>\n",
       "      <td>0.60680</td>\n",
       "      <td>0.6150</td>\n",
       "      <td>2.87820</td>\n",
       "    </tr>\n",
       "    <tr>\n",
       "      <th>50446</th>\n",
       "      <td>GSW01535</td>\n",
       "      <td>2019-12-30</td>\n",
       "      <td>2019</td>\n",
       "      <td>12</td>\n",
       "      <td>10:01:32.657000</td>\n",
       "      <td>9840124138</td>\n",
       "      <td>MIDSG0150</td>\n",
       "      <td>42</td>\n",
       "      <td>62</td>\n",
       "      <td>Female</td>\n",
       "      <td>...</td>\n",
       "      <td>0.07</td>\n",
       "      <td>14.999688</td>\n",
       "      <td>Card</td>\n",
       "      <td>BDO Unibank</td>\n",
       "      <td>0.107</td>\n",
       "      <td>0.15</td>\n",
       "      <td>0.743</td>\n",
       "      <td>0.65163</td>\n",
       "      <td>0.9135</td>\n",
       "      <td>4.52487</td>\n",
       "    </tr>\n",
       "  </tbody>\n",
       "</table>\n",
       "<p>5 rows × 32 columns</p>\n",
       "</div>"
      ],
      "text/plain": [
       "      Receipt Number       Date  Year  Month             Time  Mobile Number  \\\n",
       "50442       GSW01533 2019-12-28  2019     12  20:59:27.302000     9893317658   \n",
       "50443       GSW01534 2019-12-29  2019     12  13:14:45.030000     9809301701   \n",
       "50444       GSW01535 2019-12-30  2019     12  10:01:32.657000     9840124138   \n",
       "50445       GSW01535 2019-12-30  2019     12  10:01:32.657000     9840124138   \n",
       "50446       GSW01535 2019-12-30  2019     12  10:01:32.657000     9840124138   \n",
       "\n",
       "      Membership ID  Loyalty Card Points  Age  Gender  ...   GST  \\\n",
       "50442     MIDSG0630                   21   28  Female  ...  0.07   \n",
       "50443     MIDSG0293                   41   28  Female  ...  0.07   \n",
       "50444     MIDSG0150                   41   62  Female  ...  0.07   \n",
       "50445     MIDSG0150                   41   62  Female  ...  0.07   \n",
       "50446     MIDSG0150                   42   62  Female  ...  0.07   \n",
       "\n",
       "      Gross Bill Amount Payment Mode                 Bank Name  \\\n",
       "50442         79.358048         Card  Philippine National bank   \n",
       "50443         11.292352       Wallet  Philippine National bank   \n",
       "50444         14.999688         Card               BDO Unibank   \n",
       "50445         14.999688         Card               BDO Unibank   \n",
       "50446         14.999688         Card               BDO Unibank   \n",
       "\n",
       "      % Profit Margin % Operating Cost % Product Cost  Profit Margin  \\\n",
       "50442           0.141             0.15          0.709        0.87420   \n",
       "50443           0.068             0.15          0.782        0.73984   \n",
       "50444           0.109             0.15          0.741        0.43273   \n",
       "50445           0.148             0.15          0.702        0.60680   \n",
       "50446           0.107             0.15          0.743        0.65163   \n",
       "\n",
       "       Operating Cost  Product Cost  \n",
       "50442          0.9300       4.39580  \n",
       "50443          1.6320       8.50816  \n",
       "50444          0.5955       2.94177  \n",
       "50445          0.6150       2.87820  \n",
       "50446          0.9135       4.52487  \n",
       "\n",
       "[5 rows x 32 columns]"
      ]
     },
     "execution_count": 21,
     "metadata": {},
     "output_type": "execute_result"
    }
   ],
   "source": [
    "df_grocery.tail()"
   ]
  },
  {
   "cell_type": "code",
   "execution_count": 22,
   "id": "142b39bf",
   "metadata": {},
   "outputs": [
    {
     "data": {
      "text/plain": [
       "559.3280799999999"
      ]
     },
     "execution_count": 22,
     "metadata": {},
     "output_type": "execute_result"
    }
   ],
   "source": [
    "df_grocery['Gross Bill Amount'].max()"
   ]
  },
  {
   "cell_type": "markdown",
   "id": "f8e929c9",
   "metadata": {},
   "source": [
    "**Початковий аналіз 2:** Визначити розмір бази:"
   ]
  },
  {
   "cell_type": "code",
   "execution_count": 23,
   "id": "c76b5410",
   "metadata": {
    "scrolled": true
   },
   "outputs": [
    {
     "name": "stdout",
     "output_type": "stream",
     "text": [
      "Набір даних містить 50447 рядків та 32 колонок\n"
     ]
    }
   ],
   "source": [
    "df_shape = df_grocery.shape\n",
    "print(f\"Набір даних містить {df_shape[0]} рядків та {df_shape[1]} колонок\")"
   ]
  },
  {
   "cell_type": "markdown",
   "id": "e062011e",
   "metadata": {},
   "source": [
    "**Коментар-відповідь:** Як і з допомогою sweetviz, бачимо ідентичні розміри."
   ]
  },
  {
   "cell_type": "markdown",
   "id": "2bc424d4",
   "metadata": {},
   "source": [
    "**Початковий аналіз 3:** Перевірка на наявність дублів"
   ]
  },
  {
   "cell_type": "code",
   "execution_count": 24,
   "id": "cef52c99",
   "metadata": {},
   "outputs": [
    {
     "data": {
      "text/plain": [
       "False    50446\n",
       "True         1\n",
       "dtype: int64"
      ]
     },
     "execution_count": 24,
     "metadata": {},
     "output_type": "execute_result"
    }
   ],
   "source": [
    "df_grocery.duplicated().value_counts()"
   ]
  },
  {
   "cell_type": "markdown",
   "id": "e52b43eb",
   "metadata": {},
   "source": [
    "**Знайдено один дубль.**\n",
    "Нижче виводимо це потенційний дубль."
   ]
  },
  {
   "cell_type": "code",
   "execution_count": 25,
   "id": "836cb3a2",
   "metadata": {},
   "outputs": [
    {
     "data": {
      "text/html": [
       "<div>\n",
       "<style scoped>\n",
       "    .dataframe tbody tr th:only-of-type {\n",
       "        vertical-align: middle;\n",
       "    }\n",
       "\n",
       "    .dataframe tbody tr th {\n",
       "        vertical-align: top;\n",
       "    }\n",
       "\n",
       "    .dataframe thead th {\n",
       "        text-align: right;\n",
       "    }\n",
       "</style>\n",
       "<table border=\"1\" class=\"dataframe\">\n",
       "  <thead>\n",
       "    <tr style=\"text-align: right;\">\n",
       "      <th></th>\n",
       "      <th>Receipt Number</th>\n",
       "      <th>Date</th>\n",
       "      <th>Year</th>\n",
       "      <th>Month</th>\n",
       "      <th>Time</th>\n",
       "      <th>Mobile Number</th>\n",
       "      <th>Membership ID</th>\n",
       "      <th>Loyalty Card Points</th>\n",
       "      <th>Age</th>\n",
       "      <th>Gender</th>\n",
       "      <th>...</th>\n",
       "      <th>GST</th>\n",
       "      <th>Gross Bill Amount</th>\n",
       "      <th>Payment Mode</th>\n",
       "      <th>Bank Name</th>\n",
       "      <th>% Profit Margin</th>\n",
       "      <th>% Operating Cost</th>\n",
       "      <th>% Product Cost</th>\n",
       "      <th>Profit Margin</th>\n",
       "      <th>Operating Cost</th>\n",
       "      <th>Product Cost</th>\n",
       "    </tr>\n",
       "  </thead>\n",
       "  <tbody>\n",
       "    <tr>\n",
       "      <th>32664</th>\n",
       "      <td>GSB00094</td>\n",
       "      <td>2016-02-12</td>\n",
       "      <td>2016</td>\n",
       "      <td>2</td>\n",
       "      <td>14:01:00.088000</td>\n",
       "      <td>9853108031</td>\n",
       "      <td>MIDSG0091</td>\n",
       "      <td>2</td>\n",
       "      <td>60</td>\n",
       "      <td>Female</td>\n",
       "      <td>...</td>\n",
       "      <td>0.07</td>\n",
       "      <td>8.41662</td>\n",
       "      <td>Cash</td>\n",
       "      <td>ING Bank</td>\n",
       "      <td>0.093</td>\n",
       "      <td>0.15</td>\n",
       "      <td>0.757</td>\n",
       "      <td>0.38502</td>\n",
       "      <td>0.621</td>\n",
       "      <td>3.13398</td>\n",
       "    </tr>\n",
       "  </tbody>\n",
       "</table>\n",
       "<p>1 rows × 32 columns</p>\n",
       "</div>"
      ],
      "text/plain": [
       "      Receipt Number       Date  Year  Month             Time  Mobile Number  \\\n",
       "32664       GSB00094 2016-02-12  2016      2  14:01:00.088000     9853108031   \n",
       "\n",
       "      Membership ID  Loyalty Card Points  Age  Gender  ...   GST  \\\n",
       "32664     MIDSG0091                    2   60  Female  ...  0.07   \n",
       "\n",
       "      Gross Bill Amount Payment Mode Bank Name % Profit Margin  \\\n",
       "32664           8.41662         Cash  ING Bank           0.093   \n",
       "\n",
       "      % Operating Cost % Product Cost  Profit Margin  Operating Cost  \\\n",
       "32664             0.15          0.757        0.38502           0.621   \n",
       "\n",
       "       Product Cost  \n",
       "32664       3.13398  \n",
       "\n",
       "[1 rows x 32 columns]"
      ]
     },
     "execution_count": 25,
     "metadata": {},
     "output_type": "execute_result"
    }
   ],
   "source": [
    "df_grocery[df_grocery.duplicated()]"
   ]
  },
  {
   "cell_type": "markdown",
   "id": "eaa18d32",
   "metadata": {},
   "source": [
    "Виводимо обидва рядки, які можливо дублюються."
   ]
  },
  {
   "cell_type": "code",
   "execution_count": 26,
   "id": "a59207d2",
   "metadata": {
    "scrolled": true
   },
   "outputs": [
    {
     "data": {
      "text/html": [
       "<div>\n",
       "<style scoped>\n",
       "    .dataframe tbody tr th:only-of-type {\n",
       "        vertical-align: middle;\n",
       "    }\n",
       "\n",
       "    .dataframe tbody tr th {\n",
       "        vertical-align: top;\n",
       "    }\n",
       "\n",
       "    .dataframe thead th {\n",
       "        text-align: right;\n",
       "    }\n",
       "</style>\n",
       "<table border=\"1\" class=\"dataframe\">\n",
       "  <thead>\n",
       "    <tr style=\"text-align: right;\">\n",
       "      <th></th>\n",
       "      <th>Receipt Number</th>\n",
       "      <th>Date</th>\n",
       "      <th>Year</th>\n",
       "      <th>Month</th>\n",
       "      <th>Time</th>\n",
       "      <th>Mobile Number</th>\n",
       "      <th>Membership ID</th>\n",
       "      <th>Loyalty Card Points</th>\n",
       "      <th>Age</th>\n",
       "      <th>Gender</th>\n",
       "      <th>...</th>\n",
       "      <th>GST</th>\n",
       "      <th>Gross Bill Amount</th>\n",
       "      <th>Payment Mode</th>\n",
       "      <th>Bank Name</th>\n",
       "      <th>% Profit Margin</th>\n",
       "      <th>% Operating Cost</th>\n",
       "      <th>% Product Cost</th>\n",
       "      <th>Profit Margin</th>\n",
       "      <th>Operating Cost</th>\n",
       "      <th>Product Cost</th>\n",
       "    </tr>\n",
       "  </thead>\n",
       "  <tbody>\n",
       "    <tr>\n",
       "      <th>32663</th>\n",
       "      <td>GSB00094</td>\n",
       "      <td>2016-02-12</td>\n",
       "      <td>2016</td>\n",
       "      <td>2</td>\n",
       "      <td>14:01:00.088000</td>\n",
       "      <td>9853108031</td>\n",
       "      <td>MIDSG0091</td>\n",
       "      <td>2</td>\n",
       "      <td>60</td>\n",
       "      <td>Female</td>\n",
       "      <td>...</td>\n",
       "      <td>0.07</td>\n",
       "      <td>8.41662</td>\n",
       "      <td>Cash</td>\n",
       "      <td>ING Bank</td>\n",
       "      <td>0.093</td>\n",
       "      <td>0.15</td>\n",
       "      <td>0.757</td>\n",
       "      <td>0.38502</td>\n",
       "      <td>0.621</td>\n",
       "      <td>3.13398</td>\n",
       "    </tr>\n",
       "    <tr>\n",
       "      <th>32664</th>\n",
       "      <td>GSB00094</td>\n",
       "      <td>2016-02-12</td>\n",
       "      <td>2016</td>\n",
       "      <td>2</td>\n",
       "      <td>14:01:00.088000</td>\n",
       "      <td>9853108031</td>\n",
       "      <td>MIDSG0091</td>\n",
       "      <td>2</td>\n",
       "      <td>60</td>\n",
       "      <td>Female</td>\n",
       "      <td>...</td>\n",
       "      <td>0.07</td>\n",
       "      <td>8.41662</td>\n",
       "      <td>Cash</td>\n",
       "      <td>ING Bank</td>\n",
       "      <td>0.093</td>\n",
       "      <td>0.15</td>\n",
       "      <td>0.757</td>\n",
       "      <td>0.38502</td>\n",
       "      <td>0.621</td>\n",
       "      <td>3.13398</td>\n",
       "    </tr>\n",
       "  </tbody>\n",
       "</table>\n",
       "<p>2 rows × 32 columns</p>\n",
       "</div>"
      ],
      "text/plain": [
       "      Receipt Number       Date  Year  Month             Time  Mobile Number  \\\n",
       "32663       GSB00094 2016-02-12  2016      2  14:01:00.088000     9853108031   \n",
       "32664       GSB00094 2016-02-12  2016      2  14:01:00.088000     9853108031   \n",
       "\n",
       "      Membership ID  Loyalty Card Points  Age  Gender  ...   GST  \\\n",
       "32663     MIDSG0091                    2   60  Female  ...  0.07   \n",
       "32664     MIDSG0091                    2   60  Female  ...  0.07   \n",
       "\n",
       "      Gross Bill Amount Payment Mode Bank Name % Profit Margin  \\\n",
       "32663           8.41662         Cash  ING Bank           0.093   \n",
       "32664           8.41662         Cash  ING Bank           0.093   \n",
       "\n",
       "      % Operating Cost % Product Cost  Profit Margin  Operating Cost  \\\n",
       "32663             0.15          0.757        0.38502           0.621   \n",
       "32664             0.15          0.757        0.38502           0.621   \n",
       "\n",
       "       Product Cost  \n",
       "32663       3.13398  \n",
       "32664       3.13398  \n",
       "\n",
       "[2 rows x 32 columns]"
      ]
     },
     "execution_count": 26,
     "metadata": {},
     "output_type": "execute_result"
    }
   ],
   "source": [
    "df_grocery[df_grocery['Receipt Number']=='GSB00094']"
   ]
  },
  {
   "cell_type": "markdown",
   "id": "b77a9e52",
   "metadata": {},
   "source": [
    "Дивимося яка у нас кількість товару по кожному з чеків, а також перевіряємо який Item. Це допоможе зробити висновки, що робити з дублем."
   ]
  },
  {
   "cell_type": "code",
   "execution_count": 27,
   "id": "25631b78",
   "metadata": {},
   "outputs": [
    {
     "data": {
      "text/plain": [
       "32663    1\n",
       "32664    1\n",
       "Name: QTY, dtype: int64"
      ]
     },
     "execution_count": 27,
     "metadata": {},
     "output_type": "execute_result"
    }
   ],
   "source": [
    "df_grocery['QTY'][df_grocery['Receipt Number']=='GSB00094']"
   ]
  },
  {
   "cell_type": "code",
   "execution_count": 28,
   "id": "6aff5bf2",
   "metadata": {},
   "outputs": [
    {
     "data": {
      "text/plain": [
       "32663    Tostitos medium chunky salsa\n",
       "32664    Tostitos medium chunky salsa\n",
       "Name: Items, dtype: object"
      ]
     },
     "execution_count": 28,
     "metadata": {},
     "output_type": "execute_result"
    }
   ],
   "source": [
    "df_grocery['Items'][df_grocery['Receipt Number']=='GSB00094']"
   ]
  },
  {
   "cell_type": "markdown",
   "id": "0bfc50fa",
   "metadata": {},
   "source": [
    "**Висновок:** Це може бути як дубль, так і якась технічна проблема. І відповідно товар було просто якимось чином внесено окремо. Але ми не можемо встановити цих технічних тонкощів. Навіть якщо це дубль, він не вплине на наші результати, зважаючи на розміри бази. Тому не видаляю цей рядок."
   ]
  },
  {
   "cell_type": "markdown",
   "id": "d301d9c0",
   "metadata": {},
   "source": [
    "**Початковий аналіз 4:** Інструментами пандас перевірив кількість місінгів.\n"
   ]
  },
  {
   "cell_type": "code",
   "execution_count": 29,
   "id": "04e8ea03",
   "metadata": {},
   "outputs": [
    {
     "data": {
      "text/plain": [
       "Receipt Number         0\n",
       "Date                   0\n",
       "Year                   0\n",
       "Month                  0\n",
       "Time                   0\n",
       "Mobile Number          0\n",
       "Membership ID          0\n",
       "Loyalty Card Points    0\n",
       "Age                    0\n",
       "Gender                 0\n",
       "City                   0\n",
       "Country                0\n",
       "Category               0\n",
       "Sub_Category           0\n",
       "Items                  0\n",
       "Brand                  0\n",
       "Description            0\n",
       "Price                  0\n",
       "QTY                    0\n",
       "DISC                   0\n",
       "Amount                 0\n",
       "Net Bill Amount        0\n",
       "GST                    0\n",
       "Gross Bill Amount      0\n",
       "Payment Mode           0\n",
       "Bank Name              0\n",
       "% Profit Margin        0\n",
       "% Operating Cost       0\n",
       "% Product Cost         0\n",
       "Profit Margin          0\n",
       "Operating Cost         0\n",
       "Product Cost           0\n",
       "dtype: int64"
      ]
     },
     "execution_count": 29,
     "metadata": {},
     "output_type": "execute_result"
    }
   ],
   "source": [
    "df_grocery.isna().sum()"
   ]
  },
  {
   "cell_type": "code",
   "execution_count": 30,
   "id": "91533764",
   "metadata": {},
   "outputs": [
    {
     "data": {
      "text/plain": [
       "0"
      ]
     },
     "execution_count": 30,
     "metadata": {},
     "output_type": "execute_result"
    }
   ],
   "source": [
    "df_grocery.columns.isna().sum()"
   ]
  },
  {
   "cell_type": "markdown",
   "id": "cf3aa5de",
   "metadata": {},
   "source": [
    "**Відповідь:** Як ми бачимо, місінгів справді немає. Також немає порожніх колонок."
   ]
  },
  {
   "cell_type": "markdown",
   "id": "9d639f03",
   "metadata": {},
   "source": [
    "**Початковий аналіз 5:** Перевірка типів даних, можливо потрібно змінити типи даних для аналізу."
   ]
  },
  {
   "cell_type": "code",
   "execution_count": 31,
   "id": "27fd0316",
   "metadata": {},
   "outputs": [
    {
     "data": {
      "text/plain": [
       "Receipt Number                 object\n",
       "Date                   datetime64[ns]\n",
       "Year                            int64\n",
       "Month                           int64\n",
       "Time                           object\n",
       "Mobile Number                   int64\n",
       "Membership ID                  object\n",
       "Loyalty Card Points             int64\n",
       "Age                             int64\n",
       "Gender                         object\n",
       "City                           object\n",
       "Country                        object\n",
       "Category                       object\n",
       "Sub_Category                   object\n",
       "Items                          object\n",
       "Brand                          object\n",
       "Description                    object\n",
       "Price                         float64\n",
       "QTY                             int64\n",
       "DISC                          float64\n",
       "Amount                        float64\n",
       "Net Bill Amount               float64\n",
       "GST                           float64\n",
       "Gross Bill Amount             float64\n",
       "Payment Mode                   object\n",
       "Bank Name                      object\n",
       "% Profit Margin               float64\n",
       "% Operating Cost              float64\n",
       "% Product Cost                float64\n",
       "Profit Margin                 float64\n",
       "Operating Cost                float64\n",
       "Product Cost                  float64\n",
       "dtype: object"
      ]
     },
     "execution_count": 31,
     "metadata": {},
     "output_type": "execute_result"
    }
   ],
   "source": [
    "df_grocery.dtypes"
   ]
  },
  {
   "cell_type": "code",
   "execution_count": 33,
   "id": "e92ff6d0",
   "metadata": {},
   "outputs": [
    {
     "data": {
      "text/plain": [
       "object            13\n",
       "float64           12\n",
       "int64              6\n",
       "datetime64[ns]     1\n",
       "dtype: int64"
      ]
     },
     "execution_count": 33,
     "metadata": {},
     "output_type": "execute_result"
    }
   ],
   "source": [
    "# виводимо кількість колонок за типами даних\n",
    "df_grocery.dtypes.value_counts()"
   ]
  },
  {
   "cell_type": "markdown",
   "id": "a3b549fd",
   "metadata": {},
   "source": [
    "Ми бачимо, що в деяких колонках неправильні типи даних. Зокрема час чомусь object. Це потрібно буде вирішити, якщо для аналізу буде необхідний цей показник. "
   ]
  },
  {
   "cell_type": "markdown",
   "id": "f05d8e8d",
   "metadata": {},
   "source": [
    "**Початковий аналіз 6:** За досвідом попередніх завдань, вирішив перевірити топ-10 значень для кожної колонки."
   ]
  },
  {
   "cell_type": "code",
   "execution_count": 34,
   "id": "74249746",
   "metadata": {},
   "outputs": [
    {
     "name": "stdout",
     "output_type": "stream",
     "text": [
      "GIJ00364    16\n",
      "GMK02436    14\n",
      "GPM02685    14\n",
      "GIJ01211    13\n",
      "GSB02029    13\n",
      "GSB00706    12\n",
      "GPM03027    12\n",
      "GPM01296    12\n",
      "GPM01539    12\n",
      "GPM00179    12\n",
      "Name: Receipt Number, dtype: int64\n",
      "\n",
      "2019-12-25    100\n",
      "2018-02-23     84\n",
      "2019-11-04     84\n",
      "2019-05-06     83\n",
      "2019-10-02     81\n",
      "2017-05-31     80\n",
      "2019-05-11     80\n",
      "2019-11-18     79\n",
      "2019-05-08     77\n",
      "2019-10-13     77\n",
      "Name: Date, dtype: int64\n",
      "\n",
      "2019    15346\n",
      "2018    13231\n",
      "2017    11644\n",
      "2016    10226\n",
      "Name: Year, dtype: int64\n",
      "\n",
      "1     4486\n",
      "7     4481\n",
      "5     4361\n",
      "3     4357\n",
      "10    4310\n",
      "11    4276\n",
      "6     4089\n",
      "8     4085\n",
      "9     4054\n",
      "12    4037\n",
      "Name: Month, dtype: int64\n",
      "\n",
      "10:46:25.400000    13\n",
      "19:41:29.300000    10\n",
      "19:59:43.274000    10\n",
      "20:07:12.247000    10\n",
      "20:54:14.847000    10\n",
      "18:29:18.812000    10\n",
      "10:17:11.783000    10\n",
      "21:21:16.306000    10\n",
      "11:09:27.219000    10\n",
      "21:20:24.887000    10\n",
      "Name: Time, dtype: int64\n",
      "\n",
      "9792184381    108\n",
      "9828203362     96\n",
      "9938032583     94\n",
      "9838195527     93\n",
      "9962699584     91\n",
      "9951855517     84\n",
      "9922611292     82\n",
      "9947097728     81\n",
      "9829717940     81\n",
      "9975396102     80\n",
      "Name: Mobile Number, dtype: int64\n",
      "\n",
      "MIDPH0241    108\n",
      "MIDPH0036     96\n",
      "MIDPH0028     94\n",
      "MIDPH0106     93\n",
      "MIDPH0015     91\n",
      "MIDPH0133     84\n",
      "MIDMY0302     82\n",
      "MIDMY0359     81\n",
      "MIDMY0143     81\n",
      "MIDMY0102     80\n",
      "Name: Membership ID, dtype: int64\n",
      "\n",
      "1     2357\n",
      "2     2233\n",
      "3     2144\n",
      "4     2042\n",
      "5     2032\n",
      "6     1888\n",
      "7     1794\n",
      "8     1648\n",
      "9     1603\n",
      "10    1551\n",
      "Name: Loyalty Card Points, dtype: int64\n",
      "\n",
      "20    2102\n",
      "18    1644\n",
      "17    1630\n",
      "19    1603\n",
      "16    1457\n",
      "26    1399\n",
      "47    1375\n",
      "38    1369\n",
      "51    1366\n",
      "25    1363\n",
      "Name: Age, dtype: int64\n",
      "\n",
      "Female    41822\n",
      "Male       8625\n",
      "Name: Gender, dtype: int64\n",
      "\n",
      "Manila          12380\n",
      "Bedok           12272\n",
      "Kuala Lumpur    10763\n",
      "Jakarta          9108\n",
      "Woodlands        5924\n",
      "Name: City, dtype: int64\n",
      "\n",
      "Singapore      18196\n",
      "Philippines    12380\n",
      "Malaysia       10763\n",
      "Indonesia       9108\n",
      "Name: Country, dtype: int64\n",
      "\n",
      "Bakery & Breakfast           6770\n",
      "Frozen                       6393\n",
      "Beauty                       5205\n",
      "Fruit & Vegetable            4370\n",
      "Pet Care                     3465\n",
      "Dairy, Chilled & Eggs        3381\n",
      "Choco, Snacks, Sweets        3019\n",
      "Kitchen & Dining             2552\n",
      "Rice & Cooking Essentials    2432\n",
      "Beverages                    2208\n",
      "Name: Category, dtype: int64\n",
      "\n",
      "BBQ Supplies            2552\n",
      "Dog Food & Trat         2233\n",
      "Oral Care               2155\n",
      "Disposable Tableware    1836\n",
      "Frozen Vegetables       1772\n",
      "skin care               1754\n",
      "Frozen Fruits           1637\n",
      "Fresh Bread             1608\n",
      "Frozen Seafood          1518\n",
      "Frozen Meat             1471\n",
      "Name: Sub_Category, dtype: int64\n",
      "\n",
      "Sainsbury salted tortilla chips                849\n",
      "Ashai Lager Beer                               813\n",
      "Lamb pate dog food                             653\n",
      "Anchor salted pure butter                      647\n",
      "Nutro Beef with vegetables dog food            646\n",
      "Alpo Chicken pate dog food                     643\n",
      "Fresh Soyamilk                                 628\n",
      "PEDIGREE Adult complete nuritition dog food    626\n",
      "Original wholemeal bread                       610\n",
      "3 in 1 cereal drink original                   518\n",
      "Name: Items, dtype: int64\n",
      "\n",
      "Biogreen         1163\n",
      "BonJour          1070\n",
      "RedMart           891\n",
      "Sainbury          849\n",
      "Ashai             813\n",
      "Liang Teck        805\n",
      "ThyGrace          792\n",
      "Nature's Gift     763\n",
      "Alpo              751\n",
      "Anchor            730\n",
      "Name: Brand , dtype: int64\n",
      "\n",
      "270 g          1206\n",
      "1 Kg           1179\n",
      "220 g          1143\n",
      "340 g          1131\n",
      "30 per pack    1128\n",
      "160 g           954\n",
      "480 ml          889\n",
      "170 g           819\n",
      "50 per pack     752\n",
      "100 g           746\n",
      "Name: Description , dtype: int64\n",
      "\n",
      "2    24817\n",
      "1    24757\n",
      "3      462\n",
      "4      114\n",
      "5       98\n",
      "7       73\n",
      "6       71\n",
      "8       54\n",
      "9        1\n",
      "Name: QTY, dtype: int64\n",
      "\n",
      "Card      17149\n",
      "Wallet    16867\n",
      "Cash      16431\n",
      "Name: Payment Mode, dtype: int64\n",
      "\n",
      "BDO Unibank                 11172\n",
      "Philippine Veterans Bank    10154\n",
      "Philippine National bank    10118\n",
      "Enterprise Bank              9628\n",
      "ING Bank                     9056\n",
      "Cash                           84\n",
      "Deutsche Bank                  53\n",
      "ALLIANCE Bank                  50\n",
      "Agrobank                       47\n",
      "Bank Central Asia              21\n",
      "Name: Bank Name, dtype: int64\n",
      "\n",
      "0.15    50447\n",
      "Name: % Operating Cost, dtype: int64\n",
      "\n"
     ]
    }
   ],
   "source": [
    "for column in df_grocery.columns:\n",
    "    try:\n",
    "        top_values = df_grocery[column].value_counts()[0:10]\n",
    "        print(top_values)\n",
    "        print(\"\")\n",
    "    except KeyError:  # викидало помилку. Вирішив її прибрати. \n",
    "        value = None"
   ]
  },
  {
   "cell_type": "markdown",
   "id": "1c42b6ea",
   "metadata": {},
   "source": [
    "**Висновок:** менш зручно ніж в SweetViz. Проблем на цьому етапі не виявлено."
   ]
  },
  {
   "cell_type": "markdown",
   "id": "1dd1259d",
   "metadata": {},
   "source": [
    "**Початковий аналіз 7.** Також необхідно подивитися на числові змінні, чи немає аномалій. Для цього використовуємо метод describe()"
   ]
  },
  {
   "cell_type": "code",
   "execution_count": 35,
   "id": "32800650",
   "metadata": {
    "scrolled": true
   },
   "outputs": [
    {
     "data": {
      "text/html": [
       "<div>\n",
       "<style scoped>\n",
       "    .dataframe tbody tr th:only-of-type {\n",
       "        vertical-align: middle;\n",
       "    }\n",
       "\n",
       "    .dataframe tbody tr th {\n",
       "        vertical-align: top;\n",
       "    }\n",
       "\n",
       "    .dataframe thead th {\n",
       "        text-align: right;\n",
       "    }\n",
       "</style>\n",
       "<table border=\"1\" class=\"dataframe\">\n",
       "  <thead>\n",
       "    <tr style=\"text-align: right;\">\n",
       "      <th></th>\n",
       "      <th>Year</th>\n",
       "      <th>Month</th>\n",
       "      <th>Mobile Number</th>\n",
       "      <th>Loyalty Card Points</th>\n",
       "      <th>Age</th>\n",
       "      <th>Price</th>\n",
       "      <th>QTY</th>\n",
       "      <th>DISC</th>\n",
       "      <th>Amount</th>\n",
       "      <th>Net Bill Amount</th>\n",
       "      <th>GST</th>\n",
       "      <th>Gross Bill Amount</th>\n",
       "      <th>% Profit Margin</th>\n",
       "      <th>% Operating Cost</th>\n",
       "      <th>% Product Cost</th>\n",
       "      <th>Profit Margin</th>\n",
       "      <th>Operating Cost</th>\n",
       "      <th>Product Cost</th>\n",
       "    </tr>\n",
       "  </thead>\n",
       "  <tbody>\n",
       "    <tr>\n",
       "      <th>count</th>\n",
       "      <td>50447.000000</td>\n",
       "      <td>50447.000000</td>\n",
       "      <td>5.044700e+04</td>\n",
       "      <td>50447.000000</td>\n",
       "      <td>50447.000000</td>\n",
       "      <td>50447.000000</td>\n",
       "      <td>50447.000000</td>\n",
       "      <td>50447.000000</td>\n",
       "      <td>50447.000000</td>\n",
       "      <td>50447.000000</td>\n",
       "      <td>50447.000000</td>\n",
       "      <td>50447.000000</td>\n",
       "      <td>50447.000000</td>\n",
       "      <td>5.044700e+04</td>\n",
       "      <td>50447.000000</td>\n",
       "      <td>50447.000000</td>\n",
       "      <td>50447.000000</td>\n",
       "      <td>50447.000000</td>\n",
       "    </tr>\n",
       "    <tr>\n",
       "      <th>mean</th>\n",
       "      <td>2017.667968</td>\n",
       "      <td>6.476678</td>\n",
       "      <td>9.893557e+09</td>\n",
       "      <td>18.364263</td>\n",
       "      <td>35.801772</td>\n",
       "      <td>7.424184</td>\n",
       "      <td>1.548179</td>\n",
       "      <td>0.029938</td>\n",
       "      <td>11.167962</td>\n",
       "      <td>66.695212</td>\n",
       "      <td>0.085553</td>\n",
       "      <td>72.378916</td>\n",
       "      <td>0.105550</td>\n",
       "      <td>1.500000e-01</td>\n",
       "      <td>0.744450</td>\n",
       "      <td>1.201682</td>\n",
       "      <td>1.726851</td>\n",
       "      <td>8.583809</td>\n",
       "    </tr>\n",
       "    <tr>\n",
       "      <th>std</th>\n",
       "      <td>1.111588</td>\n",
       "      <td>3.454349</td>\n",
       "      <td>7.636461e+07</td>\n",
       "      <td>16.161139</td>\n",
       "      <td>14.020367</td>\n",
       "      <td>4.753588</td>\n",
       "      <td>0.648461</td>\n",
       "      <td>0.014230</td>\n",
       "      <td>9.227162</td>\n",
       "      <td>45.269851</td>\n",
       "      <td>0.023568</td>\n",
       "      <td>49.093636</td>\n",
       "      <td>0.029403</td>\n",
       "      <td>5.551170e-17</td>\n",
       "      <td>0.029403</td>\n",
       "      <td>1.063545</td>\n",
       "      <td>1.426844</td>\n",
       "      <td>7.134957</td>\n",
       "    </tr>\n",
       "    <tr>\n",
       "      <th>min</th>\n",
       "      <td>2016.000000</td>\n",
       "      <td>1.000000</td>\n",
       "      <td>7.919903e+09</td>\n",
       "      <td>0.000000</td>\n",
       "      <td>15.000000</td>\n",
       "      <td>0.840000</td>\n",
       "      <td>1.000000</td>\n",
       "      <td>0.010000</td>\n",
       "      <td>0.798000</td>\n",
       "      <td>0.978500</td>\n",
       "      <td>0.060000</td>\n",
       "      <td>1.037210</td>\n",
       "      <td>0.051000</td>\n",
       "      <td>1.500000e-01</td>\n",
       "      <td>0.700000</td>\n",
       "      <td>0.067840</td>\n",
       "      <td>0.126000</td>\n",
       "      <td>0.609840</td>\n",
       "    </tr>\n",
       "    <tr>\n",
       "      <th>25%</th>\n",
       "      <td>2017.000000</td>\n",
       "      <td>3.000000</td>\n",
       "      <td>9.839283e+09</td>\n",
       "      <td>6.000000</td>\n",
       "      <td>23.000000</td>\n",
       "      <td>4.280000</td>\n",
       "      <td>1.000000</td>\n",
       "      <td>0.020000</td>\n",
       "      <td>5.213600</td>\n",
       "      <td>35.328000</td>\n",
       "      <td>0.070000</td>\n",
       "      <td>38.615940</td>\n",
       "      <td>0.083000</td>\n",
       "      <td>1.500000e-01</td>\n",
       "      <td>0.722000</td>\n",
       "      <td>0.545600</td>\n",
       "      <td>0.805500</td>\n",
       "      <td>4.082890</td>\n",
       "    </tr>\n",
       "    <tr>\n",
       "      <th>50%</th>\n",
       "      <td>2018.000000</td>\n",
       "      <td>7.000000</td>\n",
       "      <td>9.897050e+09</td>\n",
       "      <td>14.000000</td>\n",
       "      <td>35.000000</td>\n",
       "      <td>5.980000</td>\n",
       "      <td>2.000000</td>\n",
       "      <td>0.030000</td>\n",
       "      <td>8.632800</td>\n",
       "      <td>58.586500</td>\n",
       "      <td>0.070000</td>\n",
       "      <td>63.909120</td>\n",
       "      <td>0.109000</td>\n",
       "      <td>1.500000e-01</td>\n",
       "      <td>0.741000</td>\n",
       "      <td>0.928200</td>\n",
       "      <td>1.329000</td>\n",
       "      <td>6.648660</td>\n",
       "    </tr>\n",
       "    <tr>\n",
       "      <th>75%</th>\n",
       "      <td>2019.000000</td>\n",
       "      <td>10.000000</td>\n",
       "      <td>9.950153e+09</td>\n",
       "      <td>26.000000</td>\n",
       "      <td>47.000000</td>\n",
       "      <td>9.470000</td>\n",
       "      <td>2.000000</td>\n",
       "      <td>0.040000</td>\n",
       "      <td>14.016000</td>\n",
       "      <td>90.585000</td>\n",
       "      <td>0.100000</td>\n",
       "      <td>98.076440</td>\n",
       "      <td>0.128000</td>\n",
       "      <td>1.500000e-01</td>\n",
       "      <td>0.767000</td>\n",
       "      <td>1.505270</td>\n",
       "      <td>2.178000</td>\n",
       "      <td>10.828800</td>\n",
       "    </tr>\n",
       "    <tr>\n",
       "      <th>max</th>\n",
       "      <td>2019.000000</td>\n",
       "      <td>12.000000</td>\n",
       "      <td>9.999984e+09</td>\n",
       "      <td>116.000000</td>\n",
       "      <td>75.000000</td>\n",
       "      <td>40.330000</td>\n",
       "      <td>9.000000</td>\n",
       "      <td>0.050000</td>\n",
       "      <td>299.827200</td>\n",
       "      <td>527.668000</td>\n",
       "      <td>0.120000</td>\n",
       "      <td>559.328080</td>\n",
       "      <td>0.150000</td>\n",
       "      <td>1.500000e-01</td>\n",
       "      <td>0.799000</td>\n",
       "      <td>26.234880</td>\n",
       "      <td>46.848000</td>\n",
       "      <td>239.237120</td>\n",
       "    </tr>\n",
       "  </tbody>\n",
       "</table>\n",
       "</div>"
      ],
      "text/plain": [
       "               Year         Month  Mobile Number  Loyalty Card Points  \\\n",
       "count  50447.000000  50447.000000   5.044700e+04         50447.000000   \n",
       "mean    2017.667968      6.476678   9.893557e+09            18.364263   \n",
       "std        1.111588      3.454349   7.636461e+07            16.161139   \n",
       "min     2016.000000      1.000000   7.919903e+09             0.000000   \n",
       "25%     2017.000000      3.000000   9.839283e+09             6.000000   \n",
       "50%     2018.000000      7.000000   9.897050e+09            14.000000   \n",
       "75%     2019.000000     10.000000   9.950153e+09            26.000000   \n",
       "max     2019.000000     12.000000   9.999984e+09           116.000000   \n",
       "\n",
       "                Age         Price           QTY          DISC        Amount  \\\n",
       "count  50447.000000  50447.000000  50447.000000  50447.000000  50447.000000   \n",
       "mean      35.801772      7.424184      1.548179      0.029938     11.167962   \n",
       "std       14.020367      4.753588      0.648461      0.014230      9.227162   \n",
       "min       15.000000      0.840000      1.000000      0.010000      0.798000   \n",
       "25%       23.000000      4.280000      1.000000      0.020000      5.213600   \n",
       "50%       35.000000      5.980000      2.000000      0.030000      8.632800   \n",
       "75%       47.000000      9.470000      2.000000      0.040000     14.016000   \n",
       "max       75.000000     40.330000      9.000000      0.050000    299.827200   \n",
       "\n",
       "       Net Bill Amount           GST  Gross Bill Amount  % Profit Margin  \\\n",
       "count     50447.000000  50447.000000       50447.000000     50447.000000   \n",
       "mean         66.695212      0.085553          72.378916         0.105550   \n",
       "std          45.269851      0.023568          49.093636         0.029403   \n",
       "min           0.978500      0.060000           1.037210         0.051000   \n",
       "25%          35.328000      0.070000          38.615940         0.083000   \n",
       "50%          58.586500      0.070000          63.909120         0.109000   \n",
       "75%          90.585000      0.100000          98.076440         0.128000   \n",
       "max         527.668000      0.120000         559.328080         0.150000   \n",
       "\n",
       "       % Operating Cost  % Product Cost  Profit Margin  Operating Cost  \\\n",
       "count      5.044700e+04    50447.000000   50447.000000    50447.000000   \n",
       "mean       1.500000e-01        0.744450       1.201682        1.726851   \n",
       "std        5.551170e-17        0.029403       1.063545        1.426844   \n",
       "min        1.500000e-01        0.700000       0.067840        0.126000   \n",
       "25%        1.500000e-01        0.722000       0.545600        0.805500   \n",
       "50%        1.500000e-01        0.741000       0.928200        1.329000   \n",
       "75%        1.500000e-01        0.767000       1.505270        2.178000   \n",
       "max        1.500000e-01        0.799000      26.234880       46.848000   \n",
       "\n",
       "       Product Cost  \n",
       "count  50447.000000  \n",
       "mean       8.583809  \n",
       "std        7.134957  \n",
       "min        0.609840  \n",
       "25%        4.082890  \n",
       "50%        6.648660  \n",
       "75%       10.828800  \n",
       "max      239.237120  "
      ]
     },
     "execution_count": 35,
     "metadata": {},
     "output_type": "execute_result"
    }
   ],
   "source": [
    "df_grocery.describe()"
   ]
  },
  {
   "cell_type": "markdown",
   "id": "2d54ea1d",
   "metadata": {},
   "source": [
    "**Висновки:** В цілому аномалій не виявилено. Немає, наприклад, аномально високих даних. Відповідно, можемо працювати з цими даними."
   ]
  },
  {
   "cell_type": "markdown",
   "id": "24ec123b",
   "metadata": {},
   "source": [
    "### ЗАПИТАННЯ ДО ДАНИХ\n"
   ]
  },
  {
   "cell_type": "markdown",
   "id": "92589af2",
   "metadata": {},
   "source": [
    "**ЗАПИТАННЯ 1.** Для проведення аналізу спочатку необхідно вирішити проблему неправильного типу даних для змінної Time та витягнути дані в окрему нову колонку Hour з типом даних int."
   ]
  },
  {
   "cell_type": "markdown",
   "id": "44f40f81",
   "metadata": {},
   "source": [
    "Я спробував одразу трансформувати дані у datetime. Але виникли проблеми, оскільки для частини даних схоже відсутні мілісекунди, зважаючи на помилку. ValueError: time data '14:53:26' does not match format '%H:%M:%S.%f' (match)\n",
    "\n",
    "Див. код нижче"
   ]
  },
  {
   "cell_type": "code",
   "execution_count": null,
   "id": "d845466c",
   "metadata": {
    "scrolled": false
   },
   "outputs": [],
   "source": [
    "# не працює df_time_test['Time_formatted'] = pd.to_datetime(df_time_test['Time'], format=\"%H:%M:%S.%f\")"
   ]
  },
  {
   "cell_type": "markdown",
   "id": "d025cadd",
   "metadata": {},
   "source": [
    "Після цього зробив 2 різні варіанти функцій, які подолають цю проблему. "
   ]
  },
  {
   "cell_type": "code",
   "execution_count": 94,
   "id": "9f69363b",
   "metadata": {},
   "outputs": [],
   "source": [
    "def time_format(time):\n",
    "    try:\n",
    "        return pd.to_datetime(time, format=\"%H:%M:%S.%f\") \n",
    "    except ValueError:\n",
    "        return pd.to_datetime(time, format=\"%H:%M:%S\")"
   ]
  },
  {
   "cell_type": "code",
   "execution_count": 37,
   "id": "a4a6877c",
   "metadata": {},
   "outputs": [],
   "source": [
    "def time_format2(time):\n",
    "    try:\n",
    "        return datetime.strptime(str(time), \"%H:%M:%S.%f\") \n",
    "    except ValueError:\n",
    "        return datetime.strptime(str(time), \"%H:%M:%S\")"
   ]
  },
  {
   "cell_type": "markdown",
   "id": "aeecdce0",
   "metadata": {},
   "source": [
    "Обрав перший варіант функції, потестував і застовував."
   ]
  },
  {
   "cell_type": "code",
   "execution_count": 95,
   "id": "1b269ae6",
   "metadata": {},
   "outputs": [],
   "source": [
    "df_grocery_edit = df_grocery.copy() # працюю в іншому датафреймі, щоб не вносити зміни в оригінальний. При цьому новий час записує в нову колонку."
   ]
  },
  {
   "cell_type": "code",
   "execution_count": 96,
   "id": "9d556377",
   "metadata": {},
   "outputs": [
    {
     "data": {
      "text/plain": [
       "0       1900-01-01 10:08:03.260\n",
       "1       1900-01-01 15:46:50.832\n",
       "2       1900-01-01 11:28:52.166\n",
       "3       1900-01-01 11:28:52.166\n",
       "4       1900-01-01 11:28:52.166\n",
       "                  ...          \n",
       "50442   1900-01-01 20:59:27.302\n",
       "50443   1900-01-01 13:14:45.030\n",
       "50444   1900-01-01 10:01:32.657\n",
       "50445   1900-01-01 10:01:32.657\n",
       "50446   1900-01-01 10:01:32.657\n",
       "Name: Time_formatted, Length: 50447, dtype: datetime64[ns]"
      ]
     },
     "execution_count": 96,
     "metadata": {},
     "output_type": "execute_result"
    }
   ],
   "source": [
    "df_grocery_edit['Time_formatted'] = df_grocery_edit['Time'].apply(time_format)\n",
    "df_grocery_edit['Time_formatted']"
   ]
  },
  {
   "cell_type": "code",
   "execution_count": 97,
   "id": "8eabcbc5",
   "metadata": {
    "scrolled": true
   },
   "outputs": [
    {
     "data": {
      "text/plain": [
       "0    10\n",
       "1    15\n",
       "2    11\n",
       "3    11\n",
       "4    11\n",
       "Name: Hour, dtype: int64"
      ]
     },
     "execution_count": 97,
     "metadata": {},
     "output_type": "execute_result"
    }
   ],
   "source": [
    "# Тепер витягуємо години.\n",
    "df_grocery_edit['Hour'] = df_grocery_edit['Time_formatted'].dt.hour\n",
    "df_grocery_edit['Hour'][:5]  # Тестуємо як відображається"
   ]
  },
  {
   "cell_type": "markdown",
   "id": "1aadf6bf",
   "metadata": {},
   "source": [
    "**В підсумку, ми маємо новий варіант бази з перекодованим часом та окремою колонкою для годин.**"
   ]
  },
  {
   "cell_type": "markdown",
   "id": "c09fd2db",
   "metadata": {},
   "source": [
    "**ЗАПИТАННЯ 2.** З допомогою Sweetviz ми змогли побачити, що в базі даних особливо представлені дані. Зокрема у нас продаж кожного товару представлений для кожного покупця окремо. Відповідно частина даних, які спільні для чеку (номер чеку, загальна сума, номер телефону клієнта тощо) дублюється в кількох рядках. Водночас відрізняються, наприклад, дані по окремих товарах, які до чеку входяться.\n",
    "\n",
    "Перевірити наявність дублікатів. Вивести датафрейм без дублікатів, для аналізу показників за окремими продажами (чеками)"
   ]
  },
  {
   "cell_type": "code",
   "execution_count": 41,
   "id": "9de2e199",
   "metadata": {
    "scrolled": true
   },
   "outputs": [
    {
     "name": "stdout",
     "output_type": "stream",
     "text": [
      "Набір даних містить 13048 унікальних чеків\n"
     ]
    }
   ],
   "source": [
    "unique_receipts = df_grocery_edit['Receipt Number'].unique()\n",
    "num_unique = len(unique_receipts)\n",
    "print(f\"Набір даних містить {num_unique} унікальних чеків\")"
   ]
  },
  {
   "cell_type": "markdown",
   "id": "45d5176e",
   "metadata": {},
   "source": [
    "**Висновок:** База може бути складна для розуміння на перший погляд. У нас насправді частина даних дублюється через особливості бази. Але ми можемо вирішити цю проблема, видаливши дублікати."
   ]
  },
  {
   "cell_type": "markdown",
   "id": "a911daa1",
   "metadata": {},
   "source": [
    "Виводимо датафрейм без дублікатів номерів чеку, що дозволить нам провести аналіз за окремими чеками (але лише по частині показників)"
   ]
  },
  {
   "cell_type": "code",
   "execution_count": 98,
   "id": "503c6024",
   "metadata": {},
   "outputs": [],
   "source": [
    "df_unique_bills = df_grocery_edit.drop_duplicates(subset=['Receipt Number'], keep='first', inplace=False, ignore_index=True)"
   ]
  },
  {
   "cell_type": "code",
   "execution_count": 99,
   "id": "159da9ab",
   "metadata": {
    "scrolled": true
   },
   "outputs": [
    {
     "data": {
      "text/html": [
       "<div>\n",
       "<style scoped>\n",
       "    .dataframe tbody tr th:only-of-type {\n",
       "        vertical-align: middle;\n",
       "    }\n",
       "\n",
       "    .dataframe tbody tr th {\n",
       "        vertical-align: top;\n",
       "    }\n",
       "\n",
       "    .dataframe thead th {\n",
       "        text-align: right;\n",
       "    }\n",
       "</style>\n",
       "<table border=\"1\" class=\"dataframe\">\n",
       "  <thead>\n",
       "    <tr style=\"text-align: right;\">\n",
       "      <th></th>\n",
       "      <th>Receipt Number</th>\n",
       "      <th>Date</th>\n",
       "      <th>Year</th>\n",
       "      <th>Month</th>\n",
       "      <th>Time</th>\n",
       "      <th>Mobile Number</th>\n",
       "      <th>Membership ID</th>\n",
       "      <th>Loyalty Card Points</th>\n",
       "      <th>Age</th>\n",
       "      <th>Gender</th>\n",
       "      <th>...</th>\n",
       "      <th>Payment Mode</th>\n",
       "      <th>Bank Name</th>\n",
       "      <th>% Profit Margin</th>\n",
       "      <th>% Operating Cost</th>\n",
       "      <th>% Product Cost</th>\n",
       "      <th>Profit Margin</th>\n",
       "      <th>Operating Cost</th>\n",
       "      <th>Product Cost</th>\n",
       "      <th>Time_formatted</th>\n",
       "      <th>Hour</th>\n",
       "    </tr>\n",
       "  </thead>\n",
       "  <tbody>\n",
       "    <tr>\n",
       "      <th>0</th>\n",
       "      <td>GIJ00001</td>\n",
       "      <td>2016-01-02</td>\n",
       "      <td>2016</td>\n",
       "      <td>1</td>\n",
       "      <td>10:08:03.260000</td>\n",
       "      <td>9793548581</td>\n",
       "      <td>MIDID0001</td>\n",
       "      <td>1</td>\n",
       "      <td>36</td>\n",
       "      <td>Male</td>\n",
       "      <td>...</td>\n",
       "      <td>Card</td>\n",
       "      <td>Enterprise Bank</td>\n",
       "      <td>0.150</td>\n",
       "      <td>0.15</td>\n",
       "      <td>0.700</td>\n",
       "      <td>1.85400</td>\n",
       "      <td>1.8540</td>\n",
       "      <td>8.65200</td>\n",
       "      <td>1900-01-01 10:08:03.260</td>\n",
       "      <td>10</td>\n",
       "    </tr>\n",
       "    <tr>\n",
       "      <th>1</th>\n",
       "      <td>GIJ00002</td>\n",
       "      <td>2016-01-02</td>\n",
       "      <td>2016</td>\n",
       "      <td>1</td>\n",
       "      <td>15:46:50.832000</td>\n",
       "      <td>9938441276</td>\n",
       "      <td>MIDID0002</td>\n",
       "      <td>2</td>\n",
       "      <td>54</td>\n",
       "      <td>Male</td>\n",
       "      <td>...</td>\n",
       "      <td>Card</td>\n",
       "      <td>Philippine Veterans Bank</td>\n",
       "      <td>0.118</td>\n",
       "      <td>0.15</td>\n",
       "      <td>0.732</td>\n",
       "      <td>2.73760</td>\n",
       "      <td>3.4800</td>\n",
       "      <td>16.98240</td>\n",
       "      <td>1900-01-01 15:46:50.832</td>\n",
       "      <td>15</td>\n",
       "    </tr>\n",
       "    <tr>\n",
       "      <th>2</th>\n",
       "      <td>GIJ00003</td>\n",
       "      <td>2016-01-02</td>\n",
       "      <td>2016</td>\n",
       "      <td>1</td>\n",
       "      <td>11:28:52.166000</td>\n",
       "      <td>9976742552</td>\n",
       "      <td>MIDID0003</td>\n",
       "      <td>1</td>\n",
       "      <td>16</td>\n",
       "      <td>Female</td>\n",
       "      <td>...</td>\n",
       "      <td>Cash</td>\n",
       "      <td>BDO Unibank</td>\n",
       "      <td>0.147</td>\n",
       "      <td>0.15</td>\n",
       "      <td>0.703</td>\n",
       "      <td>1.95657</td>\n",
       "      <td>1.9965</td>\n",
       "      <td>9.35693</td>\n",
       "      <td>1900-01-01 11:28:52.166</td>\n",
       "      <td>11</td>\n",
       "    </tr>\n",
       "  </tbody>\n",
       "</table>\n",
       "<p>3 rows × 34 columns</p>\n",
       "</div>"
      ],
      "text/plain": [
       "  Receipt Number       Date  Year  Month             Time  Mobile Number  \\\n",
       "0       GIJ00001 2016-01-02  2016      1  10:08:03.260000     9793548581   \n",
       "1       GIJ00002 2016-01-02  2016      1  15:46:50.832000     9938441276   \n",
       "2       GIJ00003 2016-01-02  2016      1  11:28:52.166000     9976742552   \n",
       "\n",
       "  Membership ID  Loyalty Card Points  Age  Gender  ... Payment Mode  \\\n",
       "0     MIDID0001                    1   36    Male  ...         Card   \n",
       "1     MIDID0002                    2   54    Male  ...         Card   \n",
       "2     MIDID0003                    1   16  Female  ...         Cash   \n",
       "\n",
       "                  Bank Name % Profit Margin % Operating Cost % Product Cost  \\\n",
       "0           Enterprise Bank           0.150             0.15          0.700   \n",
       "1  Philippine Veterans Bank           0.118             0.15          0.732   \n",
       "2               BDO Unibank           0.147             0.15          0.703   \n",
       "\n",
       "  Profit Margin Operating Cost  Product Cost          Time_formatted  Hour  \n",
       "0       1.85400         1.8540       8.65200 1900-01-01 10:08:03.260    10  \n",
       "1       2.73760         3.4800      16.98240 1900-01-01 15:46:50.832    15  \n",
       "2       1.95657         1.9965       9.35693 1900-01-01 11:28:52.166    11  \n",
       "\n",
       "[3 rows x 34 columns]"
      ]
     },
     "execution_count": 99,
     "metadata": {},
     "output_type": "execute_result"
    }
   ],
   "source": [
    "df_unique_bills.head(3)"
   ]
  },
  {
   "cell_type": "code",
   "execution_count": 100,
   "id": "0342ee65",
   "metadata": {},
   "outputs": [
    {
     "data": {
      "text/plain": [
       "Singapore      4699\n",
       "Philippines    3094\n",
       "Malaysia       2836\n",
       "Indonesia      2419\n",
       "Name: Country, dtype: int64"
      ]
     },
     "execution_count": 100,
     "metadata": {},
     "output_type": "execute_result"
    }
   ],
   "source": [
    "df_unique_bills.Country.value_counts()"
   ]
  },
  {
   "cell_type": "markdown",
   "id": "c772015d",
   "metadata": {},
   "source": [
    "**ВІДПОВІДЬ:** ми отримали датафрейм, з допомогою якого можемо аналізувати дані саме за агрегованими результатами по чеках."
   ]
  },
  {
   "cell_type": "markdown",
   "id": "426fc0ab",
   "metadata": {},
   "source": [
    "**ЗАПИТАННЯ 3.** Тепер можемо подивитися на найбільший і найменший чек.\n",
    "\n",
    "Спочатку відсортую чеки за спаданням"
   ]
  },
  {
   "cell_type": "code",
   "execution_count": 44,
   "id": "3602b328",
   "metadata": {
    "scrolled": false
   },
   "outputs": [
    {
     "data": {
      "text/plain": [
       "Receipt Number\n",
       "GMK02821    559.33\n",
       "GMK02820    539.21\n",
       "GSW01526    528.74\n",
       "GMK02819    517.99\n",
       "GPM03071    498.89\n",
       "             ...  \n",
       "GMK01466      1.09\n",
       "GMK00394      1.09\n",
       "GSW01115      1.07\n",
       "GMK01641      1.07\n",
       "GMK01819      1.04\n",
       "Name: Gross Bill Amount, Length: 13048, dtype: float64"
      ]
     },
     "execution_count": 44,
     "metadata": {},
     "output_type": "execute_result"
    }
   ],
   "source": [
    "unique_bills = df_unique_bills.groupby('Receipt Number')['Gross Bill Amount'].mean().round(2).sort_values(ascending=False)\n",
    "unique_bills"
   ]
  },
  {
   "cell_type": "markdown",
   "id": "d8b2676f",
   "metadata": {},
   "source": [
    "Виводимо найнижчий та найвищий розмір чеку."
   ]
  },
  {
   "cell_type": "code",
   "execution_count": 45,
   "id": "5751a20e",
   "metadata": {},
   "outputs": [
    {
     "name": "stdout",
     "output_type": "stream",
     "text": [
      "Найвищий розмір чеку 559.33.\n",
      "Найнижчий розмір чеку 1.04.\n"
     ]
    }
   ],
   "source": [
    "min_bill, max_bill = min(unique_bills), max(unique_bills)\n",
    "\n",
    "print(f\"Найвищий розмір чеку {max_bill}.\")\n",
    "print(f\"Найнижчий розмір чеку {min_bill}.\")    "
   ]
  },
  {
   "cell_type": "markdown",
   "id": "e70b48f8",
   "metadata": {},
   "source": [
    "**Висновок:** Як ми бачимо, лише декілька чеків більше 500 доларів. При цьому найнижчі чеки лише дещо вищі 1 долара."
   ]
  },
  {
   "cell_type": "markdown",
   "id": "1f196ae0",
   "metadata": {},
   "source": [
    "**ЗАПИТАННЯ 4.** В який час найбільші продажі? \n",
    "Наша перша гіпотеза полягає в тому, що зазвичай частіше скуповують зранку, в обідню перерву або ввечері. Вивчення подібних звичок клієнтів необхідно для планування рекламної кампанії магазинів тощо."
   ]
  },
  {
   "cell_type": "code",
   "execution_count": 46,
   "id": "8f4290ea",
   "metadata": {},
   "outputs": [
    {
     "data": {
      "text/plain": [
       "20    1133\n",
       "13    1133\n",
       "19    1106\n",
       "21    1101\n",
       "15    1094\n",
       "10    1093\n",
       "12    1086\n",
       "18    1081\n",
       "16    1072\n",
       "17    1057\n",
       "14    1057\n",
       "11    1035\n",
       "Name: Hour, dtype: int64"
      ]
     },
     "execution_count": 46,
     "metadata": {},
     "output_type": "execute_result"
    }
   ],
   "source": [
    "df_unique_bills['Hour'].value_counts().sort_values(ascending=False)"
   ]
  },
  {
   "cell_type": "code",
   "execution_count": 48,
   "id": "79fe8ed4",
   "metadata": {},
   "outputs": [
    {
     "data": {
      "image/png": "[encoded data removed]",
      "text/plain": [
       "<Figure size 400x200 with 1 Axes>"
      ]
     },
     "metadata": {},
     "output_type": "display_data"
    }
   ],
   "source": [
    "df_unique_bills['Hour'].hist(bins=12, figsize=(4,2))\n",
    "plt.title('Sales by hour')\n",
    "plt.xlabel('Hour')\n",
    "plt.ylabel('Number of bills');"
   ]
  },
  {
   "cell_type": "markdown",
   "id": "260db4bc",
   "metadata": {},
   "source": [
    "**Відповідь:** Ситуація неоднозначна. З одного боку, різниця між продажами в різні години не є критичною. Плюс-мінус біля 10%. З іншого боку, біля обідньої перерви (між 13 до 14) та ввечері чеків більше. Це може свідчити, що таки потрібно підвищити увагу до вечірніх годин. Можливо можна подовжити роботу магазинів."
   ]
  },
  {
   "cell_type": "markdown",
   "id": "49d27b94",
   "metadata": {},
   "source": [
    "**ЗАПИТАННЯ 5.** Наступна гіпотеза - звички покупців можуть відрізнятися залежно від країни та культури. З допомогою інструментів pandas спробуємо це перевірити. Зокрема зробимо зведену таблицю, яка підрахує кількість продажів за годинами для різних країн. Ці результати необхідні для деталізації маркетингової стратегії в окремих країнах."
   ]
  },
  {
   "cell_type": "code",
   "execution_count": 49,
   "id": "6407964a",
   "metadata": {
    "scrolled": true
   },
   "outputs": [],
   "source": [
    "pivot_hour_countries = df_unique_bills.pivot_table(index = 'Hour', columns = 'Country', values = 'Receipt Number', aggfunc='count')"
   ]
  },
  {
   "cell_type": "code",
   "execution_count": 50,
   "id": "bdd47f78",
   "metadata": {},
   "outputs": [
    {
     "data": {
      "text/html": [
       "<style type=\"text/css\">\n",
       "#T_70289_row0_col0, #T_70289_row3_col1, #T_70289_row4_col3, #T_70289_row10_col2 {\n",
       "  background-color: #023858;\n",
       "  color: #f1f1f1;\n",
       "}\n",
       "#T_70289_row0_col1 {\n",
       "  background-color: #045f95;\n",
       "  color: #f1f1f1;\n",
       "}\n",
       "#T_70289_row0_col2, #T_70289_row1_col3, #T_70289_row4_col0, #T_70289_row4_col1 {\n",
       "  background-color: #fff7fb;\n",
       "  color: #000000;\n",
       "}\n",
       "#T_70289_row0_col3, #T_70289_row10_col3 {\n",
       "  background-color: #a4bcda;\n",
       "  color: #000000;\n",
       "}\n",
       "#T_70289_row1_col0 {\n",
       "  background-color: #a2bcda;\n",
       "  color: #000000;\n",
       "}\n",
       "#T_70289_row1_col1, #T_70289_row6_col1 {\n",
       "  background-color: #b0c2de;\n",
       "  color: #000000;\n",
       "}\n",
       "#T_70289_row1_col2, #T_70289_row8_col0 {\n",
       "  background-color: #ced0e6;\n",
       "  color: #000000;\n",
       "}\n",
       "#T_70289_row2_col0, #T_70289_row9_col0 {\n",
       "  background-color: #045483;\n",
       "  color: #f1f1f1;\n",
       "}\n",
       "#T_70289_row2_col1 {\n",
       "  background-color: #eee8f3;\n",
       "  color: #000000;\n",
       "}\n",
       "#T_70289_row2_col2, #T_70289_row8_col3 {\n",
       "  background-color: #b4c4df;\n",
       "  color: #000000;\n",
       "}\n",
       "#T_70289_row2_col3 {\n",
       "  background-color: #4094c3;\n",
       "  color: #f1f1f1;\n",
       "}\n",
       "#T_70289_row3_col0, #T_70289_row10_col0, #T_70289_row11_col0 {\n",
       "  background-color: #2685bb;\n",
       "  color: #f1f1f1;\n",
       "}\n",
       "#T_70289_row3_col2 {\n",
       "  background-color: #7eadd1;\n",
       "  color: #f1f1f1;\n",
       "}\n",
       "#T_70289_row3_col3 {\n",
       "  background-color: #3991c1;\n",
       "  color: #f1f1f1;\n",
       "}\n",
       "#T_70289_row4_col2 {\n",
       "  background-color: #ece7f2;\n",
       "  color: #000000;\n",
       "}\n",
       "#T_70289_row5_col0 {\n",
       "  background-color: #034c78;\n",
       "  color: #f1f1f1;\n",
       "}\n",
       "#T_70289_row5_col1, #T_70289_row5_col3, #T_70289_row8_col1 {\n",
       "  background-color: #e1dfed;\n",
       "  color: #000000;\n",
       "}\n",
       "#T_70289_row5_col2 {\n",
       "  background-color: #04629a;\n",
       "  color: #f1f1f1;\n",
       "}\n",
       "#T_70289_row6_col0 {\n",
       "  background-color: #f0eaf4;\n",
       "  color: #000000;\n",
       "}\n",
       "#T_70289_row6_col2, #T_70289_row11_col2 {\n",
       "  background-color: #0568a3;\n",
       "  color: #f1f1f1;\n",
       "}\n",
       "#T_70289_row6_col3 {\n",
       "  background-color: #d7d6e9;\n",
       "  color: #000000;\n",
       "}\n",
       "#T_70289_row7_col0 {\n",
       "  background-color: #e0deed;\n",
       "  color: #000000;\n",
       "}\n",
       "#T_70289_row7_col1 {\n",
       "  background-color: #f7f0f7;\n",
       "  color: #000000;\n",
       "}\n",
       "#T_70289_row7_col2 {\n",
       "  background-color: #589ec8;\n",
       "  color: #f1f1f1;\n",
       "}\n",
       "#T_70289_row7_col3, #T_70289_row11_col3 {\n",
       "  background-color: #97b7d7;\n",
       "  color: #000000;\n",
       "}\n",
       "#T_70289_row8_col2 {\n",
       "  background-color: #045a8d;\n",
       "  color: #f1f1f1;\n",
       "}\n",
       "#T_70289_row9_col1 {\n",
       "  background-color: #cacee5;\n",
       "  color: #000000;\n",
       "}\n",
       "#T_70289_row9_col2 {\n",
       "  background-color: #023c5f;\n",
       "  color: #f1f1f1;\n",
       "}\n",
       "#T_70289_row9_col3 {\n",
       "  background-color: #e8e4f0;\n",
       "  color: #000000;\n",
       "}\n",
       "#T_70289_row10_col1 {\n",
       "  background-color: #2a88bc;\n",
       "  color: #f1f1f1;\n",
       "}\n",
       "#T_70289_row11_col1 {\n",
       "  background-color: #d0d1e6;\n",
       "  color: #000000;\n",
       "}\n",
       "</style>\n",
       "<table id=\"T_70289\">\n",
       "  <thead>\n",
       "    <tr>\n",
       "      <th class=\"index_name level0\" >Country</th>\n",
       "      <th id=\"T_70289_level0_col0\" class=\"col_heading level0 col0\" >Indonesia</th>\n",
       "      <th id=\"T_70289_level0_col1\" class=\"col_heading level0 col1\" >Malaysia</th>\n",
       "      <th id=\"T_70289_level0_col2\" class=\"col_heading level0 col2\" >Philippines</th>\n",
       "      <th id=\"T_70289_level0_col3\" class=\"col_heading level0 col3\" >Singapore</th>\n",
       "    </tr>\n",
       "    <tr>\n",
       "      <th class=\"index_name level0\" >Hour</th>\n",
       "      <th class=\"blank col0\" >&nbsp;</th>\n",
       "      <th class=\"blank col1\" >&nbsp;</th>\n",
       "      <th class=\"blank col2\" >&nbsp;</th>\n",
       "      <th class=\"blank col3\" >&nbsp;</th>\n",
       "    </tr>\n",
       "  </thead>\n",
       "  <tbody>\n",
       "    <tr>\n",
       "      <th id=\"T_70289_level0_row0\" class=\"row_heading level0 row0\" >10</th>\n",
       "      <td id=\"T_70289_row0_col0\" class=\"data row0 col0\" >219</td>\n",
       "      <td id=\"T_70289_row0_col1\" class=\"data row0 col1\" >262</td>\n",
       "      <td id=\"T_70289_row0_col2\" class=\"data row0 col2\" >221</td>\n",
       "      <td id=\"T_70289_row0_col3\" class=\"data row0 col3\" >391</td>\n",
       "    </tr>\n",
       "    <tr>\n",
       "      <th id=\"T_70289_level0_row1\" class=\"row_heading level0 row1\" >11</th>\n",
       "      <td id=\"T_70289_row1_col0\" class=\"data row1 col0\" >195</td>\n",
       "      <td id=\"T_70289_row1_col1\" class=\"data row1 col1\" >236</td>\n",
       "      <td id=\"T_70289_row1_col2\" class=\"data row1 col2\" >237</td>\n",
       "      <td id=\"T_70289_row1_col3\" class=\"data row1 col3\" >367</td>\n",
       "    </tr>\n",
       "    <tr>\n",
       "      <th id=\"T_70289_level0_row2\" class=\"row_heading level0 row2\" >12</th>\n",
       "      <td id=\"T_70289_row2_col0\" class=\"data row2 col0\" >215</td>\n",
       "      <td id=\"T_70289_row2_col1\" class=\"data row2 col1\" >224</td>\n",
       "      <td id=\"T_70289_row2_col2\" class=\"data row2 col2\" >242</td>\n",
       "      <td id=\"T_70289_row2_col3\" class=\"data row2 col3\" >405</td>\n",
       "    </tr>\n",
       "    <tr>\n",
       "      <th id=\"T_70289_level0_row3\" class=\"row_heading level0 row3\" >13</th>\n",
       "      <td id=\"T_70289_row3_col0\" class=\"data row3 col0\" >206</td>\n",
       "      <td id=\"T_70289_row3_col1\" class=\"data row3 col1\" >270</td>\n",
       "      <td id=\"T_70289_row3_col2\" class=\"data row3 col2\" >251</td>\n",
       "      <td id=\"T_70289_row3_col3\" class=\"data row3 col3\" >406</td>\n",
       "    </tr>\n",
       "    <tr>\n",
       "      <th id=\"T_70289_level0_row4\" class=\"row_heading level0 row4\" >14</th>\n",
       "      <td id=\"T_70289_row4_col0\" class=\"data row4 col0\" >180</td>\n",
       "      <td id=\"T_70289_row4_col1\" class=\"data row4 col1\" >218</td>\n",
       "      <td id=\"T_70289_row4_col2\" class=\"data row4 col2\" >229</td>\n",
       "      <td id=\"T_70289_row4_col3\" class=\"data row4 col3\" >430</td>\n",
       "    </tr>\n",
       "    <tr>\n",
       "      <th id=\"T_70289_level0_row5\" class=\"row_heading level0 row5\" >15</th>\n",
       "      <td id=\"T_70289_row5_col0\" class=\"data row5 col0\" >216</td>\n",
       "      <td id=\"T_70289_row5_col1\" class=\"data row5 col1\" >227</td>\n",
       "      <td id=\"T_70289_row5_col2\" class=\"data row5 col2\" >273</td>\n",
       "      <td id=\"T_70289_row5_col3\" class=\"data row5 col3\" >378</td>\n",
       "    </tr>\n",
       "    <tr>\n",
       "      <th id=\"T_70289_level0_row6\" class=\"row_heading level0 row6\" >16</th>\n",
       "      <td id=\"T_70289_row6_col0\" class=\"data row6 col0\" >184</td>\n",
       "      <td id=\"T_70289_row6_col1\" class=\"data row6 col1\" >236</td>\n",
       "      <td id=\"T_70289_row6_col2\" class=\"data row6 col2\" >271</td>\n",
       "      <td id=\"T_70289_row6_col3\" class=\"data row6 col3\" >381</td>\n",
       "    </tr>\n",
       "    <tr>\n",
       "      <th id=\"T_70289_level0_row7\" class=\"row_heading level0 row7\" >17</th>\n",
       "      <td id=\"T_70289_row7_col0\" class=\"data row7 col0\" >187</td>\n",
       "      <td id=\"T_70289_row7_col1\" class=\"data row7 col1\" >221</td>\n",
       "      <td id=\"T_70289_row7_col2\" class=\"data row7 col2\" >256</td>\n",
       "      <td id=\"T_70289_row7_col3\" class=\"data row7 col3\" >393</td>\n",
       "    </tr>\n",
       "    <tr>\n",
       "      <th id=\"T_70289_level0_row8\" class=\"row_heading level0 row8\" >18</th>\n",
       "      <td id=\"T_70289_row8_col0\" class=\"data row8 col0\" >190</td>\n",
       "      <td id=\"T_70289_row8_col1\" class=\"data row8 col1\" >227</td>\n",
       "      <td id=\"T_70289_row8_col2\" class=\"data row8 col2\" >276</td>\n",
       "      <td id=\"T_70289_row8_col3\" class=\"data row8 col3\" >388</td>\n",
       "    </tr>\n",
       "    <tr>\n",
       "      <th id=\"T_70289_level0_row9\" class=\"row_heading level0 row9\" >19</th>\n",
       "      <td id=\"T_70289_row9_col0\" class=\"data row9 col0\" >215</td>\n",
       "      <td id=\"T_70289_row9_col1\" class=\"data row9 col1\" >232</td>\n",
       "      <td id=\"T_70289_row9_col2\" class=\"data row9 col2\" >283</td>\n",
       "      <td id=\"T_70289_row9_col3\" class=\"data row9 col3\" >376</td>\n",
       "    </tr>\n",
       "    <tr>\n",
       "      <th id=\"T_70289_level0_row10\" class=\"row_heading level0 row10\" >20</th>\n",
       "      <td id=\"T_70289_row10_col0\" class=\"data row10 col0\" >206</td>\n",
       "      <td id=\"T_70289_row10_col1\" class=\"data row10 col1\" >252</td>\n",
       "      <td id=\"T_70289_row10_col2\" class=\"data row10 col2\" >284</td>\n",
       "      <td id=\"T_70289_row10_col3\" class=\"data row10 col3\" >391</td>\n",
       "    </tr>\n",
       "    <tr>\n",
       "      <th id=\"T_70289_level0_row11\" class=\"row_heading level0 row11\" >21</th>\n",
       "      <td id=\"T_70289_row11_col0\" class=\"data row11 col0\" >206</td>\n",
       "      <td id=\"T_70289_row11_col1\" class=\"data row11 col1\" >231</td>\n",
       "      <td id=\"T_70289_row11_col2\" class=\"data row11 col2\" >271</td>\n",
       "      <td id=\"T_70289_row11_col3\" class=\"data row11 col3\" >393</td>\n",
       "    </tr>\n",
       "  </tbody>\n",
       "</table>\n"
      ],
      "text/plain": [
       "<pandas.io.formats.style.Styler at 0x1b8cae72080>"
      ]
     },
     "execution_count": 50,
     "metadata": {},
     "output_type": "execute_result"
    }
   ],
   "source": [
    "pivot_hour_countries.style.background_gradient(axis=0)  # додав градієнт, щоб було краще видно різницю."
   ]
  },
  {
   "cell_type": "markdown",
   "id": "9ab7fd46",
   "metadata": {},
   "source": [
    "Також підраховуємо відсотковий розподіл продажів за годинами (в розрізі країн)"
   ]
  },
  {
   "cell_type": "code",
   "execution_count": 51,
   "id": "8c0c2d35",
   "metadata": {},
   "outputs": [
    {
     "data": {
      "text/html": [
       "<div>\n",
       "<style scoped>\n",
       "    .dataframe tbody tr th:only-of-type {\n",
       "        vertical-align: middle;\n",
       "    }\n",
       "\n",
       "    .dataframe tbody tr th {\n",
       "        vertical-align: top;\n",
       "    }\n",
       "\n",
       "    .dataframe thead th {\n",
       "        text-align: right;\n",
       "    }\n",
       "</style>\n",
       "<table border=\"1\" class=\"dataframe\">\n",
       "  <thead>\n",
       "    <tr style=\"text-align: right;\">\n",
       "      <th>Country</th>\n",
       "      <th>Indonesia</th>\n",
       "      <th>Malaysia</th>\n",
       "      <th>Philippines</th>\n",
       "      <th>Singapore</th>\n",
       "    </tr>\n",
       "    <tr>\n",
       "      <th>Hour</th>\n",
       "      <th></th>\n",
       "      <th></th>\n",
       "      <th></th>\n",
       "      <th></th>\n",
       "    </tr>\n",
       "  </thead>\n",
       "  <tbody>\n",
       "    <tr>\n",
       "      <th>10</th>\n",
       "      <td>9.1</td>\n",
       "      <td>9.2</td>\n",
       "      <td>7.1</td>\n",
       "      <td>8.3</td>\n",
       "    </tr>\n",
       "    <tr>\n",
       "      <th>11</th>\n",
       "      <td>8.1</td>\n",
       "      <td>8.3</td>\n",
       "      <td>7.7</td>\n",
       "      <td>7.8</td>\n",
       "    </tr>\n",
       "    <tr>\n",
       "      <th>12</th>\n",
       "      <td>8.9</td>\n",
       "      <td>7.9</td>\n",
       "      <td>7.8</td>\n",
       "      <td>8.6</td>\n",
       "    </tr>\n",
       "    <tr>\n",
       "      <th>13</th>\n",
       "      <td>8.5</td>\n",
       "      <td>9.5</td>\n",
       "      <td>8.1</td>\n",
       "      <td>8.6</td>\n",
       "    </tr>\n",
       "    <tr>\n",
       "      <th>14</th>\n",
       "      <td>7.4</td>\n",
       "      <td>7.7</td>\n",
       "      <td>7.4</td>\n",
       "      <td>9.2</td>\n",
       "    </tr>\n",
       "    <tr>\n",
       "      <th>15</th>\n",
       "      <td>8.9</td>\n",
       "      <td>8.0</td>\n",
       "      <td>8.8</td>\n",
       "      <td>8.0</td>\n",
       "    </tr>\n",
       "    <tr>\n",
       "      <th>16</th>\n",
       "      <td>7.6</td>\n",
       "      <td>8.3</td>\n",
       "      <td>8.8</td>\n",
       "      <td>8.1</td>\n",
       "    </tr>\n",
       "    <tr>\n",
       "      <th>17</th>\n",
       "      <td>7.7</td>\n",
       "      <td>7.8</td>\n",
       "      <td>8.3</td>\n",
       "      <td>8.4</td>\n",
       "    </tr>\n",
       "    <tr>\n",
       "      <th>18</th>\n",
       "      <td>7.9</td>\n",
       "      <td>8.0</td>\n",
       "      <td>8.9</td>\n",
       "      <td>8.3</td>\n",
       "    </tr>\n",
       "    <tr>\n",
       "      <th>19</th>\n",
       "      <td>8.9</td>\n",
       "      <td>8.2</td>\n",
       "      <td>9.1</td>\n",
       "      <td>8.0</td>\n",
       "    </tr>\n",
       "    <tr>\n",
       "      <th>20</th>\n",
       "      <td>8.5</td>\n",
       "      <td>8.9</td>\n",
       "      <td>9.2</td>\n",
       "      <td>8.3</td>\n",
       "    </tr>\n",
       "    <tr>\n",
       "      <th>21</th>\n",
       "      <td>8.5</td>\n",
       "      <td>8.1</td>\n",
       "      <td>8.8</td>\n",
       "      <td>8.4</td>\n",
       "    </tr>\n",
       "  </tbody>\n",
       "</table>\n",
       "</div>"
      ],
      "text/plain": [
       "Country  Indonesia  Malaysia  Philippines  Singapore\n",
       "Hour                                                \n",
       "10             9.1       9.2          7.1        8.3\n",
       "11             8.1       8.3          7.7        7.8\n",
       "12             8.9       7.9          7.8        8.6\n",
       "13             8.5       9.5          8.1        8.6\n",
       "14             7.4       7.7          7.4        9.2\n",
       "15             8.9       8.0          8.8        8.0\n",
       "16             7.6       8.3          8.8        8.1\n",
       "17             7.7       7.8          8.3        8.4\n",
       "18             7.9       8.0          8.9        8.3\n",
       "19             8.9       8.2          9.1        8.0\n",
       "20             8.5       8.9          9.2        8.3\n",
       "21             8.5       8.1          8.8        8.4"
      ]
     },
     "execution_count": 51,
     "metadata": {},
     "output_type": "execute_result"
    }
   ],
   "source": [
    "percentage_hours = (pivot_hour_countries.div(pivot_hour_countries.sum()) * 100).round(1)\n",
    "percentage_hours"
   ]
  },
  {
   "cell_type": "markdown",
   "id": "900d574d",
   "metadata": {},
   "source": [
    "**Відповідь:** Результати підтверджують, що відрізняються звички щодо покупок за часом. Наприклад, в Сінгапурі найчастіше покупки в біля обіднього часу, о 12:00-14:00. На Філліпінах частіше роблять покупки в другій половині дня. В Індонезії купляють часто і зранку, і ввечері.\n",
    "Також цікаві результати за %. В принципі усі результати знаходяться в діпазоні 7-9% для усіх містах. В жодному місті продажі в певну годину не перевищують 10%. "
   ]
  },
  {
   "cell_type": "markdown",
   "id": "ab03f9c2",
   "metadata": {},
   "source": [
    "**ЗАПИТАННЯ 6.** Хто здійснює покупки частіше: чоловіки чи жінки? Це запитання важливе для формування рекламної стратегії компанії."
   ]
  },
  {
   "cell_type": "code",
   "execution_count": 52,
   "id": "82f98aa0",
   "metadata": {
    "scrolled": false
   },
   "outputs": [],
   "source": [
    "gender_number = df_unique_bills['Gender'].value_counts()"
   ]
  },
  {
   "cell_type": "code",
   "execution_count": 53,
   "id": "159ca9be",
   "metadata": {},
   "outputs": [
    {
     "data": {
      "text/plain": [
       "Female    10788\n",
       "Male       2260\n",
       "Name: Gender, dtype: int64"
      ]
     },
     "execution_count": 53,
     "metadata": {},
     "output_type": "execute_result"
    }
   ],
   "source": [
    "gender_number"
   ]
  },
  {
   "cell_type": "code",
   "execution_count": 55,
   "id": "e6d93a8c",
   "metadata": {},
   "outputs": [
    {
     "data": {
      "image/png": "[encoded data removed]",
      "text/plain": [
       "<Figure size 300x300 with 1 Axes>"
      ]
     },
     "metadata": {},
     "output_type": "display_data"
    }
   ],
   "source": [
    "plt.figure(figsize=(3, 3))\n",
    "plt.pie(gender_number, labels=['Female', 'Male'], autopct='%1.1f%%', startangle=90)\n",
    "plt.title('Sale Operations by Gender')\n",
    "plt.show();"
   ]
  },
  {
   "cell_type": "markdown",
   "id": "88b21b2b",
   "metadata": {},
   "source": [
    "**Відповідь:** Ми можемо побачити, що найчастіше ходять за покупками жінки. На них припадає майже 83% чеків. Таким чином ми бачимо, що варто спрямовувати більше реклами, яка орієнтована на жіночу аудиторію. Можливо по окремих категоріях товарів варто також на чоловіків."
   ]
  },
  {
   "cell_type": "markdown",
   "id": "d6478fd4",
   "metadata": {},
   "source": [
    "**ЗАПИТАННЯ 7.** Необхідно перевірити, чи гендерні відмінності такі ж сильні на рівні окремих країн (швидше за все жінки всюди переважають, зважаючи на загальний результати, але можливо менший?)"
   ]
  },
  {
   "cell_type": "code",
   "execution_count": 56,
   "id": "229c00ce",
   "metadata": {},
   "outputs": [],
   "source": [
    "# Для аналізу робимо півот\n",
    "pivot_gender_by_countries = df_unique_bills.pivot_table(index = 'Country', columns = 'Gender', values = 'Receipt Number', aggfunc='count')"
   ]
  },
  {
   "cell_type": "code",
   "execution_count": 57,
   "id": "3b659757",
   "metadata": {},
   "outputs": [
    {
     "data": {
      "text/html": [
       "<style type=\"text/css\">\n",
       "#T_591b0_row0_col0, #T_591b0_row3_col1 {\n",
       "  background-color: #fff7fb;\n",
       "  color: #000000;\n",
       "}\n",
       "#T_591b0_row0_col1 {\n",
       "  background-color: #cccfe5;\n",
       "  color: #000000;\n",
       "}\n",
       "#T_591b0_row1_col0 {\n",
       "  background-color: #f4edf6;\n",
       "  color: #000000;\n",
       "}\n",
       "#T_591b0_row1_col1, #T_591b0_row2_col1, #T_591b0_row3_col0 {\n",
       "  background-color: #023858;\n",
       "  color: #f1f1f1;\n",
       "}\n",
       "#T_591b0_row2_col0 {\n",
       "  background-color: #dfddec;\n",
       "  color: #000000;\n",
       "}\n",
       "</style>\n",
       "<table id=\"T_591b0\">\n",
       "  <thead>\n",
       "    <tr>\n",
       "      <th class=\"index_name level0\" >Gender</th>\n",
       "      <th id=\"T_591b0_level0_col0\" class=\"col_heading level0 col0\" >Female</th>\n",
       "      <th id=\"T_591b0_level0_col1\" class=\"col_heading level0 col1\" >Male</th>\n",
       "    </tr>\n",
       "    <tr>\n",
       "      <th class=\"index_name level0\" >Country</th>\n",
       "      <th class=\"blank col0\" >&nbsp;</th>\n",
       "      <th class=\"blank col1\" >&nbsp;</th>\n",
       "    </tr>\n",
       "  </thead>\n",
       "  <tbody>\n",
       "    <tr>\n",
       "      <th id=\"T_591b0_level0_row0\" class=\"row_heading level0 row0\" >Indonesia</th>\n",
       "      <td id=\"T_591b0_row0_col0\" class=\"data row0 col0\" >1950</td>\n",
       "      <td id=\"T_591b0_row0_col1\" class=\"data row0 col1\" >469</td>\n",
       "    </tr>\n",
       "    <tr>\n",
       "      <th id=\"T_591b0_level0_row1\" class=\"row_heading level0 row1\" >Malaysia</th>\n",
       "      <td id=\"T_591b0_row1_col0\" class=\"data row1 col0\" >2134</td>\n",
       "      <td id=\"T_591b0_row1_col1\" class=\"data row1 col1\" >702</td>\n",
       "    </tr>\n",
       "    <tr>\n",
       "      <th id=\"T_591b0_level0_row2\" class=\"row_heading level0 row2\" >Philippines</th>\n",
       "      <td id=\"T_591b0_row2_col0\" class=\"data row2 col0\" >2391</td>\n",
       "      <td id=\"T_591b0_row2_col1\" class=\"data row2 col1\" >703</td>\n",
       "    </tr>\n",
       "    <tr>\n",
       "      <th id=\"T_591b0_level0_row3\" class=\"row_heading level0 row3\" >Singapore</th>\n",
       "      <td id=\"T_591b0_row3_col0\" class=\"data row3 col0\" >4313</td>\n",
       "      <td id=\"T_591b0_row3_col1\" class=\"data row3 col1\" >386</td>\n",
       "    </tr>\n",
       "  </tbody>\n",
       "</table>\n"
      ],
      "text/plain": [
       "<pandas.io.formats.style.Styler at 0x1b8c7965330>"
      ]
     },
     "execution_count": 57,
     "metadata": {},
     "output_type": "execute_result"
    }
   ],
   "source": [
    "pivot_gender_by_countries.style.background_gradient(axis=0) # додаємо градієнт для візуалізація"
   ]
  },
  {
   "cell_type": "code",
   "execution_count": 58,
   "id": "66f39178",
   "metadata": {
    "scrolled": true
   },
   "outputs": [
    {
     "data": {
      "text/html": [
       "<div>\n",
       "<style scoped>\n",
       "    .dataframe tbody tr th:only-of-type {\n",
       "        vertical-align: middle;\n",
       "    }\n",
       "\n",
       "    .dataframe tbody tr th {\n",
       "        vertical-align: top;\n",
       "    }\n",
       "\n",
       "    .dataframe thead th {\n",
       "        text-align: right;\n",
       "    }\n",
       "</style>\n",
       "<table border=\"1\" class=\"dataframe\">\n",
       "  <thead>\n",
       "    <tr style=\"text-align: right;\">\n",
       "      <th>Gender</th>\n",
       "      <th>Female</th>\n",
       "      <th>Male</th>\n",
       "    </tr>\n",
       "    <tr>\n",
       "      <th>Country</th>\n",
       "      <th></th>\n",
       "      <th></th>\n",
       "    </tr>\n",
       "  </thead>\n",
       "  <tbody>\n",
       "    <tr>\n",
       "      <th>Indonesia</th>\n",
       "      <td>80.6</td>\n",
       "      <td>19.4</td>\n",
       "    </tr>\n",
       "    <tr>\n",
       "      <th>Malaysia</th>\n",
       "      <td>75.2</td>\n",
       "      <td>24.8</td>\n",
       "    </tr>\n",
       "    <tr>\n",
       "      <th>Philippines</th>\n",
       "      <td>77.3</td>\n",
       "      <td>22.7</td>\n",
       "    </tr>\n",
       "    <tr>\n",
       "      <th>Singapore</th>\n",
       "      <td>91.8</td>\n",
       "      <td>8.2</td>\n",
       "    </tr>\n",
       "  </tbody>\n",
       "</table>\n",
       "</div>"
      ],
      "text/plain": [
       "Gender       Female  Male\n",
       "Country                  \n",
       "Indonesia      80.6  19.4\n",
       "Malaysia       75.2  24.8\n",
       "Philippines    77.3  22.7\n",
       "Singapore      91.8   8.2"
      ]
     },
     "execution_count": 58,
     "metadata": {},
     "output_type": "execute_result"
    }
   ],
   "source": [
    "# Підраховуємо % для кращого розуміння різниця між країнами\n",
    "percentage_gender_by_countries = (pivot_gender_by_countries.div(pivot_gender_by_countries.sum(axis = 1), axis = 0) * 100).round(1)\n",
    "percentage_gender_by_countries"
   ]
  },
  {
   "cell_type": "code",
   "execution_count": 213,
   "id": "7154c1ca",
   "metadata": {},
   "outputs": [
    {
     "ename": "TypeError",
     "evalue": "'str' object is not callable",
     "output_type": "error",
     "traceback": [
      "\u001b[1;31m---------------------------------------------------------------------------\u001b[0m",
      "\u001b[1;31mTypeError\u001b[0m                                 Traceback (most recent call last)",
      "Cell \u001b[1;32mIn[213], line 3\u001b[0m\n\u001b[0;32m      1\u001b[0m percentage_gender_by_countries\u001b[38;5;241m.\u001b[39mplot(kind\u001b[38;5;241m=\u001b[39m\u001b[38;5;124m'\u001b[39m\u001b[38;5;124mbar\u001b[39m\u001b[38;5;124m'\u001b[39m, figsize\u001b[38;5;241m=\u001b[39m(\u001b[38;5;241m6\u001b[39m, \u001b[38;5;241m3\u001b[39m), stacked\u001b[38;5;241m=\u001b[39m\u001b[38;5;28;01mTrue\u001b[39;00m, color \u001b[38;5;241m=\u001b[39m (\u001b[38;5;124m'\u001b[39m\u001b[38;5;124mblue\u001b[39m\u001b[38;5;124m'\u001b[39m, \u001b[38;5;124m'\u001b[39m\u001b[38;5;124myellow\u001b[39m\u001b[38;5;124m'\u001b[39m))\n\u001b[0;32m      2\u001b[0m plt\u001b[38;5;241m.\u001b[39mtitle(\u001b[38;5;124m'\u001b[39m\u001b[38;5;124mShare of Sale Operations by Gender\u001b[39m\u001b[38;5;124m'\u001b[39m)\n\u001b[1;32m----> 3\u001b[0m \u001b[43mplt\u001b[49m\u001b[38;5;241;43m.\u001b[39;49m\u001b[43mylabel\u001b[49m\u001b[43m(\u001b[49m\u001b[38;5;124;43m'\u001b[39;49m\u001b[38;5;124;43mShare \u001b[39;49m\u001b[38;5;124;43m%\u001b[39;49m\u001b[38;5;124;43m'\u001b[39;49m\u001b[43m)\u001b[49m\n\u001b[0;32m      4\u001b[0m plt\u001b[38;5;241m.\u001b[39mxlabel(\u001b[38;5;124m'\u001b[39m\u001b[38;5;124mCountry\u001b[39m\u001b[38;5;124m'\u001b[39m);\n",
      "\u001b[1;31mTypeError\u001b[0m: 'str' object is not callable"
     ]
    },
    {
     "data": {
      "image/png": "[encoded data removed]",
      "text/plain": [
       "<Figure size 600x300 with 1 Axes>"
      ]
     },
     "metadata": {},
     "output_type": "display_data"
    }
   ],
   "source": [
    "percentage_gender_by_countries.plot(kind='bar', figsize=(6, 3), stacked=True, color = ('blue', 'yellow'))\n",
    "plt.title('Share of Sale Operations by Gender')\n",
    "plt.ylabel('Share %')\n",
    "plt.xlabel('Country');"
   ]
  },
  {
   "cell_type": "markdown",
   "id": "aee3e5d2",
   "metadata": {},
   "source": [
    "**Висновки:** Особливо вирізняється Сінгапур, де на жінок припадає майже 92% покупок. Найменша різниця в Індонезії, де на жінок припадає майже 81%."
   ]
  },
  {
   "cell_type": "markdown",
   "id": "79f53c61",
   "metadata": {},
   "source": [
    "Також додатково продемонструємо **різницю по годинах для обох статей** з допомогою півот. "
   ]
  },
  {
   "cell_type": "code",
   "execution_count": 60,
   "id": "0cb833c4",
   "metadata": {},
   "outputs": [],
   "source": [
    "pivot_hour_gender = df_unique_bills.pivot_table(index = 'Hour', columns = 'Gender', values = 'Receipt Number', aggfunc='count')"
   ]
  },
  {
   "cell_type": "code",
   "execution_count": 61,
   "id": "c7df45ef",
   "metadata": {
    "scrolled": true
   },
   "outputs": [
    {
     "data": {
      "text/html": [
       "<style type=\"text/css\">\n",
       "#T_40c7c_row0_col0 {\n",
       "  background-color: #b3c3de;\n",
       "  color: #000000;\n",
       "}\n",
       "#T_40c7c_row0_col1, #T_40c7c_row3_col0, #T_40c7c_row10_col0 {\n",
       "  background-color: #023858;\n",
       "  color: #f1f1f1;\n",
       "}\n",
       "#T_40c7c_row1_col0 {\n",
       "  background-color: #d2d2e7;\n",
       "  color: #000000;\n",
       "}\n",
       "#T_40c7c_row1_col1, #T_40c7c_row7_col0 {\n",
       "  background-color: #fff7fb;\n",
       "  color: #000000;\n",
       "}\n",
       "#T_40c7c_row2_col0 {\n",
       "  background-color: #afc1dd;\n",
       "  color: #000000;\n",
       "}\n",
       "#T_40c7c_row2_col1 {\n",
       "  background-color: #046096;\n",
       "  color: #f1f1f1;\n",
       "}\n",
       "#T_40c7c_row3_col1, #T_40c7c_row10_col1 {\n",
       "  background-color: #2987bc;\n",
       "  color: #f1f1f1;\n",
       "}\n",
       "#T_40c7c_row4_col0 {\n",
       "  background-color: #dcdaeb;\n",
       "  color: #000000;\n",
       "}\n",
       "#T_40c7c_row4_col1 {\n",
       "  background-color: #69a5cc;\n",
       "  color: #f1f1f1;\n",
       "}\n",
       "#T_40c7c_row5_col0 {\n",
       "  background-color: #2383ba;\n",
       "  color: #f1f1f1;\n",
       "}\n",
       "#T_40c7c_row5_col1, #T_40c7c_row9_col1 {\n",
       "  background-color: #8cb3d5;\n",
       "  color: #000000;\n",
       "}\n",
       "#T_40c7c_row6_col0 {\n",
       "  background-color: #8bb2d4;\n",
       "  color: #000000;\n",
       "}\n",
       "#T_40c7c_row6_col1 {\n",
       "  background-color: #9cb9d9;\n",
       "  color: #000000;\n",
       "}\n",
       "#T_40c7c_row7_col1 {\n",
       "  background-color: #045c90;\n",
       "  color: #f1f1f1;\n",
       "}\n",
       "#T_40c7c_row8_col0 {\n",
       "  background-color: #94b6d7;\n",
       "  color: #000000;\n",
       "}\n",
       "#T_40c7c_row8_col1 {\n",
       "  background-color: #3991c1;\n",
       "  color: #f1f1f1;\n",
       "}\n",
       "#T_40c7c_row9_col0 {\n",
       "  background-color: #04649e;\n",
       "  color: #f1f1f1;\n",
       "}\n",
       "#T_40c7c_row11_col0 {\n",
       "  background-color: #2786bb;\n",
       "  color: #f1f1f1;\n",
       "}\n",
       "#T_40c7c_row11_col1 {\n",
       "  background-color: #4295c3;\n",
       "  color: #f1f1f1;\n",
       "}\n",
       "</style>\n",
       "<table id=\"T_40c7c\">\n",
       "  <thead>\n",
       "    <tr>\n",
       "      <th class=\"index_name level0\" >Gender</th>\n",
       "      <th id=\"T_40c7c_level0_col0\" class=\"col_heading level0 col0\" >Female</th>\n",
       "      <th id=\"T_40c7c_level0_col1\" class=\"col_heading level0 col1\" >Male</th>\n",
       "    </tr>\n",
       "    <tr>\n",
       "      <th class=\"index_name level0\" >Hour</th>\n",
       "      <th class=\"blank col0\" >&nbsp;</th>\n",
       "      <th class=\"blank col1\" >&nbsp;</th>\n",
       "    </tr>\n",
       "  </thead>\n",
       "  <tbody>\n",
       "    <tr>\n",
       "      <th id=\"T_40c7c_level0_row0\" class=\"row_heading level0 row0\" >10</th>\n",
       "      <td id=\"T_40c7c_row0_col0\" class=\"data row0 col0\" >884</td>\n",
       "      <td id=\"T_40c7c_row0_col1\" class=\"data row0 col1\" >209</td>\n",
       "    </tr>\n",
       "    <tr>\n",
       "      <th id=\"T_40c7c_level0_row1\" class=\"row_heading level0 row1\" >11</th>\n",
       "      <td id=\"T_40c7c_row1_col0\" class=\"data row1 col0\" >876</td>\n",
       "      <td id=\"T_40c7c_row1_col1\" class=\"data row1 col1\" >159</td>\n",
       "    </tr>\n",
       "    <tr>\n",
       "      <th id=\"T_40c7c_level0_row2\" class=\"row_heading level0 row2\" >12</th>\n",
       "      <td id=\"T_40c7c_row2_col0\" class=\"data row2 col0\" >885</td>\n",
       "      <td id=\"T_40c7c_row2_col1\" class=\"data row2 col1\" >201</td>\n",
       "    </tr>\n",
       "    <tr>\n",
       "      <th id=\"T_40c7c_level0_row3\" class=\"row_heading level0 row3\" >13</th>\n",
       "      <td id=\"T_40c7c_row3_col0\" class=\"data row3 col0\" >941</td>\n",
       "      <td id=\"T_40c7c_row3_col1\" class=\"data row3 col1\" >192</td>\n",
       "    </tr>\n",
       "    <tr>\n",
       "      <th id=\"T_40c7c_level0_row4\" class=\"row_heading level0 row4\" >14</th>\n",
       "      <td id=\"T_40c7c_row4_col0\" class=\"data row4 col0\" >872</td>\n",
       "      <td id=\"T_40c7c_row4_col1\" class=\"data row4 col1\" >185</td>\n",
       "    </tr>\n",
       "    <tr>\n",
       "      <th id=\"T_40c7c_level0_row5\" class=\"row_heading level0 row5\" >15</th>\n",
       "      <td id=\"T_40c7c_row5_col0\" class=\"data row5 col0\" >913</td>\n",
       "      <td id=\"T_40c7c_row5_col1\" class=\"data row5 col1\" >181</td>\n",
       "    </tr>\n",
       "    <tr>\n",
       "      <th id=\"T_40c7c_level0_row6\" class=\"row_heading level0 row6\" >16</th>\n",
       "      <td id=\"T_40c7c_row6_col0\" class=\"data row6 col0\" >893</td>\n",
       "      <td id=\"T_40c7c_row6_col1\" class=\"data row6 col1\" >179</td>\n",
       "    </tr>\n",
       "    <tr>\n",
       "      <th id=\"T_40c7c_level0_row7\" class=\"row_heading level0 row7\" >17</th>\n",
       "      <td id=\"T_40c7c_row7_col0\" class=\"data row7 col0\" >855</td>\n",
       "      <td id=\"T_40c7c_row7_col1\" class=\"data row7 col1\" >202</td>\n",
       "    </tr>\n",
       "    <tr>\n",
       "      <th id=\"T_40c7c_level0_row8\" class=\"row_heading level0 row8\" >18</th>\n",
       "      <td id=\"T_40c7c_row8_col0\" class=\"data row8 col0\" >891</td>\n",
       "      <td id=\"T_40c7c_row8_col1\" class=\"data row8 col1\" >190</td>\n",
       "    </tr>\n",
       "    <tr>\n",
       "      <th id=\"T_40c7c_level0_row9\" class=\"row_heading level0 row9\" >19</th>\n",
       "      <td id=\"T_40c7c_row9_col0\" class=\"data row9 col0\" >925</td>\n",
       "      <td id=\"T_40c7c_row9_col1\" class=\"data row9 col1\" >181</td>\n",
       "    </tr>\n",
       "    <tr>\n",
       "      <th id=\"T_40c7c_level0_row10\" class=\"row_heading level0 row10\" >20</th>\n",
       "      <td id=\"T_40c7c_row10_col0\" class=\"data row10 col0\" >941</td>\n",
       "      <td id=\"T_40c7c_row10_col1\" class=\"data row10 col1\" >192</td>\n",
       "    </tr>\n",
       "    <tr>\n",
       "      <th id=\"T_40c7c_level0_row11\" class=\"row_heading level0 row11\" >21</th>\n",
       "      <td id=\"T_40c7c_row11_col0\" class=\"data row11 col0\" >912</td>\n",
       "      <td id=\"T_40c7c_row11_col1\" class=\"data row11 col1\" >189</td>\n",
       "    </tr>\n",
       "  </tbody>\n",
       "</table>\n"
      ],
      "text/plain": [
       "<pandas.io.formats.style.Styler at 0x1b8c833f520>"
      ]
     },
     "execution_count": 61,
     "metadata": {},
     "output_type": "execute_result"
    }
   ],
   "source": [
    "pivot_hour_gender.style.background_gradient(axis=0)  # додав градієнт, щоб було краще видно різницю."
   ]
  },
  {
   "cell_type": "markdown",
   "id": "56d79464",
   "metadata": {},
   "source": [
    "**Висновки:** З допомогою вказаного pivot можемо зробити одразу 2 висновки. З одного боку, величезний розрив між жінками та чоловіками залишається впродовж дня. Жінки частіше скуповуються під час обіду та ввечері, а чоловіки - найчастіше зранку."
   ]
  },
  {
   "cell_type": "markdown",
   "id": "3f22ac35",
   "metadata": {},
   "source": [
    "**ЗАПИТАННЯ 8.** Також перевіримо чи зберігається подібна різниця між статями за сумою продажів. "
   ]
  },
  {
   "cell_type": "code",
   "execution_count": 62,
   "id": "2818699a",
   "metadata": {
    "scrolled": true
   },
   "outputs": [
    {
     "data": {
      "text/html": [
       "<div>\n",
       "<style scoped>\n",
       "    .dataframe tbody tr th:only-of-type {\n",
       "        vertical-align: middle;\n",
       "    }\n",
       "\n",
       "    .dataframe tbody tr th {\n",
       "        vertical-align: top;\n",
       "    }\n",
       "\n",
       "    .dataframe thead th {\n",
       "        text-align: right;\n",
       "    }\n",
       "</style>\n",
       "<table border=\"1\" class=\"dataframe\">\n",
       "  <thead>\n",
       "    <tr style=\"text-align: right;\">\n",
       "      <th>Gender</th>\n",
       "      <th>Female</th>\n",
       "      <th>Male</th>\n",
       "    </tr>\n",
       "    <tr>\n",
       "      <th>Country</th>\n",
       "      <th></th>\n",
       "      <th></th>\n",
       "    </tr>\n",
       "  </thead>\n",
       "  <tbody>\n",
       "    <tr>\n",
       "      <th>Indonesia</th>\n",
       "      <td>95377.0</td>\n",
       "      <td>22342.0</td>\n",
       "    </tr>\n",
       "    <tr>\n",
       "      <th>Malaysia</th>\n",
       "      <td>100840.0</td>\n",
       "      <td>31004.0</td>\n",
       "    </tr>\n",
       "    <tr>\n",
       "      <th>Philippines</th>\n",
       "      <td>122789.0</td>\n",
       "      <td>34326.0</td>\n",
       "    </tr>\n",
       "    <tr>\n",
       "      <th>Singapore</th>\n",
       "      <td>211789.0</td>\n",
       "      <td>18187.0</td>\n",
       "    </tr>\n",
       "  </tbody>\n",
       "</table>\n",
       "</div>"
      ],
      "text/plain": [
       "Gender         Female     Male\n",
       "Country                       \n",
       "Indonesia     95377.0  22342.0\n",
       "Malaysia     100840.0  31004.0\n",
       "Philippines  122789.0  34326.0\n",
       "Singapore    211789.0  18187.0"
      ]
     },
     "execution_count": 62,
     "metadata": {},
     "output_type": "execute_result"
    }
   ],
   "source": [
    "# Для аналізу робимо півот\n",
    "pivot_gender_sales_by_countries = df_unique_bills.pivot_table(index = 'Country', columns = 'Gender', values = 'Gross Bill Amount', aggfunc='sum').round(0)\n",
    "pivot_gender_sales_by_countries"
   ]
  },
  {
   "cell_type": "code",
   "execution_count": 66,
   "id": "7cd258bc",
   "metadata": {
    "scrolled": true
   },
   "outputs": [],
   "source": [
    "test_gender = df_unique_bills.groupby('Gender')['Gross Bill Amount'].sum()"
   ]
  },
  {
   "cell_type": "code",
   "execution_count": 65,
   "id": "ac46e525",
   "metadata": {},
   "outputs": [
    {
     "data": {
      "text/plain": [
       "636655.451404"
      ]
     },
     "execution_count": 65,
     "metadata": {},
     "output_type": "execute_result"
    }
   ],
   "source": [
    "# В процесі роботи зрозумів, що потрібно періодично чекати якийсь один показник, який буде  показувати, чи все ок обрано. В результаті перевіряв окремі результати за сумою продажів.\n",
    "df_unique_bills['Gross Bill Amount'].sum()"
   ]
  },
  {
   "cell_type": "code",
   "execution_count": 67,
   "id": "4b26a062",
   "metadata": {},
   "outputs": [
    {
     "data": {
      "text/plain": [
       "Gender\n",
       "Female    530795.298481\n",
       "Male      105860.152923\n",
       "Name: Gross Bill Amount, dtype: float64"
      ]
     },
     "execution_count": 67,
     "metadata": {},
     "output_type": "execute_result"
    }
   ],
   "source": [
    "test_gender"
   ]
  },
  {
   "cell_type": "code",
   "execution_count": 69,
   "id": "10ddb6ee",
   "metadata": {},
   "outputs": [
    {
     "data": {
      "text/html": [
       "<div>\n",
       "<style scoped>\n",
       "    .dataframe tbody tr th:only-of-type {\n",
       "        vertical-align: middle;\n",
       "    }\n",
       "\n",
       "    .dataframe tbody tr th {\n",
       "        vertical-align: top;\n",
       "    }\n",
       "\n",
       "    .dataframe thead th {\n",
       "        text-align: right;\n",
       "    }\n",
       "</style>\n",
       "<table border=\"1\" class=\"dataframe\">\n",
       "  <thead>\n",
       "    <tr style=\"text-align: right;\">\n",
       "      <th>Gender</th>\n",
       "      <th>Female</th>\n",
       "      <th>Male</th>\n",
       "    </tr>\n",
       "    <tr>\n",
       "      <th>Country</th>\n",
       "      <th></th>\n",
       "      <th></th>\n",
       "    </tr>\n",
       "  </thead>\n",
       "  <tbody>\n",
       "    <tr>\n",
       "      <th>Indonesia</th>\n",
       "      <td>81.0</td>\n",
       "      <td>19.0</td>\n",
       "    </tr>\n",
       "    <tr>\n",
       "      <th>Malaysia</th>\n",
       "      <td>76.5</td>\n",
       "      <td>23.5</td>\n",
       "    </tr>\n",
       "    <tr>\n",
       "      <th>Philippines</th>\n",
       "      <td>78.2</td>\n",
       "      <td>21.8</td>\n",
       "    </tr>\n",
       "    <tr>\n",
       "      <th>Singapore</th>\n",
       "      <td>92.1</td>\n",
       "      <td>7.9</td>\n",
       "    </tr>\n",
       "  </tbody>\n",
       "</table>\n",
       "</div>"
      ],
      "text/plain": [
       "Gender       Female  Male\n",
       "Country                  \n",
       "Indonesia      81.0  19.0\n",
       "Malaysia       76.5  23.5\n",
       "Philippines    78.2  21.8\n",
       "Singapore      92.1   7.9"
      ]
     },
     "execution_count": 69,
     "metadata": {},
     "output_type": "execute_result"
    }
   ],
   "source": [
    "# вивів також % розподіл продажів за статтю. В принципі ситуація така сама, як і з кількістю продажів.\n",
    "gender_sales_by_countries = (pivot_gender_sales_by_countries.div(pivot_gender_sales_by_countries.sum(axis = 1), axis = 0) * 100).round(1)\n",
    "gender_sales_by_countries"
   ]
  },
  {
   "cell_type": "markdown",
   "id": "cd856397",
   "metadata": {},
   "source": [
    "**Висновок:** По отриманих результатах видно, що все таки покупки більше здійснюють жінки. Тому необхідно як спрямовувати рекламу на жінок, так і стимулювати чоловіків збільшувати більше покупок."
   ]
  },
  {
   "cell_type": "markdown",
   "id": "cfd26c51",
   "metadata": {},
   "source": [
    "**ЗАПИТАННЯ 9.** Перевірити кількість унікальних клієнтів, зробити базу без дублікатів по номерах клієнтів. Після цього проаналізувати продажі для клієнтів (визначити найбільш активних та пасивних споживачів). Всі клієнти мають картку мережі, але деякі роблять покупи на 1 долар. Можливо можна якось персоналізувати пропозиції для таких клієнтів."
   ]
  },
  {
   "cell_type": "code",
   "execution_count": 70,
   "id": "b4af664b",
   "metadata": {},
   "outputs": [
    {
     "name": "stdout",
     "output_type": "stream",
     "text": [
      "Набір даних містить 2601 унікальних клієнтів\n"
     ]
    }
   ],
   "source": [
    "num_unique_customers = len(df_grocery_edit['Membership ID'].unique())\n",
    "print(f\"Набір даних містить {num_unique_customers} унікальних клієнтів\")"
   ]
  },
  {
   "cell_type": "markdown",
   "id": "b24e4927",
   "metadata": {},
   "source": [
    "При видаленні дублікатів тепер можуть виникнути деякі складнощі, оскільки частина даних прив'язана саме до чеку. І відповідно в базі найвищий чек унікального клієнта може бути не першим в переліку. Відповідно, якщо я хочу аналізувати, наприклад, найбільші суми чеків, спочатку потрібно відсортувати за спаданням за сумою чеку. "
   ]
  },
  {
   "cell_type": "code",
   "execution_count": 71,
   "id": "5c21028a",
   "metadata": {},
   "outputs": [],
   "source": [
    "df_unique_bills_sortby_sum = df_unique_bills.sort_values(by='Gross Bill Amount', ascending=False)"
   ]
  },
  {
   "cell_type": "code",
   "execution_count": 72,
   "id": "df5db9dc",
   "metadata": {
    "scrolled": true
   },
   "outputs": [
    {
     "data": {
      "text/html": [
       "<div>\n",
       "<style scoped>\n",
       "    .dataframe tbody tr th:only-of-type {\n",
       "        vertical-align: middle;\n",
       "    }\n",
       "\n",
       "    .dataframe tbody tr th {\n",
       "        vertical-align: top;\n",
       "    }\n",
       "\n",
       "    .dataframe thead th {\n",
       "        text-align: right;\n",
       "    }\n",
       "</style>\n",
       "<table border=\"1\" class=\"dataframe\">\n",
       "  <thead>\n",
       "    <tr style=\"text-align: right;\">\n",
       "      <th></th>\n",
       "      <th>Receipt Number</th>\n",
       "      <th>Date</th>\n",
       "      <th>Year</th>\n",
       "      <th>Month</th>\n",
       "      <th>Time</th>\n",
       "      <th>Mobile Number</th>\n",
       "      <th>Membership ID</th>\n",
       "      <th>Loyalty Card Points</th>\n",
       "      <th>Age</th>\n",
       "      <th>Gender</th>\n",
       "      <th>...</th>\n",
       "      <th>Payment Mode</th>\n",
       "      <th>Bank Name</th>\n",
       "      <th>% Profit Margin</th>\n",
       "      <th>% Operating Cost</th>\n",
       "      <th>% Product Cost</th>\n",
       "      <th>Profit Margin</th>\n",
       "      <th>Operating Cost</th>\n",
       "      <th>Product Cost</th>\n",
       "      <th>Time_formatted</th>\n",
       "      <th>Hour</th>\n",
       "    </tr>\n",
       "  </thead>\n",
       "  <tbody>\n",
       "    <tr>\n",
       "      <th>0</th>\n",
       "      <td>GMK02821</td>\n",
       "      <td>2019-12-25</td>\n",
       "      <td>2019</td>\n",
       "      <td>12</td>\n",
       "      <td>20:54:02.929000</td>\n",
       "      <td>9968978824</td>\n",
       "      <td>MIDMY0086</td>\n",
       "      <td>64</td>\n",
       "      <td>45</td>\n",
       "      <td>Female</td>\n",
       "      <td>...</td>\n",
       "      <td>Card</td>\n",
       "      <td>Philippine National bank</td>\n",
       "      <td>0.105</td>\n",
       "      <td>0.15</td>\n",
       "      <td>0.745</td>\n",
       "      <td>4.9980</td>\n",
       "      <td>7.140</td>\n",
       "      <td>35.4620</td>\n",
       "      <td>1900-01-01 20:54:02.929</td>\n",
       "      <td>20</td>\n",
       "    </tr>\n",
       "    <tr>\n",
       "      <th>1</th>\n",
       "      <td>GMK02820</td>\n",
       "      <td>2019-12-25</td>\n",
       "      <td>2019</td>\n",
       "      <td>12</td>\n",
       "      <td>17:29:56.016000</td>\n",
       "      <td>9959450976</td>\n",
       "      <td>MIDMY0290</td>\n",
       "      <td>32</td>\n",
       "      <td>20</td>\n",
       "      <td>Female</td>\n",
       "      <td>...</td>\n",
       "      <td>Cash</td>\n",
       "      <td>Enterprise Bank</td>\n",
       "      <td>0.115</td>\n",
       "      <td>0.15</td>\n",
       "      <td>0.735</td>\n",
       "      <td>7.5141</td>\n",
       "      <td>9.801</td>\n",
       "      <td>48.0249</td>\n",
       "      <td>1900-01-01 17:29:56.016</td>\n",
       "      <td>17</td>\n",
       "    </tr>\n",
       "    <tr>\n",
       "      <th>2</th>\n",
       "      <td>GSW01526</td>\n",
       "      <td>2019-12-24</td>\n",
       "      <td>2019</td>\n",
       "      <td>12</td>\n",
       "      <td>20:03:22.008000</td>\n",
       "      <td>9826001693</td>\n",
       "      <td>MIDSG0506</td>\n",
       "      <td>61</td>\n",
       "      <td>16</td>\n",
       "      <td>Female</td>\n",
       "      <td>...</td>\n",
       "      <td>Wallet</td>\n",
       "      <td>BDO Unibank</td>\n",
       "      <td>0.146</td>\n",
       "      <td>0.15</td>\n",
       "      <td>0.704</td>\n",
       "      <td>15.8118</td>\n",
       "      <td>16.245</td>\n",
       "      <td>76.2432</td>\n",
       "      <td>1900-01-01 20:03:22.008</td>\n",
       "      <td>20</td>\n",
       "    </tr>\n",
       "  </tbody>\n",
       "</table>\n",
       "<p>3 rows × 34 columns</p>\n",
       "</div>"
      ],
      "text/plain": [
       "  Receipt Number       Date  Year  Month             Time  Mobile Number  \\\n",
       "0       GMK02821 2019-12-25  2019     12  20:54:02.929000     9968978824   \n",
       "1       GMK02820 2019-12-25  2019     12  17:29:56.016000     9959450976   \n",
       "2       GSW01526 2019-12-24  2019     12  20:03:22.008000     9826001693   \n",
       "\n",
       "  Membership ID  Loyalty Card Points  Age  Gender  ... Payment Mode  \\\n",
       "0     MIDMY0086                   64   45  Female  ...         Card   \n",
       "1     MIDMY0290                   32   20  Female  ...         Cash   \n",
       "2     MIDSG0506                   61   16  Female  ...       Wallet   \n",
       "\n",
       "                  Bank Name % Profit Margin % Operating Cost % Product Cost  \\\n",
       "0  Philippine National bank           0.105             0.15          0.745   \n",
       "1           Enterprise Bank           0.115             0.15          0.735   \n",
       "2               BDO Unibank           0.146             0.15          0.704   \n",
       "\n",
       "  Profit Margin Operating Cost  Product Cost          Time_formatted  Hour  \n",
       "0        4.9980          7.140       35.4620 1900-01-01 20:54:02.929    20  \n",
       "1        7.5141          9.801       48.0249 1900-01-01 17:29:56.016    17  \n",
       "2       15.8118         16.245       76.2432 1900-01-01 20:03:22.008    20  \n",
       "\n",
       "[3 rows x 34 columns]"
      ]
     },
     "execution_count": 72,
     "metadata": {},
     "output_type": "execute_result"
    }
   ],
   "source": [
    "df_unique_customers = df_unique_bills_sortby_sum.drop_duplicates(subset=['Membership ID'], keep='first', inplace=False, ignore_index=True)\n",
    "df_unique_customers.head(3)"
   ]
  },
  {
   "cell_type": "markdown",
   "id": "ee775dda",
   "metadata": {},
   "source": [
    "З отриманими даними можна визначити клієнтів, котрі мали найбільші чеки, а котрі - найнижчі."
   ]
  },
  {
   "cell_type": "code",
   "execution_count": 76,
   "id": "fadb2e02",
   "metadata": {
    "scrolled": true
   },
   "outputs": [
    {
     "data": {
      "text/plain": [
       "Membership ID\n",
       "MIDMY0086    559.33\n",
       "MIDMY0290    539.21\n",
       "MIDSG0506    528.74\n",
       "MIDMY0159    517.99\n",
       "MIDPH0052    498.89\n",
       "              ...  \n",
       "MIDSG0791      1.77\n",
       "MIDSG0509      1.61\n",
       "MIDPH0419      1.55\n",
       "MIDSG0610      1.31\n",
       "MIDMY0255      1.09\n",
       "Name: Gross Bill Amount, Length: 2601, dtype: float64"
      ]
     },
     "execution_count": 76,
     "metadata": {},
     "output_type": "execute_result"
    }
   ],
   "source": [
    "unique_customers_sales = df_unique_customers.groupby('Membership ID')['Gross Bill Amount'].mean().round(2).sort_values(ascending=False)\n",
    "unique_customers_sales"
   ]
  },
  {
   "cell_type": "code",
   "execution_count": 103,
   "id": "63000b1e",
   "metadata": {},
   "outputs": [
    {
     "name": "stdout",
     "output_type": "stream",
     "text": [
      "Найбільш активний клієнт витратив 559.33 на свій найбільший чек.\n",
      "Найменш активний клієнт витратив 1.09 на свій найбільший чек.\n"
     ]
    }
   ],
   "source": [
    "min_cust = min(unique_customers_sales)\n",
    "max_cust = max(unique_customers_sales)\n",
    "\n",
    "print(f\"Найбільш активний клієнт витратив {max_cust} на свій найбільший чек.\")\n",
    "print(f\"Найменш активний клієнт витратив {min_cust} на свій найбільший чек.\")"
   ]
  },
  {
   "cell_type": "markdown",
   "id": "db50b172",
   "metadata": {},
   "source": [
    "Але щоб визначити найбільші сумарні суми витрачених коштів за кожним клієнтом, все таки треба повернутися до унікальних чеків."
   ]
  },
  {
   "cell_type": "code",
   "execution_count": 80,
   "id": "225ebc0d",
   "metadata": {},
   "outputs": [
    {
     "data": {
      "text/plain": [
       "Membership ID\n",
       "MIDPH0241    1294.89\n",
       "MIDPH0036    1266.78\n",
       "MIDPH0106    1250.95\n",
       "MIDMY0086    1191.52\n",
       "MIDPH0086    1168.79\n",
       "              ...   \n",
       "MIDSG0791       1.77\n",
       "MIDSG0509       1.61\n",
       "MIDPH0419       1.55\n",
       "MIDSG0610       1.31\n",
       "MIDMY0255       1.09\n",
       "Name: Gross Bill Amount, Length: 2601, dtype: float64"
      ]
     },
     "execution_count": 80,
     "metadata": {},
     "output_type": "execute_result"
    }
   ],
   "source": [
    "sales_by_customer = df_unique_bills.groupby('Membership ID')['Gross Bill Amount'].sum().round(2).sort_values(ascending=False)\n",
    "sales_by_customer"
   ]
  },
  {
   "cell_type": "code",
   "execution_count": 102,
   "id": "a9817f1f",
   "metadata": {},
   "outputs": [
    {
     "data": {
      "text/plain": [
       "636655.6"
      ]
     },
     "execution_count": 102,
     "metadata": {},
     "output_type": "execute_result"
    }
   ],
   "source": [
    "# перевірка, чи сходиться сума\n",
    "sales_by_customer.sum()"
   ]
  },
  {
   "cell_type": "code",
   "execution_count": 106,
   "id": "97280f9c",
   "metadata": {},
   "outputs": [
    {
     "data": {
      "text/plain": [
       "14"
      ]
     },
     "execution_count": 106,
     "metadata": {},
     "output_type": "execute_result"
    }
   ],
   "source": [
    "high_sales = [x > 1000 for x in sales_by_customer]\n",
    "count_high_sales = sum(high_sales)\n",
    "count_high_sales"
   ]
  },
  {
   "cell_type": "code",
   "execution_count": 105,
   "id": "3e9e7536",
   "metadata": {},
   "outputs": [
    {
     "data": {
      "text/plain": [
       "740"
      ]
     },
     "execution_count": 105,
     "metadata": {},
     "output_type": "execute_result"
    }
   ],
   "source": [
    "low_sales = [x < 100 for x in sales_by_customer]\n",
    "count_low_sales = sum(low_sales)\n",
    "count_low_sales"
   ]
  },
  {
   "cell_type": "code",
   "execution_count": 107,
   "id": "eb95e5d5",
   "metadata": {},
   "outputs": [
    {
     "name": "stdout",
     "output_type": "stream",
     "text": [
      "Витрати більше 1000 доларів за 4 роки 14 покупців.\n",
      "Витрати менше 100 доларів за 4 роки 740.\n"
     ]
    }
   ],
   "source": [
    "print(f\"Витрати більше 1000 доларів за 4 роки {count_high_sales} покупців.\")\n",
    "print(f\"Витрати менше 100 доларів за 4 роки {count_low_sales}.\")  "
   ]
  },
  {
   "cell_type": "markdown",
   "id": "ec19444d",
   "metadata": {},
   "source": [
    "**ВИСНОВКИ.** У нас лише 14 покупців витратили більше 1000 доларів за 4 роки. Можливо можна якось ще більше заохочити їх купувати з допомогою програм лояльності. Водночас витратили менше 100 доларів 740 покупців. Необхідно провести додаткове дослідження хто ці люди. Можливо це люди, які просто не живуть поруч і захочу за покупками дуже нечасто."
   ]
  },
  {
   "cell_type": "markdown",
   "id": "8f091e53",
   "metadata": {},
   "source": [
    "**ЗАПИТАННЯ 10** Необхідно перевірити динаміку продажів за країнами, щоб оцінити стан бізнесу."
   ]
  },
  {
   "cell_type": "code",
   "execution_count": 92,
   "id": "cde02fc5",
   "metadata": {},
   "outputs": [],
   "source": [
    "import seaborn as sns"
   ]
  },
  {
   "cell_type": "code",
   "execution_count": 101,
   "id": "cd0c4d61",
   "metadata": {
    "scrolled": true
   },
   "outputs": [
    {
     "data": {
      "text/html": [
       "<div>\n",
       "<style scoped>\n",
       "    .dataframe tbody tr th:only-of-type {\n",
       "        vertical-align: middle;\n",
       "    }\n",
       "\n",
       "    .dataframe tbody tr th {\n",
       "        vertical-align: top;\n",
       "    }\n",
       "\n",
       "    .dataframe thead th {\n",
       "        text-align: right;\n",
       "    }\n",
       "</style>\n",
       "<table border=\"1\" class=\"dataframe\">\n",
       "  <thead>\n",
       "    <tr style=\"text-align: right;\">\n",
       "      <th>Country</th>\n",
       "      <th>Indonesia</th>\n",
       "      <th>Malaysia</th>\n",
       "      <th>Philippines</th>\n",
       "      <th>Singapore</th>\n",
       "    </tr>\n",
       "    <tr>\n",
       "      <th>Year</th>\n",
       "      <th></th>\n",
       "      <th></th>\n",
       "      <th></th>\n",
       "      <th></th>\n",
       "    </tr>\n",
       "  </thead>\n",
       "  <tbody>\n",
       "    <tr>\n",
       "      <th>2016</th>\n",
       "      <td>25453.0</td>\n",
       "      <td>25668.0</td>\n",
       "      <td>28934.0</td>\n",
       "      <td>49706.0</td>\n",
       "    </tr>\n",
       "    <tr>\n",
       "      <th>2017</th>\n",
       "      <td>27972.0</td>\n",
       "      <td>29177.0</td>\n",
       "      <td>34747.0</td>\n",
       "      <td>52619.0</td>\n",
       "    </tr>\n",
       "    <tr>\n",
       "      <th>2018</th>\n",
       "      <td>29544.0</td>\n",
       "      <td>34552.0</td>\n",
       "      <td>42089.0</td>\n",
       "      <td>58908.0</td>\n",
       "    </tr>\n",
       "    <tr>\n",
       "      <th>2019</th>\n",
       "      <td>34751.0</td>\n",
       "      <td>42447.0</td>\n",
       "      <td>51346.0</td>\n",
       "      <td>68744.0</td>\n",
       "    </tr>\n",
       "  </tbody>\n",
       "</table>\n",
       "</div>"
      ],
      "text/plain": [
       "Country  Indonesia  Malaysia  Philippines  Singapore\n",
       "Year                                                \n",
       "2016       25453.0   25668.0      28934.0    49706.0\n",
       "2017       27972.0   29177.0      34747.0    52619.0\n",
       "2018       29544.0   34552.0      42089.0    58908.0\n",
       "2019       34751.0   42447.0      51346.0    68744.0"
      ]
     },
     "execution_count": 101,
     "metadata": {},
     "output_type": "execute_result"
    }
   ],
   "source": [
    "sales_by_date2 = df_unique_bills.pivot_table(index = 'Year', columns = 'Country', values = 'Gross Bill Amount', aggfunc='sum').round(0)\n",
    "sales_by_date2"
   ]
  },
  {
   "cell_type": "code",
   "execution_count": 107,
   "id": "835cb348",
   "metadata": {},
   "outputs": [
    {
     "data": {
      "image/png": "[encoded data removed]",
      "text/plain": [
       "<Figure size 800x400 with 1 Axes>"
      ]
     },
     "metadata": {},
     "output_type": "display_data"
    }
   ],
   "source": [
    "plt.figure(figsize=(8, 4))\n",
    "sns.lineplot(data=sales_by_date2.fillna(0))\n",
    "integer_years = sales_by_date2.index.astype(int)\n",
    "plt.xticks(integer_years)\n",
    "plt.title('Annual Sales by Country');"
   ]
  },
  {
   "cell_type": "markdown",
   "id": "f867c0e1",
   "metadata": {},
   "source": [
    "**Висновки:** загальні продажі зростали у всіх країнах у 2016-2018 роках. В більшості країни зафіксовано стрімкий стрибок продажів у 2019 році. Необхідно перевірити, що стало стимулом такого стрімкого росту продажів. Можливо вдала рекламна компанія?"
   ]
  },
  {
   "cell_type": "markdown",
   "id": "7cbf4dbf",
   "metadata": {},
   "source": [
    "**ЗАПИТАННЯ 11.** Необхідно проілюструвати розмір середнього чеку з допомогою boxplot."
   ]
  },
  {
   "cell_type": "code",
   "execution_count": 108,
   "id": "f1a7a094",
   "metadata": {},
   "outputs": [
    {
     "data": {
      "image/png": "[encoded data removed]",
      "text/plain": [
       "<Figure size 600x400 with 1 Axes>"
      ]
     },
     "metadata": {},
     "output_type": "display_data"
    }
   ],
   "source": [
    "plt.figure(figsize=(6,4))\n",
    "sns.boxplot(data=df_unique_bills.fillna(0), x='Country', y='Gross Bill Amount')\n",
    "plt.title('Average Bill by Country')\n",
    "plt.xticks(rotation=30);"
   ]
  },
  {
   "cell_type": "markdown",
   "id": "16f1bf84",
   "metadata": {},
   "source": [
    "**Висновки:** Як ми бачимо, різниця між медіаною чеків не є надзвичайно великою. У всіх країнах медіана нижче 50 доларів. Однак чітко видно, що медіана найнижча в Малайзії, а найвища на Філліпінах. Пояснень може бути багато. При цьому одне з основних це рівень доходу та цін в окремих країнах. А це виходить за межі бази :)\n",
    "Також бачимо, що люди, які витрачають небагато, мають нижчий діапазон можливих витрат. Дві квартилі нижче медіани обмежені сумами від близько нуля (ми знаємо вже, що мінімальний чак біля 1 долара) до менше 50 (десь 30-40 залежно від країни). Водночас вище медіани суми від 30-40 до 150 і більше. Можливо треба спрямувати більше уваги саме на повернення клієнтів, які якраз витрачати більше медіани."
   ]
  },
  {
   "cell_type": "markdown",
   "id": "04afbe44",
   "metadata": {},
   "source": [
    "**ЗАВДАННЯ 12.** Одна з колег помітила проблему в даних: різниця в розрахунковому net bill amount та наявному вже в базі net bill amount. Я вирішив перевірити, чи ця проблема існує."
   ]
  },
  {
   "cell_type": "code",
   "execution_count": 122,
   "id": "dd908abd",
   "metadata": {
    "scrolled": true
   },
   "outputs": [
    {
     "data": {
      "text/plain": [
       "Receipt Number\n",
       "GIJ00001    12.1128\n",
       "GIJ00002    22.9680\n",
       "GIJ00003    30.7692\n",
       "GIJ00004    24.2452\n",
       "GIJ00005     6.1275\n",
       "             ...   \n",
       "GSW01531    21.1848\n",
       "GSW01532     9.4090\n",
       "GSW01533    74.1664\n",
       "GSW01534    10.5536\n",
       "GSW01535    14.0184\n",
       "Name: Amount, Length: 13048, dtype: float64"
      ]
     },
     "execution_count": 122,
     "metadata": {},
     "output_type": "execute_result"
    }
   ],
   "source": [
    "# самостій порахував net bill amount\n",
    "test_net_amount1 = df_grocery.groupby('Receipt Number')['Amount'].sum()\n",
    "test_net_amount1"
   ]
  },
  {
   "cell_type": "code",
   "execution_count": 123,
   "id": "a704d26c",
   "metadata": {},
   "outputs": [],
   "source": [
    "# Записав отримані дані в окремий dataframe. Щоб можна було далі проводити потрібні операції, додав індекс від 0.\n",
    "df_amount = pd.DataFrame(test_net_amount1, index = None).reset_index()"
   ]
  },
  {
   "cell_type": "code",
   "execution_count": 128,
   "id": "14c296b3",
   "metadata": {},
   "outputs": [
    {
     "data": {
      "text/html": [
       "<div>\n",
       "<style scoped>\n",
       "    .dataframe tbody tr th:only-of-type {\n",
       "        vertical-align: middle;\n",
       "    }\n",
       "\n",
       "    .dataframe tbody tr th {\n",
       "        vertical-align: top;\n",
       "    }\n",
       "\n",
       "    .dataframe thead th {\n",
       "        text-align: right;\n",
       "    }\n",
       "</style>\n",
       "<table border=\"1\" class=\"dataframe\">\n",
       "  <thead>\n",
       "    <tr style=\"text-align: right;\">\n",
       "      <th></th>\n",
       "      <th>Receipt Number</th>\n",
       "      <th>Amount</th>\n",
       "    </tr>\n",
       "  </thead>\n",
       "  <tbody>\n",
       "    <tr>\n",
       "      <th>0</th>\n",
       "      <td>GIJ00001</td>\n",
       "      <td>12.1128</td>\n",
       "    </tr>\n",
       "    <tr>\n",
       "      <th>1</th>\n",
       "      <td>GIJ00002</td>\n",
       "      <td>22.9680</td>\n",
       "    </tr>\n",
       "    <tr>\n",
       "      <th>2</th>\n",
       "      <td>GIJ00003</td>\n",
       "      <td>30.7692</td>\n",
       "    </tr>\n",
       "    <tr>\n",
       "      <th>3</th>\n",
       "      <td>GIJ00004</td>\n",
       "      <td>24.2452</td>\n",
       "    </tr>\n",
       "    <tr>\n",
       "      <th>4</th>\n",
       "      <td>GIJ00005</td>\n",
       "      <td>6.1275</td>\n",
       "    </tr>\n",
       "    <tr>\n",
       "      <th>...</th>\n",
       "      <td>...</td>\n",
       "      <td>...</td>\n",
       "    </tr>\n",
       "    <tr>\n",
       "      <th>13043</th>\n",
       "      <td>GSW01531</td>\n",
       "      <td>21.1848</td>\n",
       "    </tr>\n",
       "    <tr>\n",
       "      <th>13044</th>\n",
       "      <td>GSW01532</td>\n",
       "      <td>9.4090</td>\n",
       "    </tr>\n",
       "    <tr>\n",
       "      <th>13045</th>\n",
       "      <td>GSW01533</td>\n",
       "      <td>74.1664</td>\n",
       "    </tr>\n",
       "    <tr>\n",
       "      <th>13046</th>\n",
       "      <td>GSW01534</td>\n",
       "      <td>10.5536</td>\n",
       "    </tr>\n",
       "    <tr>\n",
       "      <th>13047</th>\n",
       "      <td>GSW01535</td>\n",
       "      <td>14.0184</td>\n",
       "    </tr>\n",
       "  </tbody>\n",
       "</table>\n",
       "<p>13048 rows × 2 columns</p>\n",
       "</div>"
      ],
      "text/plain": [
       "      Receipt Number   Amount\n",
       "0           GIJ00001  12.1128\n",
       "1           GIJ00002  22.9680\n",
       "2           GIJ00003  30.7692\n",
       "3           GIJ00004  24.2452\n",
       "4           GIJ00005   6.1275\n",
       "...              ...      ...\n",
       "13043       GSW01531  21.1848\n",
       "13044       GSW01532   9.4090\n",
       "13045       GSW01533  74.1664\n",
       "13046       GSW01534  10.5536\n",
       "13047       GSW01535  14.0184\n",
       "\n",
       "[13048 rows x 2 columns]"
      ]
     },
     "execution_count": 128,
     "metadata": {},
     "output_type": "execute_result"
    }
   ],
   "source": [
    "df_amount"
   ]
  },
  {
   "cell_type": "code",
   "execution_count": 127,
   "id": "bf0596da",
   "metadata": {},
   "outputs": [
    {
     "data": {
      "text/html": [
       "<div>\n",
       "<style scoped>\n",
       "    .dataframe tbody tr th:only-of-type {\n",
       "        vertical-align: middle;\n",
       "    }\n",
       "\n",
       "    .dataframe tbody tr th {\n",
       "        vertical-align: top;\n",
       "    }\n",
       "\n",
       "    .dataframe thead th {\n",
       "        text-align: right;\n",
       "    }\n",
       "</style>\n",
       "<table border=\"1\" class=\"dataframe\">\n",
       "  <thead>\n",
       "    <tr style=\"text-align: right;\">\n",
       "      <th></th>\n",
       "      <th>Receipt Number</th>\n",
       "      <th>Net Bill Amount</th>\n",
       "    </tr>\n",
       "  </thead>\n",
       "  <tbody>\n",
       "    <tr>\n",
       "      <th>0</th>\n",
       "      <td>GIJ00001</td>\n",
       "      <td>12.1128</td>\n",
       "    </tr>\n",
       "    <tr>\n",
       "      <th>1</th>\n",
       "      <td>GIJ00002</td>\n",
       "      <td>22.9680</td>\n",
       "    </tr>\n",
       "    <tr>\n",
       "      <th>2</th>\n",
       "      <td>GIJ00003</td>\n",
       "      <td>38.3526</td>\n",
       "    </tr>\n",
       "    <tr>\n",
       "      <th>3</th>\n",
       "      <td>GIJ00004</td>\n",
       "      <td>21.1974</td>\n",
       "    </tr>\n",
       "    <tr>\n",
       "      <th>4</th>\n",
       "      <td>GIJ00005</td>\n",
       "      <td>6.1275</td>\n",
       "    </tr>\n",
       "    <tr>\n",
       "      <th>...</th>\n",
       "      <td>...</td>\n",
       "      <td>...</td>\n",
       "    </tr>\n",
       "    <tr>\n",
       "      <th>13043</th>\n",
       "      <td>GSW01531</td>\n",
       "      <td>21.1848</td>\n",
       "    </tr>\n",
       "    <tr>\n",
       "      <th>13044</th>\n",
       "      <td>GSW01532</td>\n",
       "      <td>9.4090</td>\n",
       "    </tr>\n",
       "    <tr>\n",
       "      <th>13045</th>\n",
       "      <td>GSW01533</td>\n",
       "      <td>74.1664</td>\n",
       "    </tr>\n",
       "    <tr>\n",
       "      <th>13046</th>\n",
       "      <td>GSW01534</td>\n",
       "      <td>10.5536</td>\n",
       "    </tr>\n",
       "    <tr>\n",
       "      <th>13047</th>\n",
       "      <td>GSW01535</td>\n",
       "      <td>14.0184</td>\n",
       "    </tr>\n",
       "  </tbody>\n",
       "</table>\n",
       "<p>13048 rows × 2 columns</p>\n",
       "</div>"
      ],
      "text/plain": [
       "      Receipt Number  Net Bill Amount\n",
       "0           GIJ00001          12.1128\n",
       "1           GIJ00002          22.9680\n",
       "2           GIJ00003          38.3526\n",
       "3           GIJ00004          21.1974\n",
       "4           GIJ00005           6.1275\n",
       "...              ...              ...\n",
       "13043       GSW01531          21.1848\n",
       "13044       GSW01532           9.4090\n",
       "13045       GSW01533          74.1664\n",
       "13046       GSW01534          10.5536\n",
       "13047       GSW01535          14.0184\n",
       "\n",
       "[13048 rows x 2 columns]"
      ]
     },
     "execution_count": 127,
     "metadata": {},
     "output_type": "execute_result"
    }
   ],
   "source": [
    "# З нашого датафрейму з унікальними чеками витягнув необхідні дані теж.\n",
    "df_unique_bills[['Receipt Number', 'Net Bill Amount']]"
   ]
  },
  {
   "cell_type": "markdown",
   "id": "733322d8",
   "metadata": {},
   "source": [
    "В принципі вже навіть на око видно, що суми відрізняються."
   ]
  },
  {
   "cell_type": "code",
   "execution_count": 130,
   "id": "396d82ea",
   "metadata": {},
   "outputs": [],
   "source": [
    "# Для підрахунку різниці вирішив зробити окремий dataframe, куди скопіював df_amount\n",
    "df_amount_diff = df_amount.copy()"
   ]
  },
  {
   "cell_type": "code",
   "execution_count": 131,
   "id": "6499ebd9",
   "metadata": {},
   "outputs": [],
   "source": [
    "df_amount_diff['Difference'] = df_amount['Amount'] - df_unique_bills['Net Bill Amount']"
   ]
  },
  {
   "cell_type": "code",
   "execution_count": 132,
   "id": "a7c23741",
   "metadata": {},
   "outputs": [
    {
     "data": {
      "text/html": [
       "<div>\n",
       "<style scoped>\n",
       "    .dataframe tbody tr th:only-of-type {\n",
       "        vertical-align: middle;\n",
       "    }\n",
       "\n",
       "    .dataframe tbody tr th {\n",
       "        vertical-align: top;\n",
       "    }\n",
       "\n",
       "    .dataframe thead th {\n",
       "        text-align: right;\n",
       "    }\n",
       "</style>\n",
       "<table border=\"1\" class=\"dataframe\">\n",
       "  <thead>\n",
       "    <tr style=\"text-align: right;\">\n",
       "      <th></th>\n",
       "      <th>Receipt Number</th>\n",
       "      <th>Amount</th>\n",
       "      <th>Difference</th>\n",
       "    </tr>\n",
       "  </thead>\n",
       "  <tbody>\n",
       "    <tr>\n",
       "      <th>0</th>\n",
       "      <td>GIJ00001</td>\n",
       "      <td>12.1128</td>\n",
       "      <td>0.000000e+00</td>\n",
       "    </tr>\n",
       "    <tr>\n",
       "      <th>1</th>\n",
       "      <td>GIJ00002</td>\n",
       "      <td>22.9680</td>\n",
       "      <td>0.000000e+00</td>\n",
       "    </tr>\n",
       "    <tr>\n",
       "      <th>2</th>\n",
       "      <td>GIJ00003</td>\n",
       "      <td>30.7692</td>\n",
       "      <td>-7.583400e+00</td>\n",
       "    </tr>\n",
       "    <tr>\n",
       "      <th>3</th>\n",
       "      <td>GIJ00004</td>\n",
       "      <td>24.2452</td>\n",
       "      <td>3.047800e+00</td>\n",
       "    </tr>\n",
       "    <tr>\n",
       "      <th>4</th>\n",
       "      <td>GIJ00005</td>\n",
       "      <td>6.1275</td>\n",
       "      <td>0.000000e+00</td>\n",
       "    </tr>\n",
       "    <tr>\n",
       "      <th>...</th>\n",
       "      <td>...</td>\n",
       "      <td>...</td>\n",
       "      <td>...</td>\n",
       "    </tr>\n",
       "    <tr>\n",
       "      <th>13043</th>\n",
       "      <td>GSW01531</td>\n",
       "      <td>21.1848</td>\n",
       "      <td>0.000000e+00</td>\n",
       "    </tr>\n",
       "    <tr>\n",
       "      <th>13044</th>\n",
       "      <td>GSW01532</td>\n",
       "      <td>9.4090</td>\n",
       "      <td>0.000000e+00</td>\n",
       "    </tr>\n",
       "    <tr>\n",
       "      <th>13045</th>\n",
       "      <td>GSW01533</td>\n",
       "      <td>74.1664</td>\n",
       "      <td>1.421085e-14</td>\n",
       "    </tr>\n",
       "    <tr>\n",
       "      <th>13046</th>\n",
       "      <td>GSW01534</td>\n",
       "      <td>10.5536</td>\n",
       "      <td>0.000000e+00</td>\n",
       "    </tr>\n",
       "    <tr>\n",
       "      <th>13047</th>\n",
       "      <td>GSW01535</td>\n",
       "      <td>14.0184</td>\n",
       "      <td>0.000000e+00</td>\n",
       "    </tr>\n",
       "  </tbody>\n",
       "</table>\n",
       "<p>13048 rows × 3 columns</p>\n",
       "</div>"
      ],
      "text/plain": [
       "      Receipt Number   Amount    Difference\n",
       "0           GIJ00001  12.1128  0.000000e+00\n",
       "1           GIJ00002  22.9680  0.000000e+00\n",
       "2           GIJ00003  30.7692 -7.583400e+00\n",
       "3           GIJ00004  24.2452  3.047800e+00\n",
       "4           GIJ00005   6.1275  0.000000e+00\n",
       "...              ...      ...           ...\n",
       "13043       GSW01531  21.1848  0.000000e+00\n",
       "13044       GSW01532   9.4090  0.000000e+00\n",
       "13045       GSW01533  74.1664  1.421085e-14\n",
       "13046       GSW01534  10.5536  0.000000e+00\n",
       "13047       GSW01535  14.0184  0.000000e+00\n",
       "\n",
       "[13048 rows x 3 columns]"
      ]
     },
     "execution_count": 132,
     "metadata": {},
     "output_type": "execute_result"
    }
   ],
   "source": [
    "# Отримали колонку, де вказано для кожного чеку різницю.\n",
    "df_amount_diff"
   ]
  },
  {
   "cell_type": "code",
   "execution_count": 133,
   "id": "7f070836",
   "metadata": {
    "scrolled": false
   },
   "outputs": [
    {
     "data": {
      "text/plain": [
       " 0.000000e+00    8521\n",
       " 1.421085e-14     381\n",
       "-1.421085e-14     373\n",
       "-7.105427e-15     336\n",
       " 7.105427e-15     287\n",
       "                 ... \n",
       "-3.539520e+01       1\n",
       "-6.140100e+00       1\n",
       "-3.019500e+00       1\n",
       "-7.286400e+00       1\n",
       "-3.743600e+01       1\n",
       "Name: Difference, Length: 2787, dtype: int64"
      ]
     },
     "execution_count": 133,
     "metadata": {},
     "output_type": "execute_result"
    }
   ],
   "source": [
    "# Дивимося на кількість даних, де різниця 0\n",
    "df_amount_diff['Difference'].value_counts()"
   ]
  },
  {
   "cell_type": "code",
   "execution_count": 259,
   "id": "dfc4dc3c",
   "metadata": {
    "scrolled": true
   },
   "outputs": [
    {
     "data": {
      "text/plain": [
       "34.694972409564684"
      ]
     },
     "execution_count": 259,
     "metadata": {},
     "output_type": "execute_result"
    }
   ],
   "source": [
    "# рахуємо частку проблемних чеків\n",
    "share_of_problems = (1 - (8521 / 13048))*100\n",
    "share_of_problems"
   ]
  },
  {
   "cell_type": "markdown",
   "id": "11061f95",
   "metadata": {},
   "source": [
    "**Висновки.** Дійсно можна підтвердити, що існує різниця між обрахованим net bill amount та наявним в базі даних. Але ми нічого з цим би не робили, оскільки просто немає жодної інформації про базу даних. Відповідно нам важко зробити висновки, чи це помилка, та й взагалі в якому стовпчику помилка.\n",
    "\n"
   ]
  },
  {
   "cell_type": "markdown",
   "id": "fefd7284",
   "metadata": {},
   "source": [
    "**ЗАПИТАННЯ 13.** Для виконання одного зі завдань було вирішено використати можливості sql. В"
   ]
  },
  {
   "cell_type": "code",
   "execution_count": 5,
   "id": "78a8cd01",
   "metadata": {},
   "outputs": [],
   "source": [
    "from pandasql import sqldf"
   ]
  },
  {
   "cell_type": "code",
   "execution_count": 6,
   "id": "2760b6d8",
   "metadata": {},
   "outputs": [],
   "source": [
    "import sqlalchemy"
   ]
  },
  {
   "cell_type": "code",
   "execution_count": 7,
   "id": "a16fcf90",
   "metadata": {},
   "outputs": [
    {
     "name": "stdout",
     "output_type": "stream",
     "text": [
      "1.4.46\n"
     ]
    }
   ],
   "source": [
    "print(sqlalchemy.__version__)"
   ]
  },
  {
   "cell_type": "code",
   "execution_count": 146,
   "id": "28bab9bf",
   "metadata": {},
   "outputs": [],
   "source": [
    "# довелося відкочувати sqlalchemy, оскільки не працює інакше pandasql"
   ]
  },
  {
   "cell_type": "code",
   "execution_count": 145,
   "id": "5bec75ea",
   "metadata": {},
   "outputs": [
    {
     "name": "stdout",
     "output_type": "stream",
     "text": [
      "Requirement already satisfied: sqlalchemy==1.4.46 in c:\\users\\yevhe\\anaconda3\\envs\\py3109\\lib\\site-packages (1.4.46)\n",
      "Requirement already satisfied: greenlet!=0.4.17 in c:\\users\\yevhe\\anaconda3\\envs\\py3109\\lib\\site-packages (from sqlalchemy==1.4.46) (2.0.2)\n",
      "Note: you may need to restart the kernel to use updated packages.\n"
     ]
    }
   ],
   "source": [
    "pip install sqlalchemy==1.4.46 --user"
   ]
  },
  {
   "cell_type": "code",
   "execution_count": 8,
   "id": "270d57d0",
   "metadata": {},
   "outputs": [],
   "source": [
    "data_sql = pd.read_excel('Grocery Database.xlsx')"
   ]
  },
  {
   "cell_type": "code",
   "execution_count": 9,
   "id": "8d2745ba",
   "metadata": {},
   "outputs": [],
   "source": [
    "df_test_sql = pd.DataFrame(data_sql)"
   ]
  },
  {
   "cell_type": "markdown",
   "id": "9aceb7a5",
   "metadata": {},
   "source": [
    "Для розминки дивимося кількість чеків за роками. На основі цих даних побудуємо графік кількості покупок за роками."
   ]
  },
  {
   "cell_type": "code",
   "execution_count": 10,
   "id": "8b33aea3",
   "metadata": {},
   "outputs": [],
   "source": [
    "query_1 = 'SELECT Year, COUNT(DISTINCT(\"Receipt Number\")) as Purchases FROM df_test_sql GROUP BY year'"
   ]
  },
  {
   "cell_type": "code",
   "execution_count": 11,
   "id": "3f7b039e",
   "metadata": {
    "scrolled": true
   },
   "outputs": [
    {
     "data": {
      "text/html": [
       "<div>\n",
       "<style scoped>\n",
       "    .dataframe tbody tr th:only-of-type {\n",
       "        vertical-align: middle;\n",
       "    }\n",
       "\n",
       "    .dataframe tbody tr th {\n",
       "        vertical-align: top;\n",
       "    }\n",
       "\n",
       "    .dataframe thead th {\n",
       "        text-align: right;\n",
       "    }\n",
       "</style>\n",
       "<table border=\"1\" class=\"dataframe\">\n",
       "  <thead>\n",
       "    <tr style=\"text-align: right;\">\n",
       "      <th></th>\n",
       "      <th>Year</th>\n",
       "      <th>Purchases</th>\n",
       "    </tr>\n",
       "  </thead>\n",
       "  <tbody>\n",
       "    <tr>\n",
       "      <th>0</th>\n",
       "      <td>2016</td>\n",
       "      <td>2587</td>\n",
       "    </tr>\n",
       "    <tr>\n",
       "      <th>1</th>\n",
       "      <td>2017</td>\n",
       "      <td>3067</td>\n",
       "    </tr>\n",
       "    <tr>\n",
       "      <th>2</th>\n",
       "      <td>2018</td>\n",
       "      <td>3439</td>\n",
       "    </tr>\n",
       "    <tr>\n",
       "      <th>3</th>\n",
       "      <td>2019</td>\n",
       "      <td>3955</td>\n",
       "    </tr>\n",
       "  </tbody>\n",
       "</table>\n",
       "</div>"
      ],
      "text/plain": [
       "   Year  Purchases\n",
       "0  2016       2587\n",
       "1  2017       3067\n",
       "2  2018       3439\n",
       "3  2019       3955"
      ]
     },
     "execution_count": 11,
     "metadata": {},
     "output_type": "execute_result"
    }
   ],
   "source": [
    "result = sqldf(query_1, locals())\n",
    "result"
   ]
  },
  {
   "cell_type": "code",
   "execution_count": 35,
   "id": "24318bff",
   "metadata": {
    "scrolled": true
   },
   "outputs": [
    {
     "data": {
      "text/html": [
       "<div>\n",
       "<style scoped>\n",
       "    .dataframe tbody tr th:only-of-type {\n",
       "        vertical-align: middle;\n",
       "    }\n",
       "\n",
       "    .dataframe tbody tr th {\n",
       "        vertical-align: top;\n",
       "    }\n",
       "\n",
       "    .dataframe thead th {\n",
       "        text-align: right;\n",
       "    }\n",
       "</style>\n",
       "<table border=\"1\" class=\"dataframe\">\n",
       "  <thead>\n",
       "    <tr style=\"text-align: right;\">\n",
       "      <th></th>\n",
       "      <th>Year</th>\n",
       "      <th>Purchases</th>\n",
       "    </tr>\n",
       "  </thead>\n",
       "  <tbody>\n",
       "    <tr>\n",
       "      <th>0</th>\n",
       "      <td>2016</td>\n",
       "      <td>2587</td>\n",
       "    </tr>\n",
       "    <tr>\n",
       "      <th>1</th>\n",
       "      <td>2017</td>\n",
       "      <td>3067</td>\n",
       "    </tr>\n",
       "    <tr>\n",
       "      <th>2</th>\n",
       "      <td>2018</td>\n",
       "      <td>3439</td>\n",
       "    </tr>\n",
       "    <tr>\n",
       "      <th>3</th>\n",
       "      <td>2019</td>\n",
       "      <td>3955</td>\n",
       "    </tr>\n",
       "  </tbody>\n",
       "</table>\n",
       "</div>"
      ],
      "text/plain": [
       "   Year  Purchases\n",
       "0  2016       2587\n",
       "1  2017       3067\n",
       "2  2018       3439\n",
       "3  2019       3955"
      ]
     },
     "execution_count": 35,
     "metadata": {},
     "output_type": "execute_result"
    }
   ],
   "source": [
    "df_result_1 = pd.DataFrame(result)\n",
    "df_result_1"
   ]
  },
  {
   "cell_type": "code",
   "execution_count": 49,
   "id": "18aea8ce",
   "metadata": {
    "scrolled": false
   },
   "outputs": [
    {
     "data": {
      "image/png": "[encoded data removed]",
      "text/plain": [
       "<Figure size 500x300 with 1 Axes>"
      ]
     },
     "metadata": {},
     "output_type": "display_data"
    }
   ],
   "source": [
    "result_plot = result.plot(kind ='bar', x = 'Year', figsize = (5, 3))\n",
    "for idx, value in enumerate(df_result_1['Purchases']):\n",
    "    result_plot.text(idx, value, str(value), ha='center', va='bottom')\n",
    "plt.title('Number of Purchases by Year')\n",
    "plt.xlabel('Year', fontsize=12)\n",
    "plt.ylabel('Number of purchases');"
   ]
  },
  {
   "cell_type": "markdown",
   "id": "d0bad9d5",
   "metadata": {},
   "source": [
    "**Висновки:** щорічно зростала кількість покупок за роками. Це корелюється зі зростанням обсягів продажів, яке зафіксували в попередніх запитаннях. Це може свідчити, що мабуть зростала роль мережі. Але на такій вибірці складно робити повноцінну оцінку ситуації.\n"
   ]
  },
  {
   "cell_type": "code",
   "execution_count": 13,
   "id": "64a4c7ae",
   "metadata": {},
   "outputs": [],
   "source": [
    "query_2 = 'SELECT DiSTINCT(\"Bank Name\") as Bank, COUNT(DISTINCT(\"Receipt Number\")) as Purchases FROM df_test_sql GROUP BY Bank ORDER BY Purchases DESC'"
   ]
  },
  {
   "cell_type": "code",
   "execution_count": 77,
   "id": "8f518968",
   "metadata": {
    "scrolled": false
   },
   "outputs": [
    {
     "data": {
      "text/html": [
       "<div>\n",
       "<style scoped>\n",
       "    .dataframe tbody tr th:only-of-type {\n",
       "        vertical-align: middle;\n",
       "    }\n",
       "\n",
       "    .dataframe tbody tr th {\n",
       "        vertical-align: top;\n",
       "    }\n",
       "\n",
       "    .dataframe thead th {\n",
       "        text-align: right;\n",
       "    }\n",
       "</style>\n",
       "<table border=\"1\" class=\"dataframe\">\n",
       "  <thead>\n",
       "    <tr style=\"text-align: right;\">\n",
       "      <th></th>\n",
       "      <th>Bank</th>\n",
       "      <th>Purchases</th>\n",
       "    </tr>\n",
       "  </thead>\n",
       "  <tbody>\n",
       "    <tr>\n",
       "      <th>4</th>\n",
       "      <td>ING Bank</td>\n",
       "      <td>2294</td>\n",
       "    </tr>\n",
       "    <tr>\n",
       "      <th>3</th>\n",
       "      <td>Enterprise Bank</td>\n",
       "      <td>2538</td>\n",
       "    </tr>\n",
       "    <tr>\n",
       "      <th>2</th>\n",
       "      <td>Philippine Veterans Bank</td>\n",
       "      <td>2579</td>\n",
       "    </tr>\n",
       "    <tr>\n",
       "      <th>1</th>\n",
       "      <td>Philippine National bank</td>\n",
       "      <td>2636</td>\n",
       "    </tr>\n",
       "    <tr>\n",
       "      <th>0</th>\n",
       "      <td>BDO Unibank</td>\n",
       "      <td>2907</td>\n",
       "    </tr>\n",
       "  </tbody>\n",
       "</table>\n",
       "</div>"
      ],
      "text/plain": [
       "                       Bank  Purchases\n",
       "4                  ING Bank       2294\n",
       "3           Enterprise Bank       2538\n",
       "2  Philippine Veterans Bank       2579\n",
       "1  Philippine National bank       2636\n",
       "0               BDO Unibank       2907"
      ]
     },
     "execution_count": 77,
     "metadata": {},
     "output_type": "execute_result"
    }
   ],
   "source": [
    "result_2 = sqldf(query_2, locals())\n",
    "result_banks = pd.DataFrame(result_2[:5].sort_values(by = 'Purchases'))\n",
    "result_banks_top5"
   ]
  },
  {
   "cell_type": "code",
   "execution_count": 88,
   "id": "2228c08b",
   "metadata": {
    "scrolled": true
   },
   "outputs": [
    {
     "data": {
      "image/png": "[encoded data removed]",
      "text/plain": [
       "<Figure size 400x300 with 1 Axes>"
      ]
     },
     "metadata": {},
     "output_type": "display_data"
    }
   ],
   "source": [
    "result_plot_2 = result_banks_top5.plot(kind ='barh', x = 'Bank', figsize = (4, 3))\n",
    "for idx, value in enumerate(result_banks['Purchases']):\n",
    "    result_plot_2.text(value, idx, str(value), ha='left', va='center', fontsize=8)\n",
    "plt.title('Top-5 banks')\n",
    "plt.xlabel('Number of Bank Operations', fontsize=8)\n",
    "plt.ylabel('Banks', fontsize=8)\n",
    "plt.legend().set_visible(False);"
   ]
  },
  {
   "cell_type": "markdown",
   "id": "1953644f",
   "metadata": {},
   "source": [
    "**Висновок:** Більшість операцій припадає на топ-5 банків. При цьому найпопулярнішим банком є BDO Unibank. Майже на одному рівні популярності наступні 3 банки. Цю інформацію можна використати для планування програм лояльності. Можна домовитися про співпрацю з якимсь банком і запровадити бонуси для власників карток певного банку."
   ]
  },
  {
   "cell_type": "markdown",
   "id": "264b2571",
   "metadata": {},
   "source": [
    "**ЗАПИТАННЯ 14.** Було вирішено встановити, чи є статистично значуща різниця між середнім розміром чеку чоловіків та жінок. Як ми знаємо, жінки в рази частіше користуються магазинами мережі. Тому важливо зрозуміти, чи є якась різниця між вартістю їхніх покупок."
   ]
  },
  {
   "cell_type": "code",
   "execution_count": 206,
   "id": "c9183cf0",
   "metadata": {},
   "outputs": [],
   "source": [
    "import math\n",
    "import random\n",
    "import re\n",
    "import numpy as np\n",
    "import pandas as pd\n",
    "import scipy.stats as stats\n",
    "import statsmodels.stats.api as sms\n",
    "import matplotlib as mpl\n",
    "import matplotlib.pyplot as plt\n",
    "import seaborn as sns\n",
    "from math import ceil\n",
    "import statsmodels.stats.proportion as prop\n",
    "from statsmodels.stats.proportion import proportions_ztest, proportion_confint\n",
    "import statsmodels.stats.weightstats as stests"
   ]
  },
  {
   "cell_type": "markdown",
   "id": "594296c1",
   "metadata": {},
   "source": [
    "Для початку просто глянув різні середні розміри чеку:"
   ]
  },
  {
   "cell_type": "code",
   "execution_count": 208,
   "id": "094bc49f",
   "metadata": {},
   "outputs": [
    {
     "data": {
      "text/plain": [
       "48.8"
      ]
     },
     "execution_count": 208,
     "metadata": {},
     "output_type": "execute_result"
    }
   ],
   "source": [
    "# Загальний середній розмір.\n",
    "df_unique_bills['Gross Bill Amount'].mean().round(1)"
   ]
  },
  {
   "cell_type": "code",
   "execution_count": 210,
   "id": "11edf5b8",
   "metadata": {},
   "outputs": [
    {
     "data": {
      "text/plain": [
       "Gender\n",
       "Female    49.2\n",
       "Male      46.8\n",
       "Name: Gross Bill Amount, dtype: float64"
      ]
     },
     "execution_count": 210,
     "metadata": {},
     "output_type": "execute_result"
    }
   ],
   "source": [
    "# Середній розмір чеку за статтю.\n",
    "df_unique_bills.groupby('Gender')['Gross Bill Amount'].mean().round(1)"
   ]
  },
  {
   "cell_type": "code",
   "execution_count": 213,
   "id": "ff9bb5e2",
   "metadata": {},
   "outputs": [
    {
     "data": {
      "text/plain": [
       "Gender\n",
       "Female    45.1\n",
       "Male      42.4\n",
       "Name: Gross Bill Amount, dtype: float64"
      ]
     },
     "execution_count": 213,
     "metadata": {},
     "output_type": "execute_result"
    }
   ],
   "source": [
    "# Standard Deviation\n",
    "df_unique_bills.groupby('Gender')['Gross Bill Amount'].std().round(1)"
   ]
  },
  {
   "cell_type": "code",
   "execution_count": 211,
   "id": "c043a285",
   "metadata": {},
   "outputs": [
    {
     "data": {
      "text/plain": [
       "Gender\n",
       "Female    10788\n",
       "Male       2260\n",
       "Name: Gender, dtype: int64"
      ]
     },
     "execution_count": 211,
     "metadata": {},
     "output_type": "execute_result"
    }
   ],
   "source": [
    "# Нагадуємо, що у нас кількість \"жіночих\" чеків в рази вища.\n",
    "df_unique_bills.groupby('Gender')['Gender'].count()"
   ]
  },
  {
   "cell_type": "markdown",
   "id": "6a31c70c",
   "metadata": {},
   "source": [
    "Я вирішив взяти максимальну кількість чоловіків та таку ж жінок при визначенні семплу."
   ]
  },
  {
   "cell_type": "code",
   "execution_count": 215,
   "id": "7cf62a70",
   "metadata": {},
   "outputs": [],
   "source": [
    "required_n_available = 2260"
   ]
  },
  {
   "cell_type": "code",
   "execution_count": 216,
   "id": "418d8512",
   "metadata": {},
   "outputs": [],
   "source": [
    "female_results = df_unique_bills[df_unique_bills['Gender']=='Female']['Gross Bill Amount'].sample(n=required_n_available, random_state=22)  # зробив фільтри\n",
    "male_results = df_unique_bills[df_unique_bills['Gender']=='Male']['Gross Bill Amount'].sample(n=required_n_available, random_state=22)\n"
   ]
  },
  {
   "cell_type": "code",
   "execution_count": 230,
   "id": "b76ab5a8",
   "metadata": {},
   "outputs": [],
   "source": [
    "# чомусь з визначеними вище семплами не хотілося працювати. Знайшов ось такий код нижче, щоб вирішити проблему.\n",
    "min_size = min(len(female_results), len(male_results))\n",
    "female_results_fortest = female_results[:min_size]\n",
    "male_results_fortest = male_results[:min_size]"
   ]
  },
  {
   "cell_type": "code",
   "execution_count": 231,
   "id": "0c698d6a",
   "metadata": {},
   "outputs": [],
   "source": [
    "alpha = 0.05"
   ]
  },
  {
   "cell_type": "code",
   "execution_count": 232,
   "id": "45769453",
   "metadata": {
    "scrolled": true
   },
   "outputs": [
    {
     "name": "stdout",
     "output_type": "stream",
     "text": [
      "Z-statistic: 1.54\n",
      "p-value: 0.1233\n"
     ]
    }
   ],
   "source": [
    "z_stat, p_value = stests.ztest(female_results_fortest, male_results_fortest)\n",
    "\n",
    "\n",
    "print(f'Z-statistic: {z_stat:.2f}')\n",
    "print(f'p-value: {p_value:.4f}')"
   ]
  },
  {
   "cell_type": "code",
   "execution_count": 233,
   "id": "7b6bf70a",
   "metadata": {},
   "outputs": [
    {
     "name": "stdout",
     "output_type": "stream",
     "text": [
      "Н0 не може бути відхилена: немає суттєвої різниці між сумою чеку жінок та чоловіків\n"
     ]
    }
   ],
   "source": [
    "if(p_value <  alpha):\n",
    "    print(\"Відхилити Н0: Є суттєва різниця між сумою чеку жінок та чоловіків\")\n",
    "else:\n",
    "    print(\"Н0 не може бути відхилена: немає суттєвої різниці між сумою чеку жінок та чоловіків\")"
   ]
  },
  {
   "cell_type": "markdown",
   "id": "e315877a",
   "metadata": {},
   "source": [
    "Також хотів подивитися довірчі інтервали. Знайшов як це робити для середніх значень."
   ]
  },
  {
   "cell_type": "code",
   "execution_count": 249,
   "id": "e4887712",
   "metadata": {},
   "outputs": [],
   "source": [
    "confidence_level = 0.95"
   ]
  },
  {
   "cell_type": "code",
   "execution_count": 250,
   "id": "34041f16",
   "metadata": {},
   "outputs": [],
   "source": [
    "sample_mean_female = np.mean(female_results_fortest)\n",
    "sem_female = stats.sem(female_results_fortest)\n",
    "sample_mean_male = np.mean(male_results_fortest)\n",
    "sem_male = stats.sem(male_results_fortest)\n",
    "n_female = len(female_results_fortest)\n",
    "n_male = len(male_results_fortest)"
   ]
  },
  {
   "cell_type": "code",
   "execution_count": 251,
   "id": "995e418d",
   "metadata": {},
   "outputs": [],
   "source": [
    "ci_female = stats.t.interval(confidence_level, df=n_female - 1, loc=sample_mean_female, scale=sem_female)\n",
    "ci_male = stats.t.interval(confidence_level, df=n_male - 1, loc=sample_mean_male, scale=sem_male)"
   ]
  },
  {
   "cell_type": "code",
   "execution_count": 252,
   "id": "7b31d8c4",
   "metadata": {},
   "outputs": [
    {
     "data": {
      "text/plain": [
       "(46.95869976391529, 50.81536488652719)"
      ]
     },
     "execution_count": 252,
     "metadata": {},
     "output_type": "execute_result"
    }
   ],
   "source": [
    "ci_female"
   ]
  },
  {
   "cell_type": "code",
   "execution_count": 253,
   "id": "0edc990d",
   "metadata": {
    "scrolled": false
   },
   "outputs": [
    {
     "data": {
      "text/plain": [
       "(45.09091527549368, 48.59063598379837)"
      ]
     },
     "execution_count": 253,
     "metadata": {},
     "output_type": "execute_result"
    }
   ],
   "source": [
    "ci_male"
   ]
  },
  {
   "cell_type": "code",
   "execution_count": 242,
   "id": "970e3aae",
   "metadata": {},
   "outputs": [
    {
     "name": "stdout",
     "output_type": "stream",
     "text": [
      "Довірчий інтервал 95% для групи female: [47.0, 50.8]\n",
      "Довірчий інтервал 95% для групи male: [45.1, 48.6]\n"
     ]
    }
   ],
   "source": [
    "print(f'Довірчий інтервал 95% для групи female: [{ci_female[0]:.1f}, {ci_female[1]:.1f}]')\n",
    "print(f'Довірчий інтервал 95% для групи male: [{ci_male[0]:.1f}, {ci_male[1]:.1f}]')"
   ]
  },
  {
   "cell_type": "markdown",
   "id": "f0a46bbd",
   "metadata": {},
   "source": [
    "**Висновки:** Як бачимо, дані статистики підтверджують, що немає статистично значущої різниці між сумою чеку чоловіків та жінок.  P_value вище 0,12, тому ми не можемо відкинути нульову гіпотезу. При цьому ми навіть бачимо по довірчих інтервалах, що значення значною мірою перетинаються. Таким чином в принципі нам не важливо чоловік чи жінка з домогосподарства заходить робити покупки. В середньому вони витрачають однаково. Тому немає підстав хвилюватися, що такий значний статевий дизбаланс."
   ]
  },
  {
   "cell_type": "markdown",
   "id": "93fbe209",
   "metadata": {},
   "source": [
    "В файлі ви знайдете самі дані та опис колонок.   \n",
    "\n",
    "**Задача**: Уявіть, що Вам дали цей набір даних з питанням \"Що корисного ми можемо з них взяти для розвитку нашого бізнесу?\". То Вам необхідно розказати бізнесу історію про ці дані у форматі\n",
    "1. питання, яке Вас як робітника цього бізнесу, який дуже вболіває за його успіх, цікавить щодо цих даних\n",
    "2. код для відповіді на це питання\n",
    "3. висновки, які я можу зробити з огляду на результат виконання коду: які рішення ми можемо прийняти щодо подальших кроків в аналізі або які рекомендації Ви б дали бізнесу виходячи з результатів.\n",
    "\n",
    "**Необхідно** поставити до даних _мінімум_ 10 бізнес-питань, при цьому зробивши   \n",
    "- початковий аналіз даних: їх розмір, структура, наявність пропущених значень та що з ними зробити, зміна типів даних там, де це доречно зробити (наприклад, якщо колонка завантажилась як тип string, а з опису видно, що там має бути float) - ця частина не входить у бізнес-питання, але є необхідною при аналізі даних.  \n",
    "- _мінімум_ 1 зведену таблицю або її аналог\n",
    "- _мінімум_ 5 візуалізацій, 3 з яких мають різний тип (наприклад, scatter plot, line plot, pair plot)\n",
    "\n",
    "В даному мінімум-наборі немає вимоги на використання SQL та тестування статистичних гіпотез. Але якщо Вам хочеться потренуватись, то Ви можете це зробити скориставшись pandasql, а також перевірити, чи є відмінність між двома групами у якомусь показнику з допомогою тестування статистичних гіпотез. Останнє найбільш доречно, якщо, наприклад, ми беремо чоловіків і жінок, бачимо що у них доволі схожі середні чеки, але наче відрізняються. Аби зрозуміти, чи різниця статистично значущою, можна це перевірити з допомогою тестування стат. гіпотез.\n",
    "\n",
    "Питанням може бути як \"Яка є кількість унікальних чеків в цьому наборі даних?\" так і щось значно складніше. Якщо у Вас складне питання, і аби відповісти на нього Ви мали відповісти на 3 менших питання (зробити якісь трансформації над даними, подивитись щось), то це рахується як 3 питання з 10 необхідних у завданні. Звісно ж Ви можете зробити більше за встановлений мінімум - все буде перевірено :)\n",
    "\n",
    "Тут є великий простір для Вашої фантазії. **Тому рекомендація:** виділіть на це завданні певну кількість годин (наприклад, середнє значення по тому, скільки у Вас займало виконання домашніх завдань в курсі, але я рекомендую не менше 2х годин роботи)\n",
    "і поставте собі за ціль всю роботу вмістити в цю кількість годин.\n",
    "Це дозволить Вам управляти своїм часом, пріоритизувати питання, які ставите до даних. І так часто є в роботі: коли ми не знаємо, що ми шукаємо, ми ставимо обмеження по часу (задача типу spike) і робимо все, що встигнемо, за цей час.\n",
    "\n",
    "По закінченню - завантажуємо ноутбук на git і додаємо посилання в здачу роботи в Eduflow. \n",
    "До речі, з часом, вам може захотітись доповнити цей ноутбук, коли арсенал ваших навичок по роботі з даними розшириться. І це буде чудова ідея!\n",
    "\n",
    "**Успіхів!**"
   ]
  }
 ],
 "metadata": {
  "kernelspec": {
   "display_name": "Python 3 (ipykernel)",
   "language": "python",
   "name": "python3"
  },
  "language_info": {
   "codemirror_mode": {
    "name": "ipython",
    "version": 3
   },
   "file_extension": ".py",
   "mimetype": "text/x-python",
   "name": "python",
   "nbconvert_exporter": "python",
   "pygments_lexer": "ipython3",
   "version": "3.10.9"
  },
  "toc": {
   "base_numbering": 1,
   "nav_menu": {},
   "number_sections": true,
   "sideBar": true,
   "skip_h1_title": false,
   "title_cell": "Table of Contents",
   "title_sidebar": "Contents",
   "toc_cell": false,
   "toc_position": {},
   "toc_section_display": true,
   "toc_window_display": false
  },
  "varInspector": {
   "cols": {
    "lenName": 16,
    "lenType": 16,
    "lenVar": 40
   },
   "kernels_config": {
    "python": {
     "delete_cmd_postfix": "",
     "delete_cmd_prefix": "del ",
     "library": "var_list.py",
     "varRefreshCmd": "print(var_dic_list())"
    },
    "r": {
     "delete_cmd_postfix": ") ",
     "delete_cmd_prefix": "rm(",
     "library": "var_list.r",
     "varRefreshCmd": "cat(var_dic_list()) "
    }
   },
   "types_to_exclude": [
    "module",
    "function",
    "builtin_function_or_method",
    "instance",
    "_Feature"
   ],
   "window_display": false
  }
 },
 "nbformat": 4,
 "nbformat_minor": 5
}
